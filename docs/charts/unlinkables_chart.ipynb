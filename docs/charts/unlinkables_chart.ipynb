{
 "cells": [
  {
   "attachments": {},
   "cell_type": "markdown",
   "metadata": {},
   "source": [
    "# `unlinkables_chart`\n",
    "\n",
    "!!! info \"At a glance\"\n",
    "    **Useful for:** Looking at how many records have insufficient information to be linked to themselves.\n",
    "\n",
    "    **API Documentation:** [unlinkables_chart()](../linker.md#splink.linker.Linker.unlinkables_chart)\n",
    "\n",
    "    **What is needed to generate the chart?** A trained Splink model"
   ]
  },
  {
   "attachments": {},
   "cell_type": "markdown",
   "metadata": {},
   "source": [
    "## Worked Example"
   ]
  },
  {
   "cell_type": "code",
   "execution_count": 1,
   "metadata": {},
   "outputs": [
    {
     "data": {
      "application/vnd.jupyter.widget-view+json": {
       "model_id": "256d9c064596491c952798167c08db35",
       "version_major": 2,
       "version_minor": 0
      },
      "text/plain": [
       "FloatProgress(value=0.0, layout=Layout(width='auto'), style=ProgressStyle(bar_color='black'))"
      ]
     },
     "metadata": {},
     "output_type": "display_data"
    },
    {
     "data": {
      "text/html": [
       "\n",
       "<style>\n",
       "  #altair-viz-8dab457455d047e68ae387ee109df2a5.vega-embed {\n",
       "    width: 100%;\n",
       "    display: flex;\n",
       "  }\n",
       "\n",
       "  #altair-viz-8dab457455d047e68ae387ee109df2a5.vega-embed details,\n",
       "  #altair-viz-8dab457455d047e68ae387ee109df2a5.vega-embed details summary {\n",
       "    position: relative;\n",
       "  }\n",
       "</style>\n",
       "<div id=\"altair-viz-8dab457455d047e68ae387ee109df2a5\"></div>\n",
       "<script type=\"text/javascript\">\n",
       "  var VEGA_DEBUG = (typeof VEGA_DEBUG == \"undefined\") ? {} : VEGA_DEBUG;\n",
       "  (function(spec, embedOpt){\n",
       "    let outputDiv = document.currentScript.previousElementSibling;\n",
       "    if (outputDiv.id !== \"altair-viz-8dab457455d047e68ae387ee109df2a5\") {\n",
       "      outputDiv = document.getElementById(\"altair-viz-8dab457455d047e68ae387ee109df2a5\");\n",
       "    }\n",
       "    const paths = {\n",
       "      \"vega\": \"https://cdn.jsdelivr.net/npm/vega@5?noext\",\n",
       "      \"vega-lib\": \"https://cdn.jsdelivr.net/npm/vega-lib?noext\",\n",
       "      \"vega-lite\": \"https://cdn.jsdelivr.net/npm/vega-lite@5.8.0?noext\",\n",
       "      \"vega-embed\": \"https://cdn.jsdelivr.net/npm/vega-embed@6?noext\",\n",
       "    };\n",
       "\n",
       "    function maybeLoadScript(lib, version) {\n",
       "      var key = `${lib.replace(\"-\", \"\")}_version`;\n",
       "      return (VEGA_DEBUG[key] == version) ?\n",
       "        Promise.resolve(paths[lib]) :\n",
       "        new Promise(function(resolve, reject) {\n",
       "          var s = document.createElement('script');\n",
       "          document.getElementsByTagName(\"head\")[0].appendChild(s);\n",
       "          s.async = true;\n",
       "          s.onload = () => {\n",
       "            VEGA_DEBUG[key] = version;\n",
       "            return resolve(paths[lib]);\n",
       "          };\n",
       "          s.onerror = () => reject(`Error loading script: ${paths[lib]}`);\n",
       "          s.src = paths[lib];\n",
       "        });\n",
       "    }\n",
       "\n",
       "    function showError(err) {\n",
       "      outputDiv.innerHTML = `<div class=\"error\" style=\"color:red;\">${err}</div>`;\n",
       "      throw err;\n",
       "    }\n",
       "\n",
       "    function displayChart(vegaEmbed) {\n",
       "      vegaEmbed(outputDiv, spec, embedOpt)\n",
       "        .catch(err => showError(`Javascript Error: ${err.message}<br>This usually means there's a typo in your chart specification. See the javascript console for the full traceback.`));\n",
       "    }\n",
       "\n",
       "    if(typeof define === \"function\" && define.amd) {\n",
       "      requirejs.config({paths});\n",
       "      require([\"vega-embed\"], displayChart, err => showError(`Error loading script: ${err.message}`));\n",
       "    } else {\n",
       "      maybeLoadScript(\"vega\", \"5\")\n",
       "        .then(() => maybeLoadScript(\"vega-lite\", \"5.8.0\"))\n",
       "        .then(() => maybeLoadScript(\"vega-embed\", \"6\"))\n",
       "        .catch(showError)\n",
       "        .then(() => displayChart(vegaEmbed));\n",
       "    }\n",
       "  })({\"config\": {\"view\": {\"continuousWidth\": 400, \"continuousHeight\": 300}}, \"layer\": [{\"mark\": {\"type\": \"line\"}, \"encoding\": {\"x\": {\"axis\": {\"format\": \"+\", \"title\": \"Threshold match weight\"}, \"field\": \"match_weight\", \"type\": \"quantitative\"}, \"y\": {\"axis\": {\"format\": \"%\", \"title\": \"Percentage of unlinkable records\"}, \"field\": \"cum_prop\", \"type\": \"quantitative\"}}}, {\"mark\": {\"type\": \"point\"}, \"encoding\": {\"opacity\": {\"condition\": {\"param\": \"x_match_weight_y_cum_prop_coords_of_mouse\", \"value\": 1, \"empty\": false}, \"value\": 0}, \"tooltip\": [{\"field\": \"match_weight\", \"format\": \"+.5\", \"title\": \"Match weight\", \"type\": \"quantitative\"}, {\"field\": \"match_probability\", \"format\": \".5\", \"title\": \"Match probability\", \"type\": \"quantitative\"}, {\"field\": \"cum_prop\", \"format\": \".3%\", \"title\": \"Proportion of unlinkable records\", \"type\": \"quantitative\"}], \"x\": {\"axis\": {\"title\": \"Threshold match weight\"}, \"field\": \"match_weight\", \"type\": \"quantitative\"}, \"y\": {\"axis\": {\"format\": \"%\", \"title\": \"Percentage of unlinkable records\"}, \"field\": \"cum_prop\", \"type\": \"quantitative\"}}, \"name\": \"mouse_coords\"}, {\"mark\": {\"type\": \"rule\", \"color\": \"gray\"}, \"encoding\": {\"x\": {\"field\": \"match_weight\", \"type\": \"quantitative\"}}, \"transform\": [{\"filter\": {\"param\": \"x_match_weight_y_cum_prop_coords_of_mouse\", \"empty\": false}}]}, {\"mark\": {\"type\": \"rule\", \"color\": \"gray\"}, \"encoding\": {\"y\": {\"field\": \"cum_prop\", \"type\": \"quantitative\"}}, \"transform\": [{\"filter\": {\"param\": \"x_match_weight_y_cum_prop_coords_of_mouse\", \"empty\": false}}]}], \"data\": {\"name\": \"data-7fb06acd7ddeb4daba3c22ccfd627402\"}, \"height\": 400, \"params\": [{\"name\": \"x_match_weight_y_cum_prop_coords_of_mouse\", \"select\": {\"type\": \"point\", \"fields\": [\"match_weight\", \"cum_prop\"], \"nearest\": true, \"on\": \"mouseover\"}, \"views\": [\"mouse_coords\"]}], \"title\": {\"text\": \"Unlinkable records\", \"subtitle\": \"Records with insufficient information to exceed a given match threshold\"}, \"width\": 400, \"$schema\": \"https://vega.github.io/schema/vega-lite/v5.9.3.json\", \"datasets\": {\"data-7fb06acd7ddeb4daba3c22ccfd627402\": [{\"match_weight\": -5.49, \"match_probability\": 0.02184, \"prop\": 0.0020000000949949026, \"cum_prop\": 0.0020000000949949026}, {\"match_weight\": -0.46, \"match_probability\": 0.42091, \"prop\": 0.0010000000474974513, \"cum_prop\": 0.003000000142492354}, {\"match_weight\": 0.92, \"match_probability\": 0.65366, \"prop\": 0.003000000026077032, \"cum_prop\": 0.006000000168569386}, {\"match_weight\": 0.98, \"match_probability\": 0.66418, \"prop\": 0.007000000216066837, \"cum_prop\": 0.013000000384636223}, {\"match_weight\": 1.03, \"match_probability\": 0.67053, \"prop\": 0.0010000000474974513, \"cum_prop\": 0.014000000432133675}, {\"match_weight\": 2.31, \"match_probability\": 0.83255, \"prop\": 0.004999999888241291, \"cum_prop\": 0.019000000320374966}, {\"match_weight\": 2.38, \"match_probability\": 0.83897, \"prop\": 0.0020000000949949026, \"cum_prop\": 0.02100000041536987}, {\"match_weight\": 2.5, \"match_probability\": 0.84934, \"prop\": 0.006000000052154064, \"cum_prop\": 0.027000000467523932}, {\"match_weight\": 3.35, \"match_probability\": 0.91052, \"prop\": 0.003000000026077032, \"cum_prop\": 0.030000000493600965}, {\"match_weight\": 3.89, \"match_probability\": 0.93691, \"prop\": 0.00800000037997961, \"cum_prop\": 0.038000000873580575}, {\"match_weight\": 4.49, \"match_probability\": 0.95751, \"prop\": 0.003000000026077032, \"cum_prop\": 0.04100000089965761}, {\"match_weight\": 4.7, \"match_probability\": 0.96305, \"prop\": 0.0010000000474974513, \"cum_prop\": 0.04200000094715506}, {\"match_weight\": 5.42, \"match_probability\": 0.97723, \"prop\": 0.0010000000474974513, \"cum_prop\": 0.04300000099465251}, {\"match_weight\": 5.58, \"match_probability\": 0.9795, \"prop\": 0.0010000000474974513, \"cum_prop\": 0.04400000104214996}, {\"match_weight\": 5.66, \"match_probability\": 0.98062, \"prop\": 0.0010000000474974513, \"cum_prop\": 0.04500000108964741}, {\"match_weight\": 5.73, \"match_probability\": 0.98149, \"prop\": 0.0020000000949949026, \"cum_prop\": 0.047000001184642315}, {\"match_weight\": 5.75, \"match_probability\": 0.98174, \"prop\": 0.0020000000949949026, \"cum_prop\": 0.04900000127963722}, {\"match_weight\": 5.82, \"match_probability\": 0.98256, \"prop\": 0.0010000000474974513, \"cum_prop\": 0.05000000132713467}, {\"match_weight\": 5.94, \"match_probability\": 0.98398, \"prop\": 0.0010000000474974513, \"cum_prop\": 0.05100000137463212}, {\"match_weight\": 6.01, \"match_probability\": 0.98467, \"prop\": 0.0010000000474974513, \"cum_prop\": 0.05200000142212957}, {\"match_weight\": 6.12, \"match_probability\": 0.98578, \"prop\": 0.0010000000474974513, \"cum_prop\": 0.05300000146962702}, {\"match_weight\": 6.16, \"match_probability\": 0.98624, \"prop\": 0.0010000000474974513, \"cum_prop\": 0.054000001517124474}, {\"match_weight\": 6.58, \"match_probability\": 0.98964, \"prop\": 0.0010000000474974513, \"cum_prop\": 0.055000001564621925}, {\"match_weight\": 6.65, \"match_probability\": 0.99011, \"prop\": 0.003000000026077032, \"cum_prop\": 0.05800000159069896}, {\"match_weight\": 6.82, \"match_probability\": 0.9912, \"prop\": 0.0010000000474974513, \"cum_prop\": 0.05900000163819641}, {\"match_weight\": 6.93, \"match_probability\": 0.99189, \"prop\": 0.0010000000474974513, \"cum_prop\": 0.06000000168569386}, {\"match_weight\": 6.94, \"match_probability\": 0.99193, \"prop\": 0.003000000026077032, \"cum_prop\": 0.06300000171177089}, {\"match_weight\": 7.01, \"match_probability\": 0.99229, \"prop\": 0.0010000000474974513, \"cum_prop\": 0.06400000175926834}, {\"match_weight\": 7.16, \"match_probability\": 0.99304, \"prop\": 0.0010000000474974513, \"cum_prop\": 0.0650000018067658}, {\"match_weight\": 7.23, \"match_probability\": 0.99339, \"prop\": 0.0010000000474974513, \"cum_prop\": 0.06600000185426325}, {\"match_weight\": 7.24, \"match_probability\": 0.99343, \"prop\": 0.0020000000949949026, \"cum_prop\": 0.06800000194925815}, {\"match_weight\": 7.33, \"match_probability\": 0.99381, \"prop\": 0.0010000000474974513, \"cum_prop\": 0.0690000019967556}, {\"match_weight\": 7.39, \"match_probability\": 0.99405, \"prop\": 0.023000000044703484, \"cum_prop\": 0.09200000204145908}, {\"match_weight\": 7.49, \"match_probability\": 0.99448, \"prop\": 0.0010000000474974513, \"cum_prop\": 0.09300000208895653}, {\"match_weight\": 7.52, \"match_probability\": 0.99458, \"prop\": 0.0020000000949949026, \"cum_prop\": 0.09500000218395144}, {\"match_weight\": 7.63, \"match_probability\": 0.99497, \"prop\": 0.0010000000474974513, \"cum_prop\": 0.09600000223144889}, {\"match_weight\": 7.82, \"match_probability\": 0.99558, \"prop\": 0.0010000000474974513, \"cum_prop\": 0.09700000227894634}, {\"match_weight\": 8.33, \"match_probability\": 0.9969, \"prop\": 0.0010000000474974513, \"cum_prop\": 0.09800000232644379}, {\"match_weight\": 8.78, \"match_probability\": 0.99773, \"prop\": 0.020999999716877937, \"cum_prop\": 0.11900000204332173}, {\"match_weight\": 8.82, \"match_probability\": 0.99779, \"prop\": 0.0020000000949949026, \"cum_prop\": 0.12100000213831663}, {\"match_weight\": 8.9, \"match_probability\": 0.99791, \"prop\": 0.01899999938905239, \"cum_prop\": 0.14000000152736902}, {\"match_weight\": 8.96, \"match_probability\": 0.998, \"prop\": 0.014999999664723873, \"cum_prop\": 0.1550000011920929}, {\"match_weight\": 9.33, \"match_probability\": 0.99845, \"prop\": 0.0010000000474974513, \"cum_prop\": 0.15600000123959035}, {\"match_weight\": 9.75, \"match_probability\": 0.99884, \"prop\": 0.006000000052154064, \"cum_prop\": 0.1620000012917444}, {\"match_weight\": 9.82, \"match_probability\": 0.99889, \"prop\": 0.006000000052154064, \"cum_prop\": 0.16800000134389848}, {\"match_weight\": 10.29, \"match_probability\": 0.9992, \"prop\": 0.01899999938905239, \"cum_prop\": 0.18700000073295087}, {\"match_weight\": 10.33, \"match_probability\": 0.99922, \"prop\": 0.0010000000474974513, \"cum_prop\": 0.18800000078044832}, {\"match_weight\": 10.36, \"match_probability\": 0.99924, \"prop\": 0.019999999552965164, \"cum_prop\": 0.20800000033341348}, {\"match_weight\": 10.9, \"match_probability\": 0.99948, \"prop\": 0.00800000037997961, \"cum_prop\": 0.2160000007133931}, {\"match_weight\": 11.17, \"match_probability\": 0.99957, \"prop\": 0.004000000189989805, \"cum_prop\": 0.2200000009033829}, {\"match_weight\": 11.33, \"match_probability\": 0.99961, \"prop\": 0.003000000026077032, \"cum_prop\": 0.22300000092945993}, {\"match_weight\": 11.83, \"match_probability\": 0.99972, \"prop\": 0.003000000026077032, \"cum_prop\": 0.22600000095553696}, {\"match_weight\": 12.05, \"match_probability\": 0.99976, \"prop\": 0.0020000000949949026, \"cum_prop\": 0.22800000105053186}, {\"match_weight\": 12.22, \"match_probability\": 0.99979, \"prop\": 0.003000000026077032, \"cum_prop\": 0.2310000010766089}, {\"match_weight\": 12.47, \"match_probability\": 0.99982, \"prop\": 0.014999999664723873, \"cum_prop\": 0.24600000074133277}, {\"match_weight\": 12.52, \"match_probability\": 0.99983, \"prop\": 0.006000000052154064, \"cum_prop\": 0.25200000079348683}, {\"match_weight\": 12.63, \"match_probability\": 0.99984, \"prop\": 0.004000000189989805, \"cum_prop\": 0.25600000098347664}, {\"match_weight\": 12.68, \"match_probability\": 0.99985, \"prop\": 0.0020000000949949026, \"cum_prop\": 0.25800000107847154}, {\"match_weight\": 12.75, \"match_probability\": 0.99986, \"prop\": 0.0010000000474974513, \"cum_prop\": 0.259000001125969}, {\"match_weight\": 12.9, \"match_probability\": 0.99987, \"prop\": 0.004000000189989805, \"cum_prop\": 0.2630000013159588}, {\"match_weight\": 13.34, \"match_probability\": 0.9999, \"prop\": 0.007000000216066837, \"cum_prop\": 0.27000000153202564}, {\"match_weight\": 13.41, \"match_probability\": 0.99991, \"prop\": 0.008999999612569809, \"cum_prop\": 0.27900000114459544}, {\"match_weight\": 13.64, \"match_probability\": 0.99992, \"prop\": 0.01600000075995922, \"cum_prop\": 0.29500000190455467}, {\"match_weight\": 13.9, \"match_probability\": 0.99993, \"prop\": 0.014999999664723873, \"cum_prop\": 0.31000000156927854}, {\"match_weight\": 14.14, \"match_probability\": 0.99994, \"prop\": 0.024000000208616257, \"cum_prop\": 0.3340000017778948}, {\"match_weight\": 14.41, \"match_probability\": 0.99995, \"prop\": 0.008999999612569809, \"cum_prop\": 0.3430000013904646}, {\"match_weight\": 14.8, \"match_probability\": 0.99996, \"prop\": 0.020999999716877937, \"cum_prop\": 0.36400000110734254}, {\"match_weight\": 15.22, \"match_probability\": 0.99997, \"prop\": 0.01899999938905239, \"cum_prop\": 0.38300000049639493}, {\"match_weight\": 15.73, \"match_probability\": 0.99998, \"prop\": 0.11800000071525574, \"cum_prop\": 0.5010000012116507}, {\"match_weight\": 16.8, \"match_probability\": 0.99999, \"prop\": 0.13099999725818634, \"cum_prop\": 0.631999998469837}]}}, {\"mode\": \"vega-lite\"});\n",
       "</script>"
      ],
      "text/plain": [
       "alt.LayerChart(...)"
      ]
     },
     "execution_count": 1,
     "metadata": {},
     "output_type": "execute_result"
    }
   ],
   "source": [
    "from splink.duckdb.linker import DuckDBLinker\n",
    "import splink.duckdb.comparison_library as cl\n",
    "import splink.duckdb.comparison_template_library as ctl\n",
    "from splink.duckdb.blocking_rule_library import block_on\n",
    "from splink.datasets import splink_datasets\n",
    "import logging, sys\n",
    "logging.disable(sys.maxsize)\n",
    "\n",
    "df = splink_datasets.fake_1000\n",
    "\n",
    "settings = {\n",
    "    \"link_type\": \"dedupe_only\",\n",
    "    \"blocking_rules_to_generate_predictions\": [\n",
    "        block_on(\"first_name\"),\n",
    "        block_on(\"surname\"),\n",
    "    ],\n",
    "    \"comparisons\": [\n",
    "        ctl.name_comparison(\"first_name\"),\n",
    "        ctl.name_comparison(\"surname\"),\n",
    "        ctl.date_comparison(\"dob\", cast_strings_to_date=True),\n",
    "        cl.exact_match(\"city\", term_frequency_adjustments=True),\n",
    "        ctl.email_comparison(\"email\", include_username_fuzzy_level=False),\n",
    "    ],\n",
    "}\n",
    "\n",
    "linker = DuckDBLinker(df, settings)\n",
    "linker.estimate_u_using_random_sampling(max_pairs=1e6)\n",
    "\n",
    "blocking_rule_for_training = block_on([\"first_name\", \"surname\"])\n",
    "\n",
    "linker.estimate_parameters_using_expectation_maximisation(blocking_rule_for_training)\n",
    "\n",
    "blocking_rule_for_training = block_on(\"dob\")\n",
    "linker.estimate_parameters_using_expectation_maximisation(blocking_rule_for_training)\n",
    "\n",
    "linker.unlinkables_chart()\n"
   ]
  },
  {
   "attachments": {},
   "cell_type": "markdown",
   "metadata": {},
   "source": [
    "### What the chart shows\n",
    "\n",
    "The `unlinkables_chart` shows the proportion of records with insufficient information to be matched to themselves at differing match thresholds.\n",
    "\n",
    "??? note \"What the chart tooltip shows\"\n",
    "\n",
    "    ![](./img/unlinkables_chart_tooltip.png)\n",
    "\n",
    "    This tooltip shows a number of statistics based on the match weight of the selected point of the line, including:\n",
    "\n",
    "    - The chosen match weight and corresponding match probability.\n",
    "    - The proportion of records of records that cannot be linked to themselves given the chosen match weight threshold for a match."
   ]
  },
  {
   "attachments": {},
   "cell_type": "markdown",
   "metadata": {},
   "source": [
    "<hr>"
   ]
  },
  {
   "attachments": {},
   "cell_type": "markdown",
   "metadata": {},
   "source": [
    "### How to interpret the chart\n",
    "\n",
    "This chart gives an indication of both data quality and/or model predictiveness within a Splink model. If a high proportion of records are not linkable to themselves at a low match threshold (e.g. 0 match weight/50% probability) we can conclude that either/or:\n",
    "\n",
    "- the data quality is low enough such that a significant proportion of records are unable to be linked to themselves\n",
    "- the parameters of the Splink model are such that features have not been assigned enough weight, and therefore will not perform well\n",
    "\n",
    "This chart also gives an indication of the number of False Negatives (i.e. missed links) at a given threshold, assuming sufficient data quality. For example:\n",
    "\n",
    "- we know that a record should be linked to itself, so seeing that a match weight $\\approx$ 10 gives 16% of records unable to link to themselves\n",
    "- exact matches generally provide the strongest matches, therefore, we can expect that any \"fuzzy\" matches to have lower match scores. As a result, we can deduce that the propoertion of False Negatives will be higher than 16%.\n"
   ]
  },
  {
   "attachments": {},
   "cell_type": "markdown",
   "metadata": {},
   "source": [
    "<hr>"
   ]
  },
  {
   "attachments": {},
   "cell_type": "markdown",
   "metadata": {},
   "source": [
    "### Actions to take as a result of the chart\n",
    "\n",
    "If the level of unlinkable records is extremely high at low match weight thresholds, you have a poorly performing model. This may be an issue that can be resolved by tweaking the models comparisons, but if the poor performance is primarily down to poor data quality, there is very little that can be done to improve the model.\n",
    "\n",
    "When interpretted as an indicator of False Negatives, this chart can be used to establish an upper bound for match weight, depending on the propensity for False Negatives in the particular use case."
   ]
  }
 ],
 "metadata": {
  "kernelspec": {
   "display_name": "base",
   "language": "python",
   "name": "python3"
  },
  "language_info": {
   "codemirror_mode": {
    "name": "ipython",
    "version": 3
   },
   "file_extension": ".py",
   "mimetype": "text/x-python",
   "name": "python",
   "nbconvert_exporter": "python",
   "pygments_lexer": "ipython3",
   "version": "3.9.12"
  },
  "orig_nbformat": 4
 },
 "nbformat": 4,
 "nbformat_minor": 2
}
