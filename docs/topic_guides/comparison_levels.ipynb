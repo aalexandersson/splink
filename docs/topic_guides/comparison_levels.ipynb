{
 "cells": [
  {
   "attachments": {},
   "cell_type": "markdown",
   "metadata": {},
   "source": [
    "# Choosing Comparison Levels\n",
    "\n",
    "When building a Splink model, one of the most important aspects is defining the [`Comparisons`](../comparison.md) and [`Comparison Levels`](../comparison_level.md) that the model will train on. Each `Comparison Level` within a `Comparison` should contain a different amount of evidence that two records are a match, which the model can assign a Match Weight to. \n",
    "\n",
    "`Comparison`s follow the structure below:\n",
    "\n",
    "```\n",
    "Data Linking Model\n",
    "├─-- Comparison: Date of birth\n",
    "│    ├─-- ComparisonLevel: Exact match\n",
    "│    ├─-- ComparisonLevel: Up to one character difference\n",
    "│    ├─-- ComparisonLevel: Up to three character difference\n",
    "│    ├─-- ComparisonLevel: All other\n",
    "├─-- Comparison: Name\n",
    "│    ├─-- ComparisonLevel: Exact match on first name and surname\n",
    "│    ├─-- ComparisonLevel: Exact match on first name\n",
    "│    ├─-- etc.\n",
    "```\n",
    "\n"
   ]
  },
  {
   "attachments": {},
   "cell_type": "markdown",
   "metadata": {},
   "source": [
    "## How records get assigned to Comparison Levels\n",
    "\n",
    "When assigning a record pair to a `Comparison Level`, Splink runs sequentially through each level and assigns the record pair to the first level that they satisfy the condition of. As a result, when defining a `Comparison`, care must be taken on order of the `Comparison Level`s.\n",
    "\n",
    "For example, if we construct two simple comparisons for a `name` column, both with an exact match and a fuzzy match ([levenshtein](./comparators.md#levenshtein-distance)) level:"
   ]
  },
  {
   "cell_type": "code",
   "execution_count": 1,
   "metadata": {},
   "outputs": [],
   "source": [
    "import splink.duckdb.comparison_level_library as cll\n",
    "\n",
    "comparison_correct_order = {\n",
    "    \"output_column_name\": \"name\",\n",
    "    \"comparison_levels\": [\n",
    "        cll.null_level(\"name\"),\n",
    "        cll.exact_match_level(\"name\"),\n",
    "        cll.levenshtein_level(\"name\", 2),\n",
    "        cll.else_level(),\n",
    "    ],\n",
    "}\n",
    "\n",
    "comparison_incorrect_order = {\n",
    "    \"output_column_name\": \"name\",\n",
    "    \"comparison_levels\": [\n",
    "        cll.null_level(\"name\"),\n",
    "        cll.levenshtein_level(\"name\", 2),\n",
    "        cll.exact_match_level(\"name\"),\n",
    "        cll.else_level(),\n",
    "    ],\n",
    "}"
   ]
  },
  {
   "attachments": {},
   "cell_type": "markdown",
   "metadata": {},
   "source": [
    "Now, consider a list of names to consider and we can use the `get_comparison_levels` function from the `comparison_helpers` library to see how each combination of these names are assigned to a `Comparison Level` for our two `Comparison`s."
   ]
  },
  {
   "cell_type": "code",
   "execution_count": 6,
   "metadata": {},
   "outputs": [
    {
     "data": {
      "text/html": [
       "<div>\n",
       "<style scoped>\n",
       "    .dataframe tbody tr th:only-of-type {\n",
       "        vertical-align: middle;\n",
       "    }\n",
       "\n",
       "    .dataframe tbody tr th {\n",
       "        vertical-align: top;\n",
       "    }\n",
       "\n",
       "    .dataframe thead th {\n",
       "        text-align: right;\n",
       "    }\n",
       "</style>\n",
       "<table border=\"1\" class=\"dataframe\">\n",
       "  <thead>\n",
       "    <tr style=\"text-align: right;\">\n",
       "      <th></th>\n",
       "      <th></th>\n",
       "      <th>name</th>\n",
       "    </tr>\n",
       "    <tr>\n",
       "      <th>comparison_level</th>\n",
       "      <th>gamma</th>\n",
       "      <th></th>\n",
       "    </tr>\n",
       "  </thead>\n",
       "  <tbody>\n",
       "    <tr>\n",
       "      <th>Exact match</th>\n",
       "      <th>2</th>\n",
       "      <td>[[Julia, Julia]]</td>\n",
       "    </tr>\n",
       "    <tr>\n",
       "      <th>Levenshtein &lt;= 2</th>\n",
       "      <th>1</th>\n",
       "      <td>[[Julia, Julie], [Julia, Julie]]</td>\n",
       "    </tr>\n",
       "    <tr>\n",
       "      <th>All other comparisons</th>\n",
       "      <th>0</th>\n",
       "      <td>[[Julia, Rachel], [Julia, Rachel], [Julie, Rac...</td>\n",
       "    </tr>\n",
       "    <tr>\n",
       "      <th>Null</th>\n",
       "      <th>-1</th>\n",
       "      <td>[]</td>\n",
       "    </tr>\n",
       "  </tbody>\n",
       "</table>\n",
       "</div>"
      ],
      "text/plain": [
       "                                                                          name\n",
       "comparison_level      gamma                                                   \n",
       "Exact match            2                                      [[Julia, Julia]]\n",
       "Levenshtein <= 2       1                      [[Julia, Julie], [Julia, Julie]]\n",
       "All other comparisons  0     [[Julia, Rachel], [Julia, Rachel], [Julie, Rac...\n",
       "Null                  -1                                                    []"
      ]
     },
     "execution_count": 6,
     "metadata": {},
     "output_type": "execute_result"
    }
   ],
   "source": [
    "import splink.comparison_helpers as ch\n",
    "\n",
    "names = [\"Julia\", \"Julia\", \"Julie\", \"Rachel\"]\n",
    "\n",
    "ch.get_comparison_levels(names, comparison_correct_order)"
   ]
  },
  {
   "cell_type": "code",
   "execution_count": 3,
   "metadata": {},
   "outputs": [
    {
     "data": {
      "text/html": [
       "<div>\n",
       "<style scoped>\n",
       "    .dataframe tbody tr th:only-of-type {\n",
       "        vertical-align: middle;\n",
       "    }\n",
       "\n",
       "    .dataframe tbody tr th {\n",
       "        vertical-align: top;\n",
       "    }\n",
       "\n",
       "    .dataframe thead th {\n",
       "        text-align: right;\n",
       "    }\n",
       "</style>\n",
       "<table border=\"1\" class=\"dataframe\">\n",
       "  <thead>\n",
       "    <tr style=\"text-align: right;\">\n",
       "      <th></th>\n",
       "      <th></th>\n",
       "      <th>name</th>\n",
       "    </tr>\n",
       "    <tr>\n",
       "      <th>comparison_level</th>\n",
       "      <th>gamma</th>\n",
       "      <th></th>\n",
       "    </tr>\n",
       "  </thead>\n",
       "  <tbody>\n",
       "    <tr>\n",
       "      <th>Levenshtein &lt;= 2</th>\n",
       "      <th>2</th>\n",
       "      <td>[[Julia, Julia], [Julia, Julie], [Julia, Julie]]</td>\n",
       "    </tr>\n",
       "    <tr>\n",
       "      <th>Exact match</th>\n",
       "      <th>1</th>\n",
       "      <td>[]</td>\n",
       "    </tr>\n",
       "    <tr>\n",
       "      <th>All other comparisons</th>\n",
       "      <th>0</th>\n",
       "      <td>[[Julia, Rachel], [Julia, Rachel], [Julie, Rac...</td>\n",
       "    </tr>\n",
       "    <tr>\n",
       "      <th>Null</th>\n",
       "      <th>-1</th>\n",
       "      <td>[]</td>\n",
       "    </tr>\n",
       "  </tbody>\n",
       "</table>\n",
       "</div>"
      ],
      "text/plain": [
       "                                                                          name\n",
       "comparison_level      gamma                                                   \n",
       "Levenshtein <= 2       2      [[Julia, Julia], [Julia, Julie], [Julia, Julie]]\n",
       "Exact match            1                                                    []\n",
       "All other comparisons  0     [[Julia, Rachel], [Julia, Rachel], [Julie, Rac...\n",
       "Null                  -1                                                    []"
      ]
     },
     "execution_count": 3,
     "metadata": {},
     "output_type": "execute_result"
    }
   ],
   "source": [
    "ch.get_comparison_levels(names, comparison_incorrect_order)"
   ]
  },
  {
   "attachments": {},
   "cell_type": "markdown",
   "metadata": {},
   "source": [
    "So, when `Levenshtein <= 2` is the first level, exact matches will be captured (as two identical strings have a `Levenshtein = 0`) in that level as opposed to the `Exact match` level. As a result, the `Exact match` level will never have any records assigned to it and it will never be trained within the Splink model - making it redundant.\n",
    "\n",
    "In general, given the ordered nature of `Comparison Level`s, it is recommended to order levels starting with those which show the greatest similarity between features then working down to the least similar."
   ]
  },
  {
   "attachments": {},
   "cell_type": "markdown",
   "metadata": {},
   "source": [
    "Note, the `Comparison Levels` are indexed with `gamma` values, which are used behind the scenes in Splink. For example, you can see the gamma values for each `Comparison` when looking at the [Comparison Viewer Dashboard](../demos/06_Visualising_predictions.ipynb#comparison-viewer-dashboard)."
   ]
  }
 ],
 "metadata": {
  "kernelspec": {
   "display_name": "base",
   "language": "python",
   "name": "python3"
  },
  "language_info": {
   "codemirror_mode": {
    "name": "ipython",
    "version": 3
   },
   "file_extension": ".py",
   "mimetype": "text/x-python",
   "name": "python",
   "nbconvert_exporter": "python",
   "pygments_lexer": "ipython3",
   "version": "3.9.12"
  },
  "orig_nbformat": 4
 },
 "nbformat": 4,
 "nbformat_minor": 2
}
