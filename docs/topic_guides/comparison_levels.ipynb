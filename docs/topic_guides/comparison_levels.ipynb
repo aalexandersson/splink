{
 "cells": [
  {
   "attachments": {},
   "cell_type": "markdown",
   "metadata": {},
   "source": [
    "# Choosing Comparison Levels\n",
    "\n",
    "When building a Splink model, one of the most important aspects is defining the [`Comparisons`](../comparison.md) and [`Comparison Levels`](../comparison_level.md) that the model will train on. Each `Comparison Level` within a `Comparison` should contain a different amount of evidence that two records are a match, which the model can assign a Match Weight to. \n"
   ]
  },
  {
   "attachments": {},
   "cell_type": "markdown",
   "metadata": {},
   "source": [
    "## How Comparison Levels work\n",
    "\n"
   ]
  },
  {
   "attachments": {},
   "cell_type": "markdown",
   "metadata": {},
   "source": [
    "## How records get assigned to Comparison Levels\n",
    "\n",
    "When assigning a record pair to a `Comparison Level`, Splink runs sequentially through each level and assigns the record pair to the first level that they satisfy the condition of. As a result, when defining a `Comparison`, care must be taken on order of the `Comparison Level`s.\n",
    "\n",
    "For example, if we construct two simple comparisons for a `name` column, both with an exact match and a fuzzy match ([levenshtein](./comparators.md#levenshtein-distance)) level:"
   ]
  },
  {
   "cell_type": "code",
   "execution_count": 1,
   "metadata": {},
   "outputs": [],
   "source": [
    "import splink.duckdb.comparison_level_library as cll\n",
    "\n",
    "comparison_correct_order = {\n",
    "    \"output_column_name\": \"name\",\n",
    "    \"comparison_levels\": [\n",
    "        cll.null_level(\"name\"),\n",
    "        cll.exact_match_level(\"name\"),\n",
    "        cll.levenshtein_level(\"name\", 2),\n",
    "        cll.else_level(),\n",
    "    ],\n",
    "}\n",
    "\n",
    "comparisons_incorrect_order = {\n",
    "    \"output_column_name\": \"name\",\n",
    "    \"comparison_levels\": [\n",
    "        cll.null_level(\"name\"),\n",
    "        cll.levenshtein_level(\"name\", 2),\n",
    "        cll.exact_match_level(\"name\"),\n",
    "        cll.else_level(),\n",
    "    ],\n",
    "}"
   ]
  },
  {
   "attachments": {},
   "cell_type": "markdown",
   "metadata": {},
   "source": [
    "Now, consider a list of names to consider and we can use the `get_comparison_levels` function from the comparison_hepers library to see how each combination of these names are assigned to a `Comparison Level` for our two `Comparison`s"
   ]
  },
  {
   "cell_type": "code",
   "execution_count": 2,
   "metadata": {},
   "outputs": [
    {
     "name": "stderr",
     "output_type": "stream",
     "text": [
      "/Users/rosskennedy/splink/splink/comparison_helpers.py:5: SplinkDeprecated: Importing directly from `splink.duckdb.duckdb_linker` is deprecated and will be removed in Splink v4. Please import from `splink.duckdb.linker` going forward.\n",
      "  from splink.duckdb.duckdb_linker import DuckDBLinker\n"
     ]
    },
    {
     "ename": "KeyError",
     "evalue": "'is_null_level'",
     "output_type": "error",
     "traceback": [
      "\u001b[0;31m---------------------------------------------------------------------------\u001b[0m",
      "\u001b[0;31mKeyError\u001b[0m                                  Traceback (most recent call last)",
      "File \u001b[0;32m~/Library/r-miniconda/lib/python3.9/site-packages/pandas/core/indexes/base.py:3803\u001b[0m, in \u001b[0;36mIndex.get_loc\u001b[0;34m(self, key, method, tolerance)\u001b[0m\n\u001b[1;32m   3802\u001b[0m \u001b[39mtry\u001b[39;00m:\n\u001b[0;32m-> 3803\u001b[0m     \u001b[39mreturn\u001b[39;00m \u001b[39mself\u001b[39;49m\u001b[39m.\u001b[39;49m_engine\u001b[39m.\u001b[39;49mget_loc(casted_key)\n\u001b[1;32m   3804\u001b[0m \u001b[39mexcept\u001b[39;00m \u001b[39mKeyError\u001b[39;00m \u001b[39mas\u001b[39;00m err:\n",
      "File \u001b[0;32m~/Library/r-miniconda/lib/python3.9/site-packages/pandas/_libs/index.pyx:138\u001b[0m, in \u001b[0;36mpandas._libs.index.IndexEngine.get_loc\u001b[0;34m()\u001b[0m\n",
      "File \u001b[0;32m~/Library/r-miniconda/lib/python3.9/site-packages/pandas/_libs/index.pyx:165\u001b[0m, in \u001b[0;36mpandas._libs.index.IndexEngine.get_loc\u001b[0;34m()\u001b[0m\n",
      "File \u001b[0;32mpandas/_libs/hashtable_class_helper.pxi:5745\u001b[0m, in \u001b[0;36mpandas._libs.hashtable.PyObjectHashTable.get_item\u001b[0;34m()\u001b[0m\n",
      "File \u001b[0;32mpandas/_libs/hashtable_class_helper.pxi:5753\u001b[0m, in \u001b[0;36mpandas._libs.hashtable.PyObjectHashTable.get_item\u001b[0;34m()\u001b[0m\n",
      "\u001b[0;31mKeyError\u001b[0m: 'is_null_level'",
      "\nThe above exception was the direct cause of the following exception:\n",
      "\u001b[0;31mKeyError\u001b[0m                                  Traceback (most recent call last)",
      "\u001b[1;32m/Users/rosskennedy/splink/docs/topic_guides/comparison_levels.ipynb Cell 6\u001b[0m in \u001b[0;36m5\n\u001b[1;32m      <a href='vscode-notebook-cell:/Users/rosskennedy/splink/docs/topic_guides/comparison_levels.ipynb#W6sZmlsZQ%3D%3D?line=0'>1</a>\u001b[0m \u001b[39mimport\u001b[39;00m \u001b[39msplink\u001b[39;00m\u001b[39m.\u001b[39;00m\u001b[39mcomparison_helpers\u001b[39;00m \u001b[39mas\u001b[39;00m \u001b[39mch\u001b[39;00m\n\u001b[1;32m      <a href='vscode-notebook-cell:/Users/rosskennedy/splink/docs/topic_guides/comparison_levels.ipynb#W6sZmlsZQ%3D%3D?line=2'>3</a>\u001b[0m names \u001b[39m=\u001b[39m [\u001b[39m\"\u001b[39m\u001b[39mJulia\u001b[39m\u001b[39m\"\u001b[39m, \u001b[39m\"\u001b[39m\u001b[39mJulia\u001b[39m\u001b[39m\"\u001b[39m, \u001b[39m\"\u001b[39m\u001b[39mJulie\u001b[39m\u001b[39m\"\u001b[39m, \u001b[39m\"\u001b[39m\u001b[39mRachel\u001b[39m\u001b[39m\"\u001b[39m]\n\u001b[0;32m----> <a href='vscode-notebook-cell:/Users/rosskennedy/splink/docs/topic_guides/comparison_levels.ipynb#W6sZmlsZQ%3D%3D?line=4'>5</a>\u001b[0m ch\u001b[39m.\u001b[39mget_comparison_levels(names, comparison_correct_order)\n",
      "File \u001b[0;32m~/splink/splink/comparison_helpers.py:93\u001b[0m, in \u001b[0;36mget_comparison_levels\u001b[0;34m(values_to_compare, comparison)\u001b[0m\n\u001b[1;32m     91\u001b[0m labels \u001b[39m=\u001b[39m pd\u001b[39m.\u001b[39mDataFrame(comparison_dict[\u001b[39m\"\u001b[39m\u001b[39mcomparison_levels\u001b[39m\u001b[39m\"\u001b[39m])\n\u001b[1;32m     92\u001b[0m labels[\u001b[39m\"\u001b[39m\u001b[39mgamma\u001b[39m\u001b[39m\"\u001b[39m] \u001b[39m=\u001b[39m labels\u001b[39m.\u001b[39mindex[::\u001b[39m-\u001b[39m\u001b[39m1\u001b[39m]\n\u001b[0;32m---> 93\u001b[0m labels\u001b[39m.\u001b[39mloc[labels[\u001b[39m\"\u001b[39;49m\u001b[39mis_null_level\u001b[39;49m\u001b[39m\"\u001b[39;49m] \u001b[39mis\u001b[39;00m \u001b[39mTrue\u001b[39;00m, \u001b[39m\"\u001b[39m\u001b[39mgamma\u001b[39m\u001b[39m\"\u001b[39m] \u001b[39m=\u001b[39m \u001b[39m-\u001b[39m\u001b[39m1\u001b[39m\n\u001b[1;32m     95\u001b[0m comp_df \u001b[39m=\u001b[39m pd\u001b[39m.\u001b[39mmerge(\n\u001b[1;32m     96\u001b[0m     df,\n\u001b[1;32m     97\u001b[0m     labels[[\u001b[39m\"\u001b[39m\u001b[39mlabel_for_charts\u001b[39m\u001b[39m\"\u001b[39m, \u001b[39m\"\u001b[39m\u001b[39mgamma\u001b[39m\u001b[39m\"\u001b[39m]],\n\u001b[0;32m   (...)\u001b[0m\n\u001b[1;32m    100\u001b[0m     how\u001b[39m=\u001b[39m\u001b[39m\"\u001b[39m\u001b[39mright\u001b[39m\u001b[39m\"\u001b[39m,\n\u001b[1;32m    101\u001b[0m )\n\u001b[1;32m    102\u001b[0m comp_df \u001b[39m=\u001b[39m comp_df[[\u001b[39m\"\u001b[39m\u001b[39mlabel_for_charts\u001b[39m\u001b[39m\"\u001b[39m, \u001b[39m\"\u001b[39m\u001b[39mgamma\u001b[39m\u001b[39m\"\u001b[39m, \u001b[39mf\u001b[39m\u001b[39m\"\u001b[39m\u001b[39m{\u001b[39;00mcomparison_col\u001b[39m}\u001b[39;00m\u001b[39m\"\u001b[39m]]\u001b[39m.\u001b[39mrename(\n\u001b[1;32m    103\u001b[0m     columns\u001b[39m=\u001b[39m{\u001b[39m\"\u001b[39m\u001b[39mlabel_for_charts\u001b[39m\u001b[39m\"\u001b[39m: \u001b[39m\"\u001b[39m\u001b[39mcomparison_level\u001b[39m\u001b[39m\"\u001b[39m}\n\u001b[1;32m    104\u001b[0m )\n",
      "File \u001b[0;32m~/Library/r-miniconda/lib/python3.9/site-packages/pandas/core/frame.py:3804\u001b[0m, in \u001b[0;36mDataFrame.__getitem__\u001b[0;34m(self, key)\u001b[0m\n\u001b[1;32m   3802\u001b[0m \u001b[39mif\u001b[39;00m \u001b[39mself\u001b[39m\u001b[39m.\u001b[39mcolumns\u001b[39m.\u001b[39mnlevels \u001b[39m>\u001b[39m \u001b[39m1\u001b[39m:\n\u001b[1;32m   3803\u001b[0m     \u001b[39mreturn\u001b[39;00m \u001b[39mself\u001b[39m\u001b[39m.\u001b[39m_getitem_multilevel(key)\n\u001b[0;32m-> 3804\u001b[0m indexer \u001b[39m=\u001b[39m \u001b[39mself\u001b[39;49m\u001b[39m.\u001b[39;49mcolumns\u001b[39m.\u001b[39;49mget_loc(key)\n\u001b[1;32m   3805\u001b[0m \u001b[39mif\u001b[39;00m is_integer(indexer):\n\u001b[1;32m   3806\u001b[0m     indexer \u001b[39m=\u001b[39m [indexer]\n",
      "File \u001b[0;32m~/Library/r-miniconda/lib/python3.9/site-packages/pandas/core/indexes/base.py:3805\u001b[0m, in \u001b[0;36mIndex.get_loc\u001b[0;34m(self, key, method, tolerance)\u001b[0m\n\u001b[1;32m   3803\u001b[0m     \u001b[39mreturn\u001b[39;00m \u001b[39mself\u001b[39m\u001b[39m.\u001b[39m_engine\u001b[39m.\u001b[39mget_loc(casted_key)\n\u001b[1;32m   3804\u001b[0m \u001b[39mexcept\u001b[39;00m \u001b[39mKeyError\u001b[39;00m \u001b[39mas\u001b[39;00m err:\n\u001b[0;32m-> 3805\u001b[0m     \u001b[39mraise\u001b[39;00m \u001b[39mKeyError\u001b[39;00m(key) \u001b[39mfrom\u001b[39;00m \u001b[39merr\u001b[39;00m\n\u001b[1;32m   3806\u001b[0m \u001b[39mexcept\u001b[39;00m \u001b[39mTypeError\u001b[39;00m:\n\u001b[1;32m   3807\u001b[0m     \u001b[39m# If we have a listlike key, _check_indexing_error will raise\u001b[39;00m\n\u001b[1;32m   3808\u001b[0m     \u001b[39m#  InvalidIndexError. Otherwise we fall through and re-raise\u001b[39;00m\n\u001b[1;32m   3809\u001b[0m     \u001b[39m#  the TypeError.\u001b[39;00m\n\u001b[1;32m   3810\u001b[0m     \u001b[39mself\u001b[39m\u001b[39m.\u001b[39m_check_indexing_error(key)\n",
      "\u001b[0;31mKeyError\u001b[0m: 'is_null_level'"
     ]
    }
   ],
   "source": [
    "import splink.comparison_helpers as ch\n",
    "\n",
    "names = [\"Julia\", \"Julia\", \"Julie\", \"Rachel\"]\n",
    "\n",
    "ch.get_comparison_levels(names, comparison_correct_order)"
   ]
  },
  {
   "attachments": {},
   "cell_type": "markdown",
   "metadata": {},
   "source": [
    "## "
   ]
  },
  {
   "attachments": {},
   "cell_type": "markdown",
   "metadata": {},
   "source": [
    "## Debugging Comparison Levels"
   ]
  },
  {
   "cell_type": "code",
   "execution_count": null,
   "metadata": {},
   "outputs": [],
   "source": []
  }
 ],
 "metadata": {
  "kernelspec": {
   "display_name": "base",
   "language": "python",
   "name": "python3"
  },
  "language_info": {
   "codemirror_mode": {
    "name": "ipython",
    "version": 3
   },
   "file_extension": ".py",
   "mimetype": "text/x-python",
   "name": "python",
   "nbconvert_exporter": "python",
   "pygments_lexer": "ipython3",
   "version": "3.9.12"
  },
  "orig_nbformat": 4
 },
 "nbformat": 4,
 "nbformat_minor": 2
}
