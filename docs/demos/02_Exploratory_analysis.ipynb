{
 "cells": [
  {
   "cell_type": "markdown",
   "id": "26e50a28",
   "metadata": {},
   "source": [
    "# Exploratory analysis\n",
    "\n",
    "The purpose of exploratory analysis is to understand your data and any idiosyncrasies which may be relevant to the task of data linking.\n",
    "\n",
    "Splink includes functionality to visualise and summarise your data, to identify characteristics most salient to data linking.\n",
    "\n",
    "In this notebook we perform some basic exploratory analysis, and interpret the results."
   ]
  },
  {
   "cell_type": "markdown",
   "id": "96a3d08d",
   "metadata": {},
   "source": [
    "### Read in the data\n",
    "\n",
    "For the purpose of this tutorial we will use a 1,000 row synthetic dataset that contains duplicates.\n",
    "\n",
    "The first five rows of this dataset are printed below.\n",
    "\n",
    "Note that the cluster column represents the 'ground truth' - a column which tells us with which rows refer to the same person. In most real linkage scenarios, we wouldn't have this column (this is what Splink is trying to estimate.)"
   ]
  },
  {
   "cell_type": "code",
   "execution_count": 2,
   "id": "ffceed65",
   "metadata": {},
   "outputs": [
    {
     "data": {
      "text/html": [
       "<div>\n",
       "<style scoped>\n",
       "    .dataframe tbody tr th:only-of-type {\n",
       "        vertical-align: middle;\n",
       "    }\n",
       "\n",
       "    .dataframe tbody tr th {\n",
       "        vertical-align: top;\n",
       "    }\n",
       "\n",
       "    .dataframe thead th {\n",
       "        text-align: right;\n",
       "    }\n",
       "</style>\n",
       "<table border=\"1\" class=\"dataframe\">\n",
       "  <thead>\n",
       "    <tr style=\"text-align: right;\">\n",
       "      <th></th>\n",
       "      <th>unique_id</th>\n",
       "      <th>first_name</th>\n",
       "      <th>surname</th>\n",
       "      <th>dob</th>\n",
       "      <th>city</th>\n",
       "      <th>email</th>\n",
       "      <th>cluster</th>\n",
       "    </tr>\n",
       "  </thead>\n",
       "  <tbody>\n",
       "    <tr>\n",
       "      <th>0</th>\n",
       "      <td>0</td>\n",
       "      <td>Robert</td>\n",
       "      <td>Alan</td>\n",
       "      <td>1971-06-24</td>\n",
       "      <td>NaN</td>\n",
       "      <td>robert255@smith.net</td>\n",
       "      <td>0</td>\n",
       "    </tr>\n",
       "    <tr>\n",
       "      <th>1</th>\n",
       "      <td>1</td>\n",
       "      <td>Robert</td>\n",
       "      <td>Allen</td>\n",
       "      <td>1971-05-24</td>\n",
       "      <td>NaN</td>\n",
       "      <td>roberta25@smith.net</td>\n",
       "      <td>0</td>\n",
       "    </tr>\n",
       "    <tr>\n",
       "      <th>2</th>\n",
       "      <td>2</td>\n",
       "      <td>Rob</td>\n",
       "      <td>Allen</td>\n",
       "      <td>1971-06-24</td>\n",
       "      <td>London</td>\n",
       "      <td>roberta25@smith.net</td>\n",
       "      <td>0</td>\n",
       "    </tr>\n",
       "    <tr>\n",
       "      <th>3</th>\n",
       "      <td>3</td>\n",
       "      <td>Robert</td>\n",
       "      <td>Alen</td>\n",
       "      <td>1971-06-24</td>\n",
       "      <td>Lonon</td>\n",
       "      <td>NaN</td>\n",
       "      <td>0</td>\n",
       "    </tr>\n",
       "    <tr>\n",
       "      <th>4</th>\n",
       "      <td>4</td>\n",
       "      <td>Grace</td>\n",
       "      <td>NaN</td>\n",
       "      <td>1997-04-26</td>\n",
       "      <td>Hull</td>\n",
       "      <td>grace.kelly52@jones.com</td>\n",
       "      <td>1</td>\n",
       "    </tr>\n",
       "  </tbody>\n",
       "</table>\n",
       "</div>"
      ],
      "text/plain": [
       "   unique_id first_name surname         dob    city                    email  \\\n",
       "0          0     Robert    Alan  1971-06-24     NaN      robert255@smith.net   \n",
       "1          1     Robert   Allen  1971-05-24     NaN      roberta25@smith.net   \n",
       "2          2        Rob   Allen  1971-06-24  London      roberta25@smith.net   \n",
       "3          3     Robert    Alen  1971-06-24   Lonon                      NaN   \n",
       "4          4      Grace     NaN  1997-04-26    Hull  grace.kelly52@jones.com   \n",
       "\n",
       "   cluster  \n",
       "0        0  \n",
       "1        0  \n",
       "2        0  \n",
       "3        0  \n",
       "4        1  "
      ]
     },
     "execution_count": 2,
     "metadata": {},
     "output_type": "execute_result"
    }
   ],
   "source": [
    "import pandas as pd \n",
    "import altair as alt\n",
    "alt.renderers.enable('mimetype')\n",
    "\n",
    "df = pd.read_csv(\"./data/fake_1000.csv\")\n",
    "df.head(5)"
   ]
  },
  {
   "cell_type": "markdown",
   "id": "2d53e50b",
   "metadata": {},
   "source": [
    "### Instantiate the linker\n",
    "\n",
    "Most of Splink's core functionality can be accessed as methods on a linker object.  For example, to make predictions, you would call `linker.predict()`.\n",
    "\n",
    "We therefore begin by instantiating the linker, passing in the data we wish to deduplicate."
   ]
  },
  {
   "cell_type": "code",
   "execution_count": 3,
   "id": "8a1aa029",
   "metadata": {},
   "outputs": [
    {
     "name": "stderr",
     "output_type": "stream",
     "text": [
      "/var/folders/d2/20f6jnm54qd_4jq525w_7j_h0000gp/T/ipykernel_34828/1741392168.py:2: SplinkDeprecated: Importing directly from `splink.duckdb.duckdb_linker` is deprecated and will be removed in Splink v4. Please import from `splink.duckdb.linker` going forward.\n",
      "  from splink.duckdb.duckdb_linker import DuckDBLinker\n"
     ]
    }
   ],
   "source": [
    "# Initialise the linker, passing in the input dataset(s)\n",
    "from splink.duckdb.duckdb_linker import DuckDBLinker\n",
    "linker = DuckDBLinker(df)"
   ]
  },
  {
   "cell_type": "markdown",
   "id": "3d982939",
   "metadata": {},
   "source": [
    "## Analyse missingness"
   ]
  },
  {
   "cell_type": "markdown",
   "id": "bfab11e8",
   "metadata": {},
   "source": [
    "It's important to understand the level of missingness in your data, because columns with higher levels of missingness are less useful for data linking."
   ]
  },
  {
   "cell_type": "code",
   "execution_count": 4,
   "id": "6dae307c",
   "metadata": {},
   "outputs": [
    {
     "data": {
      "application/vnd.vegalite.v4+json": {
       "$schema": "https://vega.github.io/schema/vega-lite/v5.9.3.json",
       "config": {
        "axis": {
         "labelFontSize": 11
        },
        "view": {
         "continuousHeight": 300,
         "continuousWidth": 400
        }
       },
       "data": {
        "name": "data-0e7bce5a1d2f132e282789d6ef7780fe",
        "values": [
         {
          "column_name": "None",
          "null_count": 0,
          "null_proportion": 0,
          "total_record_count": 1000
         },
         {
          "column_name": "unique_id",
          "null_count": 0,
          "null_proportion": 0,
          "total_record_count": 1000
         },
         {
          "column_name": "first_name",
          "null_count": 169,
          "null_proportion": 0.1690000295639038,
          "total_record_count": 1000
         },
         {
          "column_name": "surname",
          "null_count": 181,
          "null_proportion": 0.1809999942779541,
          "total_record_count": 1000
         },
         {
          "column_name": "dob",
          "null_count": 0,
          "null_proportion": 0,
          "total_record_count": 1000
         },
         {
          "column_name": "city",
          "null_count": 187,
          "null_proportion": 0.18699997663497925,
          "total_record_count": 1000
         },
         {
          "column_name": "email",
          "null_count": 211,
          "null_proportion": 0.21100002527236938,
          "total_record_count": 1000
         },
         {
          "column_name": "cluster",
          "null_count": 0,
          "null_proportion": 0,
          "total_record_count": 1000
         }
        ]
       },
       "layer": [
        {
         "encoding": {
          "color": {
           "field": "null_proportion",
           "legend": {
            "format": ".0%",
            "offset": 30
           },
           "scale": {
            "domain": [
             0,
             1
            ],
            "range": "heatmap"
           },
           "title": "Missingness",
           "type": "quantitative"
          },
          "tooltip": [
           {
            "field": "column_name",
            "title": "Column",
            "type": "nominal"
           },
           {
            "field": "null_count",
            "format": ",.0f",
            "title": "Count of nulls",
            "type": "quantitative"
           },
           {
            "field": "null_proportion",
            "format": ".2%",
            "title": "Percentage of nulls",
            "type": "quantitative"
           },
           {
            "field": "total_record_count",
            "format": ",.0f",
            "title": "Total record count",
            "type": "quantitative"
           }
          ],
          "x": {
           "axis": {
            "format": "%",
            "labelAlign": "center",
            "title": "Percentage of nulls"
           },
           "field": "null_proportion",
           "scale": {
            "domain": [
             0,
             1
            ]
           },
           "type": "quantitative"
          },
          "y": {
           "axis": {
            "title": ""
           },
           "field": "column_name",
           "sort": "-x",
           "type": "nominal"
          }
         },
         "mark": "bar",
         "title": "Missingness per column out of 1,000 records"
        }
       ],
       "title": ""
      },
      "text/plain": [
       "<VegaLite 4 object>\n",
       "\n",
       "If you see this message, it means the renderer has not been properly enabled\n",
       "for the frontend that you are using. For more information, see\n",
       "https://altair-viz.github.io/user_guide/troubleshooting.html\n"
      ]
     },
     "execution_count": 4,
     "metadata": {},
     "output_type": "execute_result"
    }
   ],
   "source": [
    "linker.missingness_chart()"
   ]
  },
  {
   "cell_type": "markdown",
   "id": "2c35a4e0",
   "metadata": {},
   "source": [
    "The above summary chart shows that in this dataset, the `email`, `city`, `surname` and `forename` columns contain nulls, but the level of missingness is relatively low (less than 22%)."
   ]
  },
  {
   "cell_type": "markdown",
   "id": "f11cc6b6",
   "metadata": {},
   "source": [
    "## Analyse the distribution of values in your data"
   ]
  },
  {
   "cell_type": "markdown",
   "id": "973cb505",
   "metadata": {},
   "source": [
    "The distribution of values in your data is important for two main reasons:\n",
    "\n",
    "1. Columns with higher cardinality (number of distinct values) are usually more useful for data linking.  For instance, date of birth is a much stronger linkage variable than gender.\n",
    "\n",
    "2. The skew of values is important.  If you have a `city` column that has 1,000 distinct values, but 75% of them are `London`, this is much less useful for linkage than if the 1,000 values were equally distributed\n",
    "\n",
    "The `linker.profile_columns()` method creates summary charts to help you understand these aspects of your data. \n",
    "\n",
    "You may input column names (e.g. first_name), or arbitrary sql expressions like concat(first_name, surname)."
   ]
  },
  {
   "cell_type": "code",
   "execution_count": 6,
   "id": "897d183c",
   "metadata": {},
   "outputs": [
    {
     "data": {
      "application/vnd.vegalite.v4+json": {
       "$schema": "https://vega.github.io/schema/vega-lite/v5.9.3.json",
       "config": {
        "view": {
         "continuousHeight": 300,
         "continuousWidth": 400
        }
       },
       "vconcat": [
        {
         "hconcat": [
          {
           "data": {
            "values": [
             {
              "distinct_value_count": 335,
              "group_name": "first_name",
              "percentile_ex_nulls": 0.966305673122406,
              "percentile_inc_nulls": 0.972000002861023,
              "sum_tokens_in_value_count_group": 28,
              "total_non_null_rows": 831,
              "total_rows_inc_nulls": 1000,
              "value_count": 28
             },
             {
              "distinct_value_count": 335,
              "group_name": "first_name",
              "percentile_ex_nulls": 0.9470517635345459,
              "percentile_inc_nulls": 0.9559999704360962,
              "sum_tokens_in_value_count_group": 16,
              "total_non_null_rows": 831,
              "total_rows_inc_nulls": 1000,
              "value_count": 16
             },
             {
              "distinct_value_count": 335,
              "group_name": "first_name",
              "percentile_ex_nulls": 0.9290012121200562,
              "percentile_inc_nulls": 0.9409999847412109,
              "sum_tokens_in_value_count_group": 15,
              "total_non_null_rows": 831,
              "total_rows_inc_nulls": 1000,
              "value_count": 15
             },
             {
              "distinct_value_count": 335,
              "group_name": "first_name",
              "percentile_ex_nulls": 0.9121540188789368,
              "percentile_inc_nulls": 0.9269999861717224,
              "sum_tokens_in_value_count_group": 14,
              "total_non_null_rows": 831,
              "total_rows_inc_nulls": 1000,
              "value_count": 14
             },
             {
              "distinct_value_count": 335,
              "group_name": "first_name",
              "percentile_ex_nulls": 0.8965102434158325,
              "percentile_inc_nulls": 0.9139999747276306,
              "sum_tokens_in_value_count_group": 13,
              "total_non_null_rows": 831,
              "total_rows_inc_nulls": 1000,
              "value_count": 13
             },
             {
              "distinct_value_count": 335,
              "group_name": "first_name",
              "percentile_ex_nulls": 0.8820698261260986,
              "percentile_inc_nulls": 0.9020000100135803,
              "sum_tokens_in_value_count_group": 12,
              "total_non_null_rows": 831,
              "total_rows_inc_nulls": 1000,
              "value_count": 12
             },
             {
              "distinct_value_count": 335,
              "group_name": "first_name",
              "percentile_ex_nulls": 0.8423585891723633,
              "percentile_inc_nulls": 0.8690000176429749,
              "sum_tokens_in_value_count_group": 33,
              "total_non_null_rows": 831,
              "total_rows_inc_nulls": 1000,
              "value_count": 11
             },
             {
              "distinct_value_count": 335,
              "group_name": "first_name",
              "percentile_ex_nulls": 0.818291187286377,
              "percentile_inc_nulls": 0.8489999771118164,
              "sum_tokens_in_value_count_group": 20,
              "total_non_null_rows": 831,
              "total_rows_inc_nulls": 1000,
              "value_count": 10
             },
             {
              "distinct_value_count": 335,
              "group_name": "first_name",
              "percentile_ex_nulls": 0.7641395926475525,
              "percentile_inc_nulls": 0.8040000200271606,
              "sum_tokens_in_value_count_group": 45,
              "total_non_null_rows": 831,
              "total_rows_inc_nulls": 1000,
              "value_count": 9
             },
             {
              "distinct_value_count": 335,
              "group_name": "first_name",
              "percentile_ex_nulls": 0.7352586984634399,
              "percentile_inc_nulls": 0.7799999713897705,
              "sum_tokens_in_value_count_group": 24,
              "total_non_null_rows": 831,
              "total_rows_inc_nulls": 1000,
              "value_count": 8
             },
             {
              "distinct_value_count": 335,
              "group_name": "first_name",
              "percentile_ex_nulls": 0.701564371585846,
              "percentile_inc_nulls": 0.7519999742507935,
              "sum_tokens_in_value_count_group": 28,
              "total_non_null_rows": 831,
              "total_rows_inc_nulls": 1000,
              "value_count": 7
             },
             {
              "distinct_value_count": 335,
              "group_name": "first_name",
              "percentile_ex_nulls": 0.6293622255325317,
              "percentile_inc_nulls": 0.6920000314712524,
              "sum_tokens_in_value_count_group": 60,
              "total_non_null_rows": 831,
              "total_rows_inc_nulls": 1000,
              "value_count": 6
             },
             {
              "distinct_value_count": 335,
              "group_name": "first_name",
              "percentile_ex_nulls": 0.539109468460083,
              "percentile_inc_nulls": 0.6169999837875366,
              "sum_tokens_in_value_count_group": 75,
              "total_non_null_rows": 831,
              "total_rows_inc_nulls": 1000,
              "value_count": 5
             },
             {
              "distinct_value_count": 335,
              "group_name": "first_name",
              "percentile_ex_nulls": 0.42358607053756714,
              "percentile_inc_nulls": 0.5210000276565552,
              "sum_tokens_in_value_count_group": 96,
              "total_non_null_rows": 831,
              "total_rows_inc_nulls": 1000,
              "value_count": 4
             },
             {
              "distinct_value_count": 335,
              "group_name": "first_name",
              "percentile_ex_nulls": 0.33694344758987427,
              "percentile_inc_nulls": 0.4490000009536743,
              "sum_tokens_in_value_count_group": 72,
              "total_non_null_rows": 831,
              "total_rows_inc_nulls": 1000,
              "value_count": 3
             },
             {
              "distinct_value_count": 335,
              "group_name": "first_name",
              "percentile_ex_nulls": 0.23826712369918823,
              "percentile_inc_nulls": 0.3669999837875366,
              "sum_tokens_in_value_count_group": 82,
              "total_non_null_rows": 831,
              "total_rows_inc_nulls": 1000,
              "value_count": 2
             },
             {
              "distinct_value_count": 335,
              "group_name": "first_name",
              "percentile_ex_nulls": 0,
              "percentile_inc_nulls": 0.1690000295639038,
              "sum_tokens_in_value_count_group": 198,
              "total_non_null_rows": 831,
              "total_rows_inc_nulls": 1000,
              "value_count": 1
             },
             {
              "distinct_value_count": 335,
              "group_name": "first_name",
              "percentile_ex_nulls": 1,
              "percentile_inc_nulls": 1,
              "sum_tokens_in_value_count_group": 28,
              "total_non_null_rows": 831,
              "total_rows_inc_nulls": 1000,
              "value_count": 28
             }
            ]
           },
           "encoding": {
            "tooltip": [
             {
              "field": "value_count",
              "type": "quantitative"
             },
             {
              "field": "percentile_ex_nulls",
              "type": "quantitative"
             },
             {
              "field": "percentile_inc_nulls",
              "type": "quantitative"
             },
             {
              "field": "total_non_null_rows",
              "type": "quantitative"
             },
             {
              "field": "total_rows_inc_nulls",
              "type": "quantitative"
             }
            ],
            "x": {
             "field": "percentile_ex_nulls",
             "sort": "descending",
             "title": "Percentile",
             "type": "quantitative"
            },
            "y": {
             "field": "value_count",
             "title": "Count of values",
             "type": "quantitative"
            }
           },
           "mark": {
            "interpolate": "step-after",
            "type": "line"
           },
           "title": {
            "subtitle": "In this col, 169 values (16.9%) are null and there are 335 distinct values",
            "text": "Distribution of counts of values in column first_name"
           }
          },
          {
           "data": {
            "values": [
             {
              "distinct_value_count": 335,
              "group_name": "first_name",
              "total_non_null_rows": 831,
              "total_rows_inc_nulls": 1000,
              "value": "Oliver",
              "value_count": 28
             },
             {
              "distinct_value_count": 335,
              "group_name": "first_name",
              "total_non_null_rows": 831,
              "total_rows_inc_nulls": 1000,
              "value": "Jacob",
              "value_count": 16
             },
             {
              "distinct_value_count": 335,
              "group_name": "first_name",
              "total_non_null_rows": 831,
              "total_rows_inc_nulls": 1000,
              "value": "Freddie",
              "value_count": 15
             },
             {
              "distinct_value_count": 335,
              "group_name": "first_name",
              "total_non_null_rows": 831,
              "total_rows_inc_nulls": 1000,
              "value": "Olivia",
              "value_count": 14
             },
             {
              "distinct_value_count": 335,
              "group_name": "first_name",
              "total_non_null_rows": 831,
              "total_rows_inc_nulls": 1000,
              "value": "James",
              "value_count": 13
             },
             {
              "distinct_value_count": 335,
              "group_name": "first_name",
              "total_non_null_rows": 831,
              "total_rows_inc_nulls": 1000,
              "value": "George",
              "value_count": 12
             },
             {
              "distinct_value_count": 335,
              "group_name": "first_name",
              "total_non_null_rows": 831,
              "total_rows_inc_nulls": 1000,
              "value": "Elizabeth",
              "value_count": 11
             },
             {
              "distinct_value_count": 335,
              "group_name": "first_name",
              "total_non_null_rows": 831,
              "total_rows_inc_nulls": 1000,
              "value": "Alfie",
              "value_count": 11
             },
             {
              "distinct_value_count": 335,
              "group_name": "first_name",
              "total_non_null_rows": 831,
              "total_rows_inc_nulls": 1000,
              "value": "Jessica",
              "value_count": 11
             },
             {
              "distinct_value_count": 335,
              "group_name": "first_name",
              "total_non_null_rows": 831,
              "total_rows_inc_nulls": 1000,
              "value": "Logan",
              "value_count": 10
             }
            ]
           },
           "encoding": {
            "tooltip": [
             {
              "field": "value",
              "type": "nominal"
             },
             {
              "field": "value_count",
              "type": "quantitative"
             },
             {
              "field": "total_non_null_rows",
              "type": "quantitative"
             },
             {
              "field": "total_rows_inc_nulls",
              "type": "quantitative"
             }
            ],
            "x": {
             "field": "value",
             "sort": "-y",
             "title": null,
             "type": "nominal"
            },
            "y": {
             "field": "value_count",
             "title": "Value count",
             "type": "quantitative"
            }
           },
           "mark": "bar",
           "title": "Top 10 values by value count"
          },
          {
           "data": {
            "values": [
             {
              "distinct_value_count": 335,
              "group_name": "first_name",
              "total_non_null_rows": 831,
              "total_rows_inc_nulls": 1000,
              "value": "Rob",
              "value_count": 1
             },
             {
              "distinct_value_count": 335,
              "group_name": "first_name",
              "total_non_null_rows": 831,
              "total_rows_inc_nulls": 1000,
              "value": "Hall",
              "value_count": 1
             },
             {
              "distinct_value_count": 335,
              "group_name": "first_name",
              "total_non_null_rows": 831,
              "total_rows_inc_nulls": 1000,
              "value": "Lucas",
              "value_count": 1
             },
             {
              "distinct_value_count": 335,
              "group_name": "first_name",
              "total_non_null_rows": 831,
              "total_rows_inc_nulls": 1000,
              "value": "Luas",
              "value_count": 1
             },
             {
              "distinct_value_count": 335,
              "group_name": "first_name",
              "total_non_null_rows": 831,
              "total_rows_inc_nulls": 1000,
              "value": "Rowe",
              "value_count": 1
             }
            ]
           },
           "encoding": {
            "tooltip": [
             {
              "field": "value",
              "type": "nominal"
             },
             {
              "field": "value_count",
              "type": "quantitative"
             },
             {
              "field": "total_non_null_rows",
              "type": "quantitative"
             },
             {
              "field": "total_rows_inc_nulls",
              "type": "quantitative"
             }
            ],
            "x": {
             "field": "value",
             "sort": "-y",
             "title": null,
             "type": "nominal"
            },
            "y": {
             "field": "value_count",
             "scale": {
              "domain": [
               0,
               28
              ]
             },
             "title": "Value count",
             "type": "quantitative"
            }
           },
           "mark": "bar",
           "title": "Bottom 5 values by value count"
          },
          {
           "data": {
            "values": [
             {
              "group_name": "first_name",
              "value": "Oliver",
              "value_count": 28
             },
             {
              "group_name": "first_name",
              "value": "Jacob",
              "value_count": 16
             },
             {
              "group_name": "first_name",
              "value": "Freddie",
              "value_count": 15
             },
             {
              "group_name": "first_name",
              "value": "Olivia",
              "value_count": 14
             },
             {
              "group_name": "first_name",
              "value": "James",
              "value_count": 13
             },
             {
              "group_name": "first_name",
              "value": "George",
              "value_count": 12
             },
             {
              "group_name": "first_name",
              "value": "Elizabeth",
              "value_count": 11
             },
             {
              "group_name": "first_name",
              "value": "Alfie",
              "value_count": 11
             },
             {
              "group_name": "first_name",
              "value": "Jessica",
              "value_count": 11
             },
             {
              "group_name": "first_name",
              "value": "Logan",
              "value_count": 10
             },
             {
              "group_name": "first_name",
              "value": "Theodore",
              "value_count": 10
             },
             {
              "group_name": "first_name",
              "value": "Isla",
              "value_count": 9
             },
             {
              "group_name": "first_name",
              "value": "Harry",
              "value_count": 9
             },
             {
              "group_name": "first_name",
              "value": "Henry",
              "value_count": 9
             },
             {
              "group_name": "first_name",
              "value": "Amelia",
              "value_count": 9
             },
             {
              "group_name": "first_name",
              "value": "Mason",
              "value_count": 9
             },
             {
              "group_name": "first_name",
              "value": "Lola",
              "value_count": 8
             },
             {
              "group_name": "first_name",
              "value": "Jayden",
              "value_count": 8
             },
             {
              "group_name": "first_name",
              "value": "Isabelle",
              "value_count": 8
             },
             {
              "group_name": "first_name",
              "value": "Evie",
              "value_count": 7
             },
             {
              "group_name": "first_name",
              "value": "Jackson",
              "value_count": 7
             },
             {
              "group_name": "first_name",
              "value": "Harrison",
              "value_count": 7
             },
             {
              "group_name": "first_name",
              "value": "Scarlett",
              "value_count": 7
             },
             {
              "group_name": "first_name",
              "value": "Darcy",
              "value_count": 6
             },
             {
              "group_name": "first_name",
              "value": "Adam",
              "value_count": 6
             },
             {
              "group_name": "first_name",
              "value": "Charlotte",
              "value_count": 6
             },
             {
              "group_name": "first_name",
              "value": "Dylan",
              "value_count": 6
             },
             {
              "group_name": "first_name",
              "value": "Charlie",
              "value_count": 6
             },
             {
              "group_name": "first_name",
              "value": "Lily",
              "value_count": 6
             },
             {
              "group_name": "first_name",
              "value": "Reuben",
              "value_count": 6
             },
             {
              "group_name": "first_name",
              "value": "Michael",
              "value_count": 6
             },
             {
              "group_name": "first_name",
              "value": "Noah",
              "value_count": 6
             },
             {
              "group_name": "first_name",
              "value": "Arabella",
              "value_count": 6
             },
             {
              "group_name": "first_name",
              "value": "Grace",
              "value_count": 5
             },
             {
              "group_name": "first_name",
              "value": "Caleb",
              "value_count": 5
             },
             {
              "group_name": "first_name",
              "value": "Thomas",
              "value_count": 5
             },
             {
              "group_name": "first_name",
              "value": "Ryan",
              "value_count": 5
             },
             {
              "group_name": "first_name",
              "value": "Harley",
              "value_count": 5
             },
             {
              "group_name": "first_name",
              "value": "Matilda",
              "value_count": 5
             },
             {
              "group_name": "first_name",
              "value": "Freya",
              "value_count": 5
             },
             {
              "group_name": "first_name",
              "value": "Joshua",
              "value_count": 5
             },
             {
              "group_name": "first_name",
              "value": "Kai",
              "value_count": 5
             },
             {
              "group_name": "first_name",
              "value": "Eliza",
              "value_count": 5
             },
             {
              "group_name": "first_name",
              "value": "Isaac",
              "value_count": 5
             },
             {
              "group_name": "first_name",
              "value": "Riley",
              "value_count": 5
             },
             {
              "group_name": "first_name",
              "value": "Rosie",
              "value_count": 5
             },
             {
              "group_name": "first_name",
              "value": "Arlo",
              "value_count": 5
             },
             {
              "group_name": "first_name",
              "value": "Luke",
              "value_count": 5
             },
             {
              "group_name": "first_name",
              "value": "Erin",
              "value_count": 4
             },
             {
              "group_name": "first_name",
              "value": "Reggie",
              "value_count": 4
             },
             {
              "group_name": "first_name",
              "value": "Jones",
              "value_count": 4
             },
             {
              "group_name": "first_name",
              "value": "Eleanor",
              "value_count": 4
             },
             {
              "group_name": "first_name",
              "value": "Maisie",
              "value_count": 4
             },
             {
              "group_name": "first_name",
              "value": "Evelyn",
              "value_count": 4
             },
             {
              "group_name": "first_name",
              "value": "Maryam",
              "value_count": 4
             },
             {
              "group_name": "first_name",
              "value": "Aisha",
              "value_count": 4
             },
             {
              "group_name": "first_name",
              "value": "Jaxon",
              "value_count": 4
             },
             {
              "group_name": "first_name",
              "value": "William",
              "value_count": 4
             },
             {
              "group_name": "first_name",
              "value": "Mohammed",
              "value_count": 4
             },
             {
              "group_name": "first_name",
              "value": "Samuel",
              "value_count": 4
             },
             {
              "group_name": "first_name",
              "value": "Benjamin",
              "value_count": 4
             },
             {
              "group_name": "first_name",
              "value": "Dixon",
              "value_count": 4
             },
             {
              "group_name": "first_name",
              "value": "Hugo",
              "value_count": 4
             },
             {
              "group_name": "first_name",
              "value": "Davies",
              "value_count": 4
             },
             {
              "group_name": "first_name",
              "value": "Finley",
              "value_count": 4
             },
             {
              "group_name": "first_name",
              "value": "Toby",
              "value_count": 4
             },
             {
              "group_name": "first_name",
              "value": "Maya",
              "value_count": 4
             },
             {
              "group_name": "first_name",
              "value": "Harvey",
              "value_count": 4
             },
             {
              "group_name": "first_name",
              "value": "Elliott",
              "value_count": 4
             },
             {
              "group_name": "first_name",
              "value": "Ivy",
              "value_count": 4
             },
             {
              "group_name": "first_name",
              "value": "Leon",
              "value_count": 4
             },
             {
              "group_name": "first_name",
              "value": "Emma",
              "value_count": 4
             },
             {
              "group_name": "first_name",
              "value": "Robert",
              "value_count": 3
             },
             {
              "group_name": "first_name",
              "value": "Lexi",
              "value_count": 3
             },
             {
              "group_name": "first_name",
              "value": "Oscar",
              "value_count": 3
             },
             {
              "group_name": "first_name",
              "value": "Holly",
              "value_count": 3
             },
             {
              "group_name": "first_name",
              "value": "Arthur",
              "value_count": 3
             },
             {
              "group_name": "first_name",
              "value": "Luca",
              "value_count": 3
             },
             {
              "group_name": "first_name",
              "value": "Julia",
              "value_count": 3
             },
             {
              "group_name": "first_name",
              "value": "Sofia",
              "value_count": 3
             },
             {
              "group_name": "first_name",
              "value": "Lydia",
              "value_count": 3
             },
             {
              "group_name": "first_name",
              "value": "Daisy",
              "value_count": 3
             },
             {
              "group_name": "first_name",
              "value": "Lottie",
              "value_count": 3
             },
             {
              "group_name": "first_name",
              "value": "Archie",
              "value_count": 3
             },
             {
              "group_name": "first_name",
              "value": "Hannah",
              "value_count": 3
             },
             {
              "group_name": "first_name",
              "value": "Theo",
              "value_count": 3
             },
             {
              "group_name": "first_name",
              "value": "Muhammad",
              "value_count": 3
             },
             {
              "group_name": "first_name",
              "value": "Maddison",
              "value_count": 3
             },
             {
              "group_name": "first_name",
              "value": "Ollie",
              "value_count": 3
             },
             {
              "group_name": "first_name",
              "value": "Anna",
              "value_count": 3
             },
             {
              "group_name": "first_name",
              "value": "Mia",
              "value_count": 3
             },
             {
              "group_name": "first_name",
              "value": "Leo",
              "value_count": 3
             },
             {
              "group_name": "first_name",
              "value": "Joseph",
              "value_count": 3
             },
             {
              "group_name": "first_name",
              "value": "Aira",
              "value_count": 3
             },
             {
              "group_name": "first_name",
              "value": "Nancy",
              "value_count": 3
             },
             {
              "group_name": "first_name",
              "value": "Poppy",
              "value_count": 3
             },
             {
              "group_name": "first_name",
              "value": "Sebastian",
              "value_count": 2
             },
             {
              "group_name": "first_name",
              "value": "Moore",
              "value_count": 2
             },
             {
              "group_name": "first_name",
              "value": "Austin",
              "value_count": 2
             },
             {
              "group_name": "first_name",
              "value": "Leah",
              "value_count": 2
             },
             {
              "group_name": "first_name",
              "value": "Ellie",
              "value_count": 2
             },
             {
              "group_name": "first_name",
              "value": "Elliot",
              "value_count": 2
             },
             {
              "group_name": "first_name",
              "value": "Ferguson",
              "value_count": 2
             },
             {
              "group_name": "first_name",
              "value": "Gerge",
              "value_count": 2
             },
             {
              "group_name": "first_name",
              "value": "Lucy",
              "value_count": 2
             },
             {
              "group_name": "first_name",
              "value": "Hnry",
              "value_count": 2
             },
             {
              "group_name": "first_name",
              "value": "Taylor",
              "value_count": 2
             },
             {
              "group_name": "first_name",
              "value": "Bailey",
              "value_count": 2
             },
             {
              "group_name": "first_name",
              "value": "Rose",
              "value_count": 2
             },
             {
              "group_name": "first_name",
              "value": "Smith",
              "value_count": 2
             },
             {
              "group_name": "first_name",
              "value": "Emily",
              "value_count": 2
             },
             {
              "group_name": "first_name",
              "value": "Brown",
              "value_count": 2
             },
             {
              "group_name": "first_name",
              "value": "Florence",
              "value_count": 2
             },
             {
              "group_name": "first_name",
              "value": "Campbell",
              "value_count": 2
             },
             {
              "group_name": "first_name",
              "value": "Amber",
              "value_count": 2
             },
             {
              "group_name": "first_name",
              "value": "Scott",
              "value_count": 2
             },
             {
              "group_name": "first_name",
              "value": "Fox",
              "value_count": 2
             },
             {
              "group_name": "first_name",
              "value": "Amelie",
              "value_count": 2
             },
             {
              "group_name": "first_name",
              "value": "Gregory",
              "value_count": 2
             },
             {
              "group_name": "first_name",
              "value": "Clark",
              "value_count": 2
             },
             {
              "group_name": "first_name",
              "value": "Violet",
              "value_count": 2
             },
             {
              "group_name": "first_name",
              "value": "Alexander",
              "value_count": 2
             },
             {
              "group_name": "first_name",
              "value": "Imogen",
              "value_count": 2
             },
             {
              "group_name": "first_name",
              "value": "Henr",
              "value_count": 2
             },
             {
              "group_name": "first_name",
              "value": "Hunter",
              "value_count": 2
             },
             {
              "group_name": "first_name",
              "value": "Ahmed",
              "value_count": 2
             },
             {
              "group_name": "first_name",
              "value": "Williams",
              "value_count": 2
             },
             {
              "group_name": "first_name",
              "value": "Armstrong",
              "value_count": 2
             },
             {
              "group_name": "first_name",
              "value": "Eva",
              "value_count": 2
             },
             {
              "group_name": "first_name",
              "value": "Isabella",
              "value_count": 2
             },
             {
              "group_name": "first_name",
              "value": "Bradley",
              "value_count": 2
             },
             {
              "group_name": "first_name",
              "value": "Aria",
              "value_count": 2
             },
             {
              "group_name": "first_name",
              "value": "Teddy",
              "value_count": 2
             },
             {
              "group_name": "first_name",
              "value": "Francesca",
              "value_count": 2
             },
             {
              "group_name": "first_name",
              "value": "Sarah",
              "value_count": 2
             },
             {
              "group_name": "first_name",
              "value": "Heidi",
              "value_count": 2
             },
             {
              "group_name": "first_name",
              "value": "Ella",
              "value_count": 2
             },
             {
              "group_name": "first_name",
              "value": "Rob",
              "value_count": 1
             },
             {
              "group_name": "first_name",
              "value": "Hall",
              "value_count": 1
             },
             {
              "group_name": "first_name",
              "value": "Lucas",
              "value_count": 1
             },
             {
              "group_name": "first_name",
              "value": "Luas",
              "value_count": 1
             },
             {
              "group_name": "first_name",
              "value": "Rowe",
              "value_count": 1
             },
             {
              "group_name": "first_name",
              "value": "Thoas",
              "value_count": 1
             },
             {
              "group_name": "first_name",
              "value": "Gabriel",
              "value_count": 1
             },
             {
              "group_name": "first_name",
              "value": "eTheodroe",
              "value_count": 1
             },
             {
              "group_name": "first_name",
              "value": "Jyayden",
              "value_count": 1
             },
             {
              "group_name": "first_name",
              "value": "Jayaned",
              "value_count": 1
             },
             {
              "group_name": "first_name",
              "value": "lola",
              "value_count": 1
             },
             {
              "group_name": "first_name",
              "value": "Adaam",
              "value_count": 1
             },
             {
              "group_name": "first_name",
              "value": "Willow",
              "value_count": 1
             },
             {
              "group_name": "first_name",
              "value": "Ronni",
              "value_count": 1
             },
             {
              "group_name": "first_name",
              "value": "Rnyan",
              "value_count": 1
             },
             {
              "group_name": "first_name",
              "value": "Ran",
              "value_count": 1
             },
             {
              "group_name": "first_name",
              "value": "Lex",
              "value_count": 1
             },
             {
              "group_name": "first_name",
              "value": "Osacar",
              "value_count": 1
             },
             {
              "group_name": "first_name",
              "value": "Oscra",
              "value_count": 1
             },
             {
              "group_name": "first_name",
              "value": "Ocar",
              "value_count": 1
             },
             {
              "group_name": "first_name",
              "value": "Elanor",
              "value_count": 1
             },
             {
              "group_name": "first_name",
              "value": "nleaEor",
              "value_count": 1
             },
             {
              "group_name": "first_name",
              "value": "Griffiths",
              "value_count": 1
             },
             {
              "group_name": "first_name",
              "value": "Miaisie",
              "value_count": 1
             },
             {
              "group_name": "first_name",
              "value": "Oievr",
              "value_count": 1
             },
             {
              "group_name": "first_name",
              "value": "Ryyan",
              "value_count": 1
             },
             {
              "group_name": "first_name",
              "value": "Macdonald",
              "value_count": 1
             },
             {
              "group_name": "first_name",
              "value": "Kaur",
              "value_count": 1
             },
             {
              "group_name": "first_name",
              "value": "Hayler",
              "value_count": 1
             },
             {
              "group_name": "first_name",
              "value": "Barker",
              "value_count": 1
             },
             {
              "group_name": "first_name",
              "value": "Edard",
              "value_count": 1
             },
             {
              "group_name": "first_name",
              "value": "Hrarry",
              "value_count": 1
             },
             {
              "group_name": "first_name",
              "value": "Harr",
              "value_count": 1
             },
             {
              "group_name": "first_name",
              "value": "Kelly",
              "value_count": 1
             },
             {
              "group_name": "first_name",
              "value": "Molly",
              "value_count": 1
             },
             {
              "group_name": "first_name",
              "value": "Auutsin",
              "value_count": 1
             },
             {
              "group_name": "first_name",
              "value": "Thomson",
              "value_count": 1
             },
             {
              "group_name": "first_name",
              "value": "Elzizabeth",
              "value_count": 1
             },
             {
              "group_name": "first_name",
              "value": "Elizaeth",
              "value_count": 1
             },
             {
              "group_name": "first_name",
              "value": "Lheah",
              "value_count": 1
             },
             {
              "group_name": "first_name",
              "value": "Elelie",
              "value_count": 1
             },
             {
              "group_name": "first_name",
              "value": "Isal",
              "value_count": 1
             },
             {
              "group_name": "first_name",
              "value": "Eloilt",
              "value_count": 1
             },
             {
              "group_name": "first_name",
              "value": "Elltiot",
              "value_count": 1
             },
             {
              "group_name": "first_name",
              "value": "iElliot",
              "value_count": 1
             },
             {
              "group_name": "first_name",
              "value": "Lca",
              "value_count": 1
             },
             {
              "group_name": "first_name",
              "value": "Luuca",
              "value_count": 1
             },
             {
              "group_name": "first_name",
              "value": "aucaL",
              "value_count": 1
             },
             {
              "group_name": "first_name",
              "value": "Logn",
              "value_count": 1
             },
             {
              "group_name": "first_name",
              "value": "Gegrgoe",
              "value_count": 1
             },
             {
              "group_name": "first_name",
              "value": "Fera",
              "value_count": 1
             },
             {
              "group_name": "first_name",
              "value": "Shah",
              "value_count": 1
             },
             {
              "group_name": "first_name",
              "value": "Russell",
              "value_count": 1
             },
             {
              "group_name": "first_name",
              "value": "SoSfia",
              "value_count": 1
             },
             {
              "group_name": "first_name",
              "value": "foSia",
              "value_count": 1
             },
             {
              "group_name": "first_name",
              "value": "Olver",
              "value_count": 1
             },
             {
              "group_name": "first_name",
              "value": "Olvevr",
              "value_count": 1
             },
             {
              "group_name": "first_name",
              "value": "Simmons",
              "value_count": 1
             },
             {
              "group_name": "first_name",
              "value": "Lyia",
              "value_count": 1
             },
             {
              "group_name": "first_name",
              "value": "Brooks",
              "value_count": 1
             },
             {
              "group_name": "first_name",
              "value": "Aav",
              "value_count": 1
             },
             {
              "group_name": "first_name",
              "value": "Forcnee",
              "value_count": 1
             },
             {
              "group_name": "first_name",
              "value": "Wilson",
              "value_count": 1
             },
             {
              "group_name": "first_name",
              "value": "Lyli",
              "value_count": 1
             },
             {
              "group_name": "first_name",
              "value": "Fdedrie",
              "value_count": 1
             },
             {
              "group_name": "first_name",
              "value": "Lee",
              "value_count": 1
             },
             {
              "group_name": "first_name",
              "value": "JkJcason",
              "value_count": 1
             },
             {
              "group_name": "first_name",
              "value": "Jakcsson",
              "value_count": 1
             },
             {
              "group_name": "first_name",
              "value": "David",
              "value_count": 1
             },
             {
              "group_name": "first_name",
              "value": "Harrosin",
              "value_count": 1
             },
             {
              "group_name": "first_name",
              "value": "Hraley",
              "value_count": 1
             },
             {
              "group_name": "first_name",
              "value": "sDasy",
              "value_count": 1
             },
             {
              "group_name": "first_name",
              "value": "AAmelia",
              "value_count": 1
             },
             {
              "group_name": "first_name",
              "value": "KKai",
              "value_count": 1
             },
             {
              "group_name": "first_name",
              "value": "Payne",
              "value_count": 1
             },
             {
              "group_name": "first_name",
              "value": "Scatletr",
              "value_count": 1
             },
             {
              "group_name": "first_name",
              "value": "Finyel",
              "value_count": 1
             },
             {
              "group_name": "first_name",
              "value": "Nicholson",
              "value_count": 1
             },
             {
              "group_name": "first_name",
              "value": "JaydJen",
              "value_count": 1
             },
             {
              "group_name": "first_name",
              "value": "Mohmmed",
              "value_count": 1
             },
             {
              "group_name": "first_name",
              "value": "Rubnen",
              "value_count": 1
             },
             {
              "group_name": "first_name",
              "value": "Eiza",
              "value_count": 1
             },
             {
              "group_name": "first_name",
              "value": "Ezia",
              "value_count": 1
             },
             {
              "group_name": "first_name",
              "value": "Lotti",
              "value_count": 1
             },
             {
              "group_name": "first_name",
              "value": "Isaa",
              "value_count": 1
             },
             {
              "group_name": "first_name",
              "value": "Icsac",
              "value_count": 1
             },
             {
              "group_name": "first_name",
              "value": "Iaac",
              "value_count": 1
             },
             {
              "group_name": "first_name",
              "value": "Jsames",
              "value_count": 1
             },
             {
              "group_name": "first_name",
              "value": "Areceih",
              "value_count": 1
             },
             {
              "group_name": "first_name",
              "value": "Hug",
              "value_count": 1
             },
             {
              "group_name": "first_name",
              "value": "Hogu",
              "value_count": 1
             },
             {
              "group_name": "first_name",
              "value": "Ellis",
              "value_count": 1
             },
             {
              "group_name": "first_name",
              "value": "lEls",
              "value_count": 1
             },
             {
              "group_name": "first_name",
              "value": "Heenry",
              "value_count": 1
             },
             {
              "group_name": "first_name",
              "value": "Amrbr",
              "value_count": 1
             },
             {
              "group_name": "first_name",
              "value": "Popppy",
              "value_count": 1
             },
             {
              "group_name": "first_name",
              "value": "Frieddie",
              "value_count": 1
             },
             {
              "group_name": "first_name",
              "value": "Ameliee",
              "value_count": 1
             },
             {
              "group_name": "first_name",
              "value": "Amelime",
              "value_count": 1
             },
             {
              "group_name": "first_name",
              "value": "Norman",
              "value_count": 1
             },
             {
              "group_name": "first_name",
              "value": "FFinley",
              "value_count": 1
             },
             {
              "group_name": "first_name",
              "value": "White",
              "value_count": 1
             },
             {
              "group_name": "first_name",
              "value": "Teheo",
              "value_count": 1
             },
             {
              "group_name": "first_name",
              "value": "Amlia",
              "value_count": 1
             },
             {
              "group_name": "first_name",
              "value": "Amlelia",
              "value_count": 1
             },
             {
              "group_name": "first_name",
              "value": "AmelAia",
              "value_count": 1
             },
             {
              "group_name": "first_name",
              "value": "Owen",
              "value_count": 1
             },
             {
              "group_name": "first_name",
              "value": "Lous",
              "value_count": 1
             },
             {
              "group_name": "first_name",
              "value": "Louis",
              "value_count": 1
             },
             {
              "group_name": "first_name",
              "value": "ssouiL",
              "value_count": 1
             },
             {
              "group_name": "first_name",
              "value": "rarHry",
              "value_count": 1
             },
             {
              "group_name": "first_name",
              "value": "Olirev",
              "value_count": 1
             },
             {
              "group_name": "first_name",
              "value": "Oliva",
              "value_count": 1
             },
             {
              "group_name": "first_name",
              "value": "Clarke",
              "value_count": 1
             },
             {
              "group_name": "first_name",
              "value": "RoRyn",
              "value_count": 1
             },
             {
              "group_name": "first_name",
              "value": "Robyn",
              "value_count": 1
             },
             {
              "group_name": "first_name",
              "value": "Mihael",
              "value_count": 1
             },
             {
              "group_name": "first_name",
              "value": "Jesisia",
              "value_count": 1
             },
             {
              "group_name": "first_name",
              "value": "ilivOa",
              "value_count": 1
             },
             {
              "group_name": "first_name",
              "value": "bJacob",
              "value_count": 1
             },
             {
              "group_name": "first_name",
              "value": "Kirk",
              "value_count": 1
             },
             {
              "group_name": "first_name",
              "value": "Ameliia",
              "value_count": 1
             },
             {
              "group_name": "first_name",
              "value": "Aielma",
              "value_count": 1
             },
             {
              "group_name": "first_name",
              "value": "Lydiia",
              "value_count": 1
             },
             {
              "group_name": "first_name",
              "value": "Elzabeth",
              "value_count": 1
             },
             {
              "group_name": "first_name",
              "value": "lOlivia",
              "value_count": 1
             },
             {
              "group_name": "first_name",
              "value": "Olvilia",
              "value_count": 1
             },
             {
              "group_name": "first_name",
              "value": "Georege",
              "value_count": 1
             },
             {
              "group_name": "first_name",
              "value": "geeorGe",
              "value_count": 1
             },
             {
              "group_name": "first_name",
              "value": "Geeorge",
              "value_count": 1
             },
             {
              "group_name": "first_name",
              "value": "Georee",
              "value_count": 1
             },
             {
              "group_name": "first_name",
              "value": "Webb",
              "value_count": 1
             },
             {
              "group_name": "first_name",
              "value": "Lonan",
              "value_count": 1
             },
             {
              "group_name": "first_name",
              "value": "Maddion",
              "value_count": 1
             },
             {
              "group_name": "first_name",
              "value": "Cahlrae",
              "value_count": 1
             },
             {
              "group_name": "first_name",
              "value": "Imgeen",
              "value_count": 1
             },
             {
              "group_name": "first_name",
              "value": "Imgen",
              "value_count": 1
             },
             {
              "group_name": "first_name",
              "value": "IImogen",
              "value_count": 1
             },
             {
              "group_name": "first_name",
              "value": "Olie",
              "value_count": 1
             },
             {
              "group_name": "first_name",
              "value": "OOllie",
              "value_count": 1
             },
             {
              "group_name": "first_name",
              "value": "Elazibeth",
              "value_count": 1
             },
             {
              "group_name": "first_name",
              "value": "Johnston",
              "value_count": 1
             },
             {
              "group_name": "first_name",
              "value": "NNoah",
              "value_count": 1
             },
             {
              "group_name": "first_name",
              "value": "Curtis",
              "value_count": 1
             },
             {
              "group_name": "first_name",
              "value": "Mayya",
              "value_count": 1
             },
             {
              "group_name": "first_name",
              "value": "Mi",
              "value_count": 1
             },
             {
              "group_name": "first_name",
              "value": "Edward",
              "value_count": 1
             },
             {
              "group_name": "first_name",
              "value": "May",
              "value_count": 1
             },
             {
              "group_name": "first_name",
              "value": "Georgi",
              "value_count": 1
             },
             {
              "group_name": "first_name",
              "value": "Georgia",
              "value_count": 1
             },
             {
              "group_name": "first_name",
              "value": "Osrac",
              "value_count": 1
             },
             {
              "group_name": "first_name",
              "value": "oeL",
              "value_count": 1
             },
             {
              "group_name": "first_name",
              "value": "Jaes",
              "value_count": 1
             },
             {
              "group_name": "first_name",
              "value": "Day",
              "value_count": 1
             },
             {
              "group_name": "first_name",
              "value": "Diavid",
              "value_count": 1
             },
             {
              "group_name": "first_name",
              "value": "EvEa",
              "value_count": 1
             },
             {
              "group_name": "first_name",
              "value": "Mila",
              "value_count": 1
             },
             {
              "group_name": "first_name",
              "value": "Fisher",
              "value_count": 1
             },
             {
              "group_name": "first_name",
              "value": "Josshua",
              "value_count": 1
             },
             {
              "group_name": "first_name",
              "value": "AArlo",
              "value_count": 1
             },
             {
              "group_name": "first_name",
              "value": "Byrne",
              "value_count": 1
             },
             {
              "group_name": "first_name",
              "value": "Eliott",
              "value_count": 1
             },
             {
              "group_name": "first_name",
              "value": "Morgan",
              "value_count": 1
             },
             {
              "group_name": "first_name",
              "value": "hNoaN",
              "value_count": 1
             },
             {
              "group_name": "first_name",
              "value": "Chartotle",
              "value_count": 1
             },
             {
              "group_name": "first_name",
              "value": "Harper",
              "value_count": 1
             },
             {
              "group_name": "first_name",
              "value": "Olievr",
              "value_count": 1
             },
             {
              "group_name": "first_name",
              "value": "Maciel",
              "value_count": 1
             },
             {
              "group_name": "first_name",
              "value": "Mhichael",
              "value_count": 1
             },
             {
              "group_name": "first_name",
              "value": "Thedore",
              "value_count": 1
             },
             {
              "group_name": "first_name",
              "value": "Robinson",
              "value_count": 1
             },
             {
              "group_name": "first_name",
              "value": "Freedid",
              "value_count": 1
             },
             {
              "group_name": "first_name",
              "value": "Nooah",
              "value_count": 1
             },
             {
              "group_name": "first_name",
              "value": "yI",
              "value_count": 1
             },
             {
              "group_name": "first_name",
              "value": "Iy",
              "value_count": 1
             },
             {
              "group_name": "first_name",
              "value": "Iyvv",
              "value_count": 1
             },
             {
              "group_name": "first_name",
              "value": "Rice",
              "value_count": 1
             },
             {
              "group_name": "first_name",
              "value": "Cross",
              "value_count": 1
             },
             {
              "group_name": "first_name",
              "value": "Green",
              "value_count": 1
             },
             {
              "group_name": "first_name",
              "value": "Evi",
              "value_count": 1
             },
             {
              "group_name": "first_name",
              "value": "Eie",
              "value_count": 1
             },
             {
              "group_name": "first_name",
              "value": "Watson",
              "value_count": 1
             },
             {
              "group_name": "first_name",
              "value": "Amela",
              "value_count": 1
             },
             {
              "group_name": "first_name",
              "value": "Lukue",
              "value_count": 1
             },
             {
              "group_name": "first_name",
              "value": "Pearson",
              "value_count": 1
             },
             {
              "group_name": "first_name",
              "value": "GergGe",
              "value_count": 1
             },
             {
              "group_name": "first_name",
              "value": "Lon",
              "value_count": 1
             },
             {
              "group_name": "first_name",
              "value": "LLno",
              "value_count": 1
             },
             {
              "group_name": "first_name",
              "value": "aessicJ",
              "value_count": 1
             },
             {
              "group_name": "first_name",
              "value": "Nacy",
              "value_count": 1
             },
             {
              "group_name": "first_name",
              "value": "aNncy",
              "value_count": 1
             },
             {
              "group_name": "first_name",
              "value": "tElliot",
              "value_count": 1
             },
             {
              "group_name": "first_name",
              "value": "oiVlet",
              "value_count": 1
             },
             {
              "group_name": "first_name",
              "value": "Wilkinson",
              "value_count": 1
             },
             {
              "group_name": "first_name",
              "value": "King",
              "value_count": 1
             },
             {
              "group_name": "first_name",
              "value": "HeHray",
              "value_count": 1
             },
             {
              "group_name": "first_name",
              "value": "Reuebn",
              "value_count": 1
             },
             {
              "group_name": "first_name",
              "value": "Johpe",
              "value_count": 1
             }
            ]
           },
           "encoding": {
            "tooltip": [
             {
              "field": "value",
              "type": "quantitative"
             },
             {
              "field": "value_count",
              "type": "quantitative"
             }
            ],
            "x": {
             "field": "value",
             "title": "Value",
             "type": "quantitative"
            },
            "y": {
             "field": "value_count",
             "title": "Density",
             "type": "quantitative"
            }
           },
           "mark": "area",
           "title": "Kernel Density Estimation"
          }
         ]
        },
        {
         "hconcat": [
          {
           "data": {
            "values": [
             {
              "distinct_value_count": 218,
              "group_name": "city",
              "percentile_ex_nulls": 0.787207841873169,
              "percentile_inc_nulls": 0.8270000219345093,
              "sum_tokens_in_value_count_group": 173,
              "total_non_null_rows": 813,
              "total_rows_inc_nulls": 1000,
              "value_count": 173
             },
             {
              "distinct_value_count": 218,
              "group_name": "city",
              "percentile_ex_nulls": 0.7380073666572571,
              "percentile_inc_nulls": 0.7870000004768372,
              "sum_tokens_in_value_count_group": 40,
              "total_non_null_rows": 813,
              "total_rows_inc_nulls": 1000,
              "value_count": 40
             },
             {
              "distinct_value_count": 218,
              "group_name": "city",
              "percentile_ex_nulls": 0.6974169611930847,
              "percentile_inc_nulls": 0.7540000081062317,
              "sum_tokens_in_value_count_group": 33,
              "total_non_null_rows": 813,
              "total_rows_inc_nulls": 1000,
              "value_count": 33
             },
             {
              "distinct_value_count": 218,
              "group_name": "city",
              "percentile_ex_nulls": 0.6715867519378662,
              "percentile_inc_nulls": 0.7330000400543213,
              "sum_tokens_in_value_count_group": 21,
              "total_non_null_rows": 813,
              "total_rows_inc_nulls": 1000,
              "value_count": 21
             },
             {
              "distinct_value_count": 218,
              "group_name": "city",
              "percentile_ex_nulls": 0.6494464874267578,
              "percentile_inc_nulls": 0.7150000333786011,
              "sum_tokens_in_value_count_group": 18,
              "total_non_null_rows": 813,
              "total_rows_inc_nulls": 1000,
              "value_count": 18
             },
             {
              "distinct_value_count": 218,
              "group_name": "city",
              "percentile_ex_nulls": 0.6076260805130005,
              "percentile_inc_nulls": 0.6809999942779541,
              "sum_tokens_in_value_count_group": 34,
              "total_non_null_rows": 813,
              "total_rows_inc_nulls": 1000,
              "value_count": 17
             },
             {
              "distinct_value_count": 218,
              "group_name": "city",
              "percentile_ex_nulls": 0.5682656764984131,
              "percentile_inc_nulls": 0.6489999890327454,
              "sum_tokens_in_value_count_group": 32,
              "total_non_null_rows": 813,
              "total_rows_inc_nulls": 1000,
              "value_count": 16
             },
             {
              "distinct_value_count": 218,
              "group_name": "city",
              "percentile_ex_nulls": 0.5166051387786865,
              "percentile_inc_nulls": 0.6069999933242798,
              "sum_tokens_in_value_count_group": 42,
              "total_non_null_rows": 813,
              "total_rows_inc_nulls": 1000,
              "value_count": 14
             },
             {
              "distinct_value_count": 218,
              "group_name": "city",
              "percentile_ex_nulls": 0.48462486267089844,
              "percentile_inc_nulls": 0.5809999704360962,
              "sum_tokens_in_value_count_group": 26,
              "total_non_null_rows": 813,
              "total_rows_inc_nulls": 1000,
              "value_count": 13
             },
             {
              "distinct_value_count": 218,
              "group_name": "city",
              "percentile_ex_nulls": 0.4403443932533264,
              "percentile_inc_nulls": 0.5449999570846558,
              "sum_tokens_in_value_count_group": 36,
              "total_non_null_rows": 813,
              "total_rows_inc_nulls": 1000,
              "value_count": 12
             },
             {
              "distinct_value_count": 218,
              "group_name": "city",
              "percentile_ex_nulls": 0.41574418544769287,
              "percentile_inc_nulls": 0.5249999761581421,
              "sum_tokens_in_value_count_group": 20,
              "total_non_null_rows": 813,
              "total_rows_inc_nulls": 1000,
              "value_count": 10
             },
             {
              "distinct_value_count": 218,
              "group_name": "city",
              "percentile_ex_nulls": 0.3936039209365845,
              "percentile_inc_nulls": 0.5069999694824219,
              "sum_tokens_in_value_count_group": 18,
              "total_non_null_rows": 813,
              "total_rows_inc_nulls": 1000,
              "value_count": 9
             },
             {
              "distinct_value_count": 218,
              "group_name": "city",
              "percentile_ex_nulls": 0.3640836477279663,
              "percentile_inc_nulls": 0.4829999804496765,
              "sum_tokens_in_value_count_group": 24,
              "total_non_null_rows": 813,
              "total_rows_inc_nulls": 1000,
              "value_count": 8
             },
             {
              "distinct_value_count": 218,
              "group_name": "city",
              "percentile_ex_nulls": 0.31242311000823975,
              "percentile_inc_nulls": 0.44099998474121094,
              "sum_tokens_in_value_count_group": 42,
              "total_non_null_rows": 813,
              "total_rows_inc_nulls": 1000,
              "value_count": 7
             },
             {
              "distinct_value_count": 218,
              "group_name": "city",
              "percentile_ex_nulls": 0.2829028367996216,
              "percentile_inc_nulls": 0.4169999957084656,
              "sum_tokens_in_value_count_group": 24,
              "total_non_null_rows": 813,
              "total_rows_inc_nulls": 1000,
              "value_count": 6
             },
             {
              "distinct_value_count": 218,
              "group_name": "city",
              "percentile_ex_nulls": 0.25830256938934326,
              "percentile_inc_nulls": 0.3970000147819519,
              "sum_tokens_in_value_count_group": 20,
              "total_non_null_rows": 813,
              "total_rows_inc_nulls": 1000,
              "value_count": 5
             },
             {
              "distinct_value_count": 218,
              "group_name": "city",
              "percentile_ex_nulls": 0.24354243278503418,
              "percentile_inc_nulls": 0.38499999046325684,
              "sum_tokens_in_value_count_group": 12,
              "total_non_null_rows": 813,
              "total_rows_inc_nulls": 1000,
              "value_count": 4
             },
             {
              "distinct_value_count": 218,
              "group_name": "city",
              "percentile_ex_nulls": 0.2287822961807251,
              "percentile_inc_nulls": 0.37300002574920654,
              "sum_tokens_in_value_count_group": 12,
              "total_non_null_rows": 813,
              "total_rows_inc_nulls": 1000,
              "value_count": 3
             },
             {
              "distinct_value_count": 218,
              "group_name": "city",
              "percentile_ex_nulls": 0.19680196046829224,
              "percentile_inc_nulls": 0.34700000286102295,
              "sum_tokens_in_value_count_group": 26,
              "total_non_null_rows": 813,
              "total_rows_inc_nulls": 1000,
              "value_count": 2
             },
             {
              "distinct_value_count": 218,
              "group_name": "city",
              "percentile_ex_nulls": 0,
              "percentile_inc_nulls": 0.18699997663497925,
              "sum_tokens_in_value_count_group": 160,
              "total_non_null_rows": 813,
              "total_rows_inc_nulls": 1000,
              "value_count": 1
             },
             {
              "distinct_value_count": 218,
              "group_name": "city",
              "percentile_ex_nulls": 1,
              "percentile_inc_nulls": 1,
              "sum_tokens_in_value_count_group": 173,
              "total_non_null_rows": 813,
              "total_rows_inc_nulls": 1000,
              "value_count": 173
             }
            ]
           },
           "encoding": {
            "tooltip": [
             {
              "field": "value_count",
              "type": "quantitative"
             },
             {
              "field": "percentile_ex_nulls",
              "type": "quantitative"
             },
             {
              "field": "percentile_inc_nulls",
              "type": "quantitative"
             },
             {
              "field": "total_non_null_rows",
              "type": "quantitative"
             },
             {
              "field": "total_rows_inc_nulls",
              "type": "quantitative"
             }
            ],
            "x": {
             "field": "percentile_ex_nulls",
             "sort": "descending",
             "title": "Percentile",
             "type": "quantitative"
            },
            "y": {
             "field": "value_count",
             "title": "Count of values",
             "type": "quantitative"
            }
           },
           "mark": {
            "interpolate": "step-after",
            "type": "line"
           },
           "title": {
            "subtitle": "In this col, 187 values (18.7%) are null and there are 218 distinct values",
            "text": "Distribution of counts of values in column city"
           }
          },
          {
           "data": {
            "values": [
             {
              "distinct_value_count": 218,
              "group_name": "city",
              "total_non_null_rows": 813,
              "total_rows_inc_nulls": 1000,
              "value": "London",
              "value_count": 173
             },
             {
              "distinct_value_count": 218,
              "group_name": "city",
              "total_non_null_rows": 813,
              "total_rows_inc_nulls": 1000,
              "value": "Birmingham",
              "value_count": 40
             },
             {
              "distinct_value_count": 218,
              "group_name": "city",
              "total_non_null_rows": 813,
              "total_rows_inc_nulls": 1000,
              "value": "Liverpool",
              "value_count": 33
             },
             {
              "distinct_value_count": 218,
              "group_name": "city",
              "total_non_null_rows": 813,
              "total_rows_inc_nulls": 1000,
              "value": "Coventry",
              "value_count": 21
             },
             {
              "distinct_value_count": 218,
              "group_name": "city",
              "total_non_null_rows": 813,
              "total_rows_inc_nulls": 1000,
              "value": "Newcastle-upon-Tyne",
              "value_count": 18
             },
             {
              "distinct_value_count": 218,
              "group_name": "city",
              "total_non_null_rows": 813,
              "total_rows_inc_nulls": 1000,
              "value": "Leeds",
              "value_count": 17
             },
             {
              "distinct_value_count": 218,
              "group_name": "city",
              "total_non_null_rows": 813,
              "total_rows_inc_nulls": 1000,
              "value": "Manchester",
              "value_count": 17
             },
             {
              "distinct_value_count": 218,
              "group_name": "city",
              "total_non_null_rows": 813,
              "total_rows_inc_nulls": 1000,
              "value": "Bristol",
              "value_count": 16
             },
             {
              "distinct_value_count": 218,
              "group_name": "city",
              "total_non_null_rows": 813,
              "total_rows_inc_nulls": 1000,
              "value": "Aberdeen",
              "value_count": 16
             },
             {
              "distinct_value_count": 218,
              "group_name": "city",
              "total_non_null_rows": 813,
              "total_rows_inc_nulls": 1000,
              "value": "Portsmouth",
              "value_count": 14
             }
            ]
           },
           "encoding": {
            "tooltip": [
             {
              "field": "value",
              "type": "nominal"
             },
             {
              "field": "value_count",
              "type": "quantitative"
             },
             {
              "field": "total_non_null_rows",
              "type": "quantitative"
             },
             {
              "field": "total_rows_inc_nulls",
              "type": "quantitative"
             }
            ],
            "x": {
             "field": "value",
             "sort": "-y",
             "title": null,
             "type": "nominal"
            },
            "y": {
             "field": "value_count",
             "title": "Value count",
             "type": "quantitative"
            }
           },
           "mark": "bar",
           "title": "Top 10 values by value count"
          },
          {
           "data": {
            "values": [
             {
              "distinct_value_count": 218,
              "group_name": "city",
              "total_non_null_rows": 813,
              "total_rows_inc_nulls": 1000,
              "value": "Hull",
              "value_count": 1
             },
             {
              "distinct_value_count": 218,
              "group_name": "city",
              "total_non_null_rows": 813,
              "total_rows_inc_nulls": 1000,
              "value": "Pootsmruth",
              "value_count": 1
             },
             {
              "distinct_value_count": 218,
              "group_name": "city",
              "total_non_null_rows": 813,
              "total_rows_inc_nulls": 1000,
              "value": "Lunton",
              "value_count": 1
             },
             {
              "distinct_value_count": 218,
              "group_name": "city",
              "total_non_null_rows": 813,
              "total_rows_inc_nulls": 1000,
              "value": "Lvpreool",
              "value_count": 1
             },
             {
              "distinct_value_count": 218,
              "group_name": "city",
              "total_non_null_rows": 813,
              "total_rows_inc_nulls": 1000,
              "value": "Loodon",
              "value_count": 1
             }
            ]
           },
           "encoding": {
            "tooltip": [
             {
              "field": "value",
              "type": "nominal"
             },
             {
              "field": "value_count",
              "type": "quantitative"
             },
             {
              "field": "total_non_null_rows",
              "type": "quantitative"
             },
             {
              "field": "total_rows_inc_nulls",
              "type": "quantitative"
             }
            ],
            "x": {
             "field": "value",
             "sort": "-y",
             "title": null,
             "type": "nominal"
            },
            "y": {
             "field": "value_count",
             "scale": {
              "domain": [
               0,
               173
              ]
             },
             "title": "Value count",
             "type": "quantitative"
            }
           },
           "mark": "bar",
           "title": "Bottom 5 values by value count"
          },
          {
           "data": {
            "values": [
             {
              "group_name": "city",
              "value": "London",
              "value_count": 173
             },
             {
              "group_name": "city",
              "value": "Birmingham",
              "value_count": 40
             },
             {
              "group_name": "city",
              "value": "Liverpool",
              "value_count": 33
             },
             {
              "group_name": "city",
              "value": "Coventry",
              "value_count": 21
             },
             {
              "group_name": "city",
              "value": "Newcastle-upon-Tyne",
              "value_count": 18
             },
             {
              "group_name": "city",
              "value": "Leeds",
              "value_count": 17
             },
             {
              "group_name": "city",
              "value": "Manchester",
              "value_count": 17
             },
             {
              "group_name": "city",
              "value": "Bristol",
              "value_count": 16
             },
             {
              "group_name": "city",
              "value": "Aberdeen",
              "value_count": 16
             },
             {
              "group_name": "city",
              "value": "Portsmouth",
              "value_count": 14
             },
             {
              "group_name": "city",
              "value": "Southend-on-Sea",
              "value_count": 14
             },
             {
              "group_name": "city",
              "value": "Salford",
              "value_count": 14
             },
             {
              "group_name": "city",
              "value": "Swansea",
              "value_count": 13
             },
             {
              "group_name": "city",
              "value": "Kingston-upon-Hull",
              "value_count": 13
             },
             {
              "group_name": "city",
              "value": "Plymouth",
              "value_count": 12
             },
             {
              "group_name": "city",
              "value": "Reading",
              "value_count": 12
             },
             {
              "group_name": "city",
              "value": "Cardiff",
              "value_count": 12
             },
             {
              "group_name": "city",
              "value": "Huddersfield",
              "value_count": 10
             },
             {
              "group_name": "city",
              "value": "Swindon",
              "value_count": 10
             },
             {
              "group_name": "city",
              "value": "Bradford",
              "value_count": 9
             },
             {
              "group_name": "city",
              "value": "Belfast",
              "value_count": 9
             },
             {
              "group_name": "city",
              "value": "Lodon",
              "value_count": 8
             },
             {
              "group_name": "city",
              "value": "Mansfield",
              "value_count": 8
             },
             {
              "group_name": "city",
              "value": "Peterborough",
              "value_count": 8
             },
             {
              "group_name": "city",
              "value": "Southampton",
              "value_count": 7
             },
             {
              "group_name": "city",
              "value": "Leicester",
              "value_count": 7
             },
             {
              "group_name": "city",
              "value": "York",
              "value_count": 7
             },
             {
              "group_name": "city",
              "value": "Edinburgh",
              "value_count": 7
             },
             {
              "group_name": "city",
              "value": "Glasgow",
              "value_count": 7
             },
             {
              "group_name": "city",
              "value": "Sheffield",
              "value_count": 7
             },
             {
              "group_name": "city",
              "value": "Lonon",
              "value_count": 6
             },
             {
              "group_name": "city",
              "value": "Stoke-on-Trent",
              "value_count": 6
             },
             {
              "group_name": "city",
              "value": "Lonnod",
              "value_count": 6
             },
             {
              "group_name": "city",
              "value": "Dudley",
              "value_count": 6
             },
             {
              "group_name": "city",
              "value": "Londn",
              "value_count": 5
             },
             {
              "group_name": "city",
              "value": "Bolton",
              "value_count": 5
             },
             {
              "group_name": "city",
              "value": "Nottingham",
              "value_count": 5
             },
             {
              "group_name": "city",
              "value": "Ipswich",
              "value_count": 5
             },
             {
              "group_name": "city",
              "value": "Northampton",
              "value_count": 4
             },
             {
              "group_name": "city",
              "value": "Londo",
              "value_count": 4
             },
             {
              "group_name": "city",
              "value": "Milton",
              "value_count": 4
             },
             {
              "group_name": "city",
              "value": "Luton",
              "value_count": 3
             },
             {
              "group_name": "city",
              "value": "Londno",
              "value_count": 3
             },
             {
              "group_name": "city",
              "value": "Walsall",
              "value_count": 3
             },
             {
              "group_name": "city",
              "value": "Middlesbrough",
              "value_count": 3
             },
             {
              "group_name": "city",
              "value": "Londdon",
              "value_count": 2
             },
             {
              "group_name": "city",
              "value": "Southena-on-Sed",
              "value_count": 2
             },
             {
              "group_name": "city",
              "value": "Wolverhampton",
              "value_count": 2
             },
             {
              "group_name": "city",
              "value": "Telford",
              "value_count": 2
             },
             {
              "group_name": "city",
              "value": "Loondon",
              "value_count": 2
             },
             {
              "group_name": "city",
              "value": "Swasea",
              "value_count": 2
             },
             {
              "group_name": "city",
              "value": "Bristo",
              "value_count": 2
             },
             {
              "group_name": "city",
              "value": "Lonndon",
              "value_count": 2
             },
             {
              "group_name": "city",
              "value": "Loodnn",
              "value_count": 2
             },
             {
              "group_name": "city",
              "value": "Lnodon",
              "value_count": 2
             },
             {
              "group_name": "city",
              "value": "Bournemouth",
              "value_count": 2
             },
             {
              "group_name": "city",
              "value": "Londoon",
              "value_count": 2
             },
             {
              "group_name": "city",
              "value": "nLonon",
              "value_count": 2
             },
             {
              "group_name": "city",
              "value": "Hull",
              "value_count": 1
             },
             {
              "group_name": "city",
              "value": "Pootsmruth",
              "value_count": 1
             },
             {
              "group_name": "city",
              "value": "Lunton",
              "value_count": 1
             },
             {
              "group_name": "city",
              "value": "Lvpreool",
              "value_count": 1
             },
             {
              "group_name": "city",
              "value": "Loodon",
              "value_count": 1
             },
             {
              "group_name": "city",
              "value": "Bradfofrd",
              "value_count": 1
             },
             {
              "group_name": "city",
              "value": "Bimingham",
              "value_count": 1
             },
             {
              "group_name": "city",
              "value": "Birminghaim",
              "value_count": 1
             },
             {
              "group_name": "city",
              "value": "Birgmhniam",
              "value_count": 1
             },
             {
              "group_name": "city",
              "value": "Snawseaa",
              "value_count": 1
             },
             {
              "group_name": "city",
              "value": "Swwanea",
              "value_count": 1
             },
             {
              "group_name": "city",
              "value": "swansea",
              "value_count": 1
             },
             {
              "group_name": "city",
              "value": "CCardiff",
              "value_count": 1
             },
             {
              "group_name": "city",
              "value": "oBristl",
              "value_count": 1
             },
             {
              "group_name": "city",
              "value": "fTelford",
              "value_count": 1
             },
             {
              "group_name": "city",
              "value": "Plyoutm",
              "value_count": 1
             },
             {
              "group_name": "city",
              "value": "Bimminghar",
              "value_count": 1
             },
             {
              "group_name": "city",
              "value": "Lonodnn",
              "value_count": 1
             },
             {
              "group_name": "city",
              "value": "Mancheeser",
              "value_count": 1
             },
             {
              "group_name": "city",
              "value": "Mancseter",
              "value_count": 1
             },
             {
              "group_name": "city",
              "value": "Readdng",
              "value_count": 1
             },
             {
              "group_name": "city",
              "value": "Reaing",
              "value_count": 1
             },
             {
              "group_name": "city",
              "value": "Bimingmah",
              "value_count": 1
             },
             {
              "group_name": "city",
              "value": "Birmimghan",
              "value_count": 1
             },
             {
              "group_name": "city",
              "value": "Birminmhag",
              "value_count": 1
             },
             {
              "group_name": "city",
              "value": "Norwhi",
              "value_count": 1
             },
             {
              "group_name": "city",
              "value": "awansS",
              "value_count": 1
             },
             {
              "group_name": "city",
              "value": "Loddon",
              "value_count": 1
             },
             {
              "group_name": "city",
              "value": "nLodon",
              "value_count": 1
             },
             {
              "group_name": "city",
              "value": "nLondon",
              "value_count": 1
             },
             {
              "group_name": "city",
              "value": "BlBton",
              "value_count": 1
             },
             {
              "group_name": "city",
              "value": "Bolon",
              "value_count": 1
             },
             {
              "group_name": "city",
              "value": "Boltno",
              "value_count": 1
             },
             {
              "group_name": "city",
              "value": "Boolton",
              "value_count": 1
             },
             {
              "group_name": "city",
              "value": "Bolto",
              "value_count": 1
             },
             {
              "group_name": "city",
              "value": "LondoLn",
              "value_count": 1
             },
             {
              "group_name": "city",
              "value": "Londodn",
              "value_count": 1
             },
             {
              "group_name": "city",
              "value": "noLdon",
              "value_count": 1
             },
             {
              "group_name": "city",
              "value": "Lpveriool",
              "value_count": 1
             },
             {
              "group_name": "city",
              "value": "Abereden",
              "value_count": 1
             },
             {
              "group_name": "city",
              "value": "BirmBaghnm",
              "value_count": 1
             },
             {
              "group_name": "city",
              "value": "Birimnham",
              "value_count": 1
             },
             {
              "group_name": "city",
              "value": "eManchester",
              "value_count": 1
             },
             {
              "group_name": "city",
              "value": "Manchesetr",
              "value_count": 1
             },
             {
              "group_name": "city",
              "value": "Boisttrl",
              "value_count": 1
             },
             {
              "group_name": "city",
              "value": "Mancester",
              "value_count": 1
             },
             {
              "group_name": "city",
              "value": "Salfoard",
              "value_count": 1
             },
             {
              "group_name": "city",
              "value": "Sralford",
              "value_count": 1
             },
             {
              "group_name": "city",
              "value": "Readng",
              "value_count": 1
             },
             {
              "group_name": "city",
              "value": "Prtsmouth",
              "value_count": 1
             },
             {
              "group_name": "city",
              "value": "ReadRing",
              "value_count": 1
             },
             {
              "group_name": "city",
              "value": "Mansfiel",
              "value_count": 1
             },
             {
              "group_name": "city",
              "value": "Newcastle-upon--Tyne",
              "value_count": 1
             },
             {
              "group_name": "city",
              "value": "NewcstaTe-upon-lyne",
              "value_count": 1
             },
             {
              "group_name": "city",
              "value": "LeicestLe",
              "value_count": 1
             },
             {
              "group_name": "city",
              "value": "Stockton-on-Tees",
              "value_count": 1
             },
             {
              "group_name": "city",
              "value": "StSockton-on-Tees",
              "value_count": 1
             },
             {
              "group_name": "city",
              "value": "Stockton-onsTee-",
              "value_count": 1
             },
             {
              "group_name": "city",
              "value": "Stockton-on-Tes",
              "value_count": 1
             },
             {
              "group_name": "city",
              "value": "Loodnon",
              "value_count": 1
             },
             {
              "group_name": "city",
              "value": "Sundrland",
              "value_count": 1
             },
             {
              "group_name": "city",
              "value": "Sundarlend",
              "value_count": 1
             },
             {
              "group_name": "city",
              "value": "Derby",
              "value_count": 1
             },
             {
              "group_name": "city",
              "value": "Loonon",
              "value_count": 1
             },
             {
              "group_name": "city",
              "value": "Bradfrod",
              "value_count": 1
             },
             {
              "group_name": "city",
              "value": "Brddfora",
              "value_count": 1
             },
             {
              "group_name": "city",
              "value": "Swwaesna",
              "value_count": 1
             },
             {
              "group_name": "city",
              "value": "Swanse",
              "value_count": 1
             },
             {
              "group_name": "city",
              "value": "Petberborough",
              "value_count": 1
             },
             {
              "group_name": "city",
              "value": "Anberden",
              "value_count": 1
             },
             {
              "group_name": "city",
              "value": "Nottinmhag",
              "value_count": 1
             },
             {
              "group_name": "city",
              "value": "Miltn",
              "value_count": 1
             },
             {
              "group_name": "city",
              "value": "Swindno",
              "value_count": 1
             },
             {
              "group_name": "city",
              "value": "Swinon",
              "value_count": 1
             },
             {
              "group_name": "city",
              "value": "Lndon",
              "value_count": 1
             },
             {
              "group_name": "city",
              "value": "Yok",
              "value_count": 1
             },
             {
              "group_name": "city",
              "value": "Yorrk",
              "value_count": 1
             },
             {
              "group_name": "city",
              "value": "Loonnod",
              "value_count": 1
             },
             {
              "group_name": "city",
              "value": "Duudley",
              "value_count": 1
             },
             {
              "group_name": "city",
              "value": "Livopeol",
              "value_count": 1
             },
             {
              "group_name": "city",
              "value": "Liorpovl",
              "value_count": 1
             },
             {
              "group_name": "city",
              "value": "Edhibnurgh",
              "value_count": 1
             },
             {
              "group_name": "city",
              "value": "Kigngston-upon-Hull",
              "value_count": 1
             },
             {
              "group_name": "city",
              "value": "Southamptn",
              "value_count": 1
             },
             {
              "group_name": "city",
              "value": "Sothampton",
              "value_count": 1
             },
             {
              "group_name": "city",
              "value": "Suthammpton",
              "value_count": 1
             },
             {
              "group_name": "city",
              "value": "Southampto",
              "value_count": 1
             },
             {
              "group_name": "city",
              "value": "Boton",
              "value_count": 1
             },
             {
              "group_name": "city",
              "value": "Saford",
              "value_count": 1
             },
             {
              "group_name": "city",
              "value": "Plymuohh",
              "value_count": 1
             },
             {
              "group_name": "city",
              "value": "Sou-hend-ontSea",
              "value_count": 1
             },
             {
              "group_name": "city",
              "value": "Biriminghm",
              "value_count": 1
             },
             {
              "group_name": "city",
              "value": "Birminghram",
              "value_count": 1
             },
             {
              "group_name": "city",
              "value": "Warrington",
              "value_count": 1
             },
             {
              "group_name": "city",
              "value": "Shefeeifld",
              "value_count": 1
             },
             {
              "group_name": "city",
              "value": "Glaswgow",
              "value_count": 1
             },
             {
              "group_name": "city",
              "value": "Cardifrf",
              "value_count": 1
             },
             {
              "group_name": "city",
              "value": "Sheffiel",
              "value_count": 1
             },
             {
              "group_name": "city",
              "value": "Dduley",
              "value_count": 1
             },
             {
              "group_name": "city",
              "value": "Newcastle-pon-Tyne",
              "value_count": 1
             },
             {
              "group_name": "city",
              "value": "Yrk",
              "value_count": 1
             },
             {
              "group_name": "city",
              "value": "Ipsich",
              "value_count": 1
             },
             {
              "group_name": "city",
              "value": "Belfat",
              "value_count": 1
             },
             {
              "group_name": "city",
              "value": "Baltasf",
              "value_count": 1
             },
             {
              "group_name": "city",
              "value": "Portstmouth",
              "value_count": 1
             },
             {
              "group_name": "city",
              "value": "Portsmouh",
              "value_count": 1
             },
             {
              "group_name": "city",
              "value": "Btournemoth",
              "value_count": 1
             },
             {
              "group_name": "city",
              "value": "Reaidng",
              "value_count": 1
             },
             {
              "group_name": "city",
              "value": "Carfiif",
              "value_count": 1
             },
             {
              "group_name": "city",
              "value": "Caarfidf",
              "value_count": 1
             },
             {
              "group_name": "city",
              "value": "Cfrdifa",
              "value_count": 1
             },
             {
              "group_name": "city",
              "value": "Peterborouhg",
              "value_count": 1
             },
             {
              "group_name": "city",
              "value": "Peterbotrough",
              "value_count": 1
             },
             {
              "group_name": "city",
              "value": "LLoodnn",
              "value_count": 1
             },
             {
              "group_name": "city",
              "value": "Londonn",
              "value_count": 1
             },
             {
              "group_name": "city",
              "value": "LLodon",
              "value_count": 1
             },
             {
              "group_name": "city",
              "value": "Stoke-oneTr-nt",
              "value_count": 1
             },
             {
              "group_name": "city",
              "value": "Stokeno--Trent",
              "value_count": 1
             },
             {
              "group_name": "city",
              "value": "Cventry",
              "value_count": 1
             },
             {
              "group_name": "city",
              "value": "Cooventyr",
              "value_count": 1
             },
             {
              "group_name": "city",
              "value": "nwindoS",
              "value_count": 1
             },
             {
              "group_name": "city",
              "value": "Phlymouth",
              "value_count": 1
             },
             {
              "group_name": "city",
              "value": "Kingson-upon-Hull",
              "value_count": 1
             },
             {
              "group_name": "city",
              "value": "Kingston-ulon-Hup",
              "value_count": 1
             },
             {
              "group_name": "city",
              "value": "Kingston-uponH-ull",
              "value_count": 1
             },
             {
              "group_name": "city",
              "value": "Plyumouh",
              "value_count": 1
             },
             {
              "group_name": "city",
              "value": "slaGgogw",
              "value_count": 1
             },
             {
              "group_name": "city",
              "value": "GlasgGow",
              "value_count": 1
             },
             {
              "group_name": "city",
              "value": "Ldnoon",
              "value_count": 1
             },
             {
              "group_name": "city",
              "value": "aSlford",
              "value_count": 1
             },
             {
              "group_name": "city",
              "value": "Sarofd",
              "value_count": 1
             },
             {
              "group_name": "city",
              "value": "WWalverhompton",
              "value_count": 1
             },
             {
              "group_name": "city",
              "value": "Wolverhamtpon",
              "value_count": 1
             },
             {
              "group_name": "city",
              "value": "Lioerpovl",
              "value_count": 1
             },
             {
              "group_name": "city",
              "value": "Leed",
              "value_count": 1
             },
             {
              "group_name": "city",
              "value": "dLondon",
              "value_count": 1
             },
             {
              "group_name": "city",
              "value": "Newastle-upon-Tyne",
              "value_count": 1
             },
             {
              "group_name": "city",
              "value": "TelforTd",
              "value_count": 1
             },
             {
              "group_name": "city",
              "value": "Broadford",
              "value_count": 1
             },
             {
              "group_name": "city",
              "value": "nBirminham",
              "value_count": 1
             },
             {
              "group_name": "city",
              "value": "Birmngham",
              "value_count": 1
             },
             {
              "group_name": "city",
              "value": "Birminghma",
              "value_count": 1
             },
             {
              "group_name": "city",
              "value": "oonodLn",
              "value_count": 1
             },
             {
              "group_name": "city",
              "value": "Bournehhoutm",
              "value_count": 1
             },
             {
              "group_name": "city",
              "value": "Covetry",
              "value_count": 1
             },
             {
              "group_name": "city",
              "value": "kYorY",
              "value_count": 1
             },
             {
              "group_name": "city",
              "value": "Swansae",
              "value_count": 1
             },
             {
              "group_name": "city",
              "value": "Hudersfield",
              "value_count": 1
             },
             {
              "group_name": "city",
              "value": "Hueddersfield",
              "value_count": 1
             },
             {
              "group_name": "city",
              "value": "Covrnty",
              "value_count": 1
             },
             {
              "group_name": "city",
              "value": "Coventyry",
              "value_count": 1
             },
             {
              "group_name": "city",
              "value": "Brritsol",
              "value_count": 1
             },
             {
              "group_name": "city",
              "value": "Rading",
              "value_count": 1
             },
             {
              "group_name": "city",
              "value": "Manshecter",
              "value_count": 1
             },
             {
              "group_name": "city",
              "value": "Lonndno",
              "value_count": 1
             },
             {
              "group_name": "city",
              "value": "oondLn",
              "value_count": 1
             },
             {
              "group_name": "city",
              "value": "Lesde",
              "value_count": 1
             },
             {
              "group_name": "city",
              "value": "Birminigham",
              "value_count": 1
             },
             {
              "group_name": "city",
              "value": "Snawea",
              "value_count": 1
             },
             {
              "group_name": "city",
              "value": "Birmingma",
              "value_count": 1
             }
            ]
           },
           "encoding": {
            "tooltip": [
             {
              "field": "value",
              "type": "quantitative"
             },
             {
              "field": "value_count",
              "type": "quantitative"
             }
            ],
            "x": {
             "field": "value",
             "title": "Value",
             "type": "quantitative"
            },
            "y": {
             "field": "value_count",
             "title": "Density",
             "type": "quantitative"
            }
           },
           "mark": "area",
           "title": "Kernel Density Estimation"
          }
         ]
        },
        {
         "hconcat": [
          {
           "data": {
            "values": [
             {
              "distinct_value_count": 371,
              "group_name": "surname",
              "percentile_ex_nulls": 0.9719169735908508,
              "percentile_inc_nulls": 0.9769999980926514,
              "sum_tokens_in_value_count_group": 23,
              "total_non_null_rows": 819,
              "total_rows_inc_nulls": 1000,
              "value_count": 23
             },
             {
              "distinct_value_count": 371,
              "group_name": "surname",
              "percentile_ex_nulls": 0.9377289414405823,
              "percentile_inc_nulls": 0.9490000009536743,
              "sum_tokens_in_value_count_group": 28,
              "total_non_null_rows": 819,
              "total_rows_inc_nulls": 1000,
              "value_count": 14
             },
             {
              "distinct_value_count": 371,
              "group_name": "surname",
              "percentile_ex_nulls": 0.9059829115867615,
              "percentile_inc_nulls": 0.9229999780654907,
              "sum_tokens_in_value_count_group": 26,
              "total_non_null_rows": 819,
              "total_rows_inc_nulls": 1000,
              "value_count": 13
             },
             {
              "distinct_value_count": 371,
              "group_name": "surname",
              "percentile_ex_nulls": 0.891330897808075,
              "percentile_inc_nulls": 0.9110000133514404,
              "sum_tokens_in_value_count_group": 12,
              "total_non_null_rows": 819,
              "total_rows_inc_nulls": 1000,
              "value_count": 12
             },
             {
              "distinct_value_count": 371,
              "group_name": "surname",
              "percentile_ex_nulls": 0.8778998851776123,
              "percentile_inc_nulls": 0.8999999761581421,
              "sum_tokens_in_value_count_group": 11,
              "total_non_null_rows": 819,
              "total_rows_inc_nulls": 1000,
              "value_count": 11
             },
             {
              "distinct_value_count": 371,
              "group_name": "surname",
              "percentile_ex_nulls": 0.8534798622131348,
              "percentile_inc_nulls": 0.8799999952316284,
              "sum_tokens_in_value_count_group": 20,
              "total_non_null_rows": 819,
              "total_rows_inc_nulls": 1000,
              "value_count": 10
             },
             {
              "distinct_value_count": 371,
              "group_name": "surname",
              "percentile_ex_nulls": 0.831501841545105,
              "percentile_inc_nulls": 0.8619999885559082,
              "sum_tokens_in_value_count_group": 18,
              "total_non_null_rows": 819,
              "total_rows_inc_nulls": 1000,
              "value_count": 9
             },
             {
              "distinct_value_count": 371,
              "group_name": "surname",
              "percentile_ex_nulls": 0.7728937864303589,
              "percentile_inc_nulls": 0.8140000104904175,
              "sum_tokens_in_value_count_group": 48,
              "total_non_null_rows": 819,
              "total_rows_inc_nulls": 1000,
              "value_count": 8
             },
             {
              "distinct_value_count": 371,
              "group_name": "surname",
              "percentile_ex_nulls": 0.721611738204956,
              "percentile_inc_nulls": 0.7720000147819519,
              "sum_tokens_in_value_count_group": 42,
              "total_non_null_rows": 819,
              "total_rows_inc_nulls": 1000,
              "value_count": 7
             },
             {
              "distinct_value_count": 371,
              "group_name": "surname",
              "percentile_ex_nulls": 0.66300368309021,
              "percentile_inc_nulls": 0.7239999771118164,
              "sum_tokens_in_value_count_group": 48,
              "total_non_null_rows": 819,
              "total_rows_inc_nulls": 1000,
              "value_count": 6
             },
             {
              "distinct_value_count": 371,
              "group_name": "surname",
              "percentile_ex_nulls": 0.6080585718154907,
              "percentile_inc_nulls": 0.6790000200271606,
              "sum_tokens_in_value_count_group": 45,
              "total_non_null_rows": 819,
              "total_rows_inc_nulls": 1000,
              "value_count": 5
             },
             {
              "distinct_value_count": 371,
              "group_name": "surname",
              "percentile_ex_nulls": 0.5054944753646851,
              "percentile_inc_nulls": 0.5950000286102295,
              "sum_tokens_in_value_count_group": 84,
              "total_non_null_rows": 819,
              "total_rows_inc_nulls": 1000,
              "value_count": 4
             },
             {
              "distinct_value_count": 371,
              "group_name": "surname",
              "percentile_ex_nulls": 0.39560437202453613,
              "percentile_inc_nulls": 0.5049999952316284,
              "sum_tokens_in_value_count_group": 90,
              "total_non_null_rows": 819,
              "total_rows_inc_nulls": 1000,
              "value_count": 3
             },
             {
              "distinct_value_count": 371,
              "group_name": "surname",
              "percentile_ex_nulls": 0.28815627098083496,
              "percentile_inc_nulls": 0.4169999957084656,
              "sum_tokens_in_value_count_group": 88,
              "total_non_null_rows": 819,
              "total_rows_inc_nulls": 1000,
              "value_count": 2
             },
             {
              "distinct_value_count": 371,
              "group_name": "surname",
              "percentile_ex_nulls": 0,
              "percentile_inc_nulls": 0.1809999942779541,
              "sum_tokens_in_value_count_group": 236,
              "total_non_null_rows": 819,
              "total_rows_inc_nulls": 1000,
              "value_count": 1
             },
             {
              "distinct_value_count": 371,
              "group_name": "surname",
              "percentile_ex_nulls": 1,
              "percentile_inc_nulls": 1,
              "sum_tokens_in_value_count_group": 23,
              "total_non_null_rows": 819,
              "total_rows_inc_nulls": 1000,
              "value_count": 23
             }
            ]
           },
           "encoding": {
            "tooltip": [
             {
              "field": "value_count",
              "type": "quantitative"
             },
             {
              "field": "percentile_ex_nulls",
              "type": "quantitative"
             },
             {
              "field": "percentile_inc_nulls",
              "type": "quantitative"
             },
             {
              "field": "total_non_null_rows",
              "type": "quantitative"
             },
             {
              "field": "total_rows_inc_nulls",
              "type": "quantitative"
             }
            ],
            "x": {
             "field": "percentile_ex_nulls",
             "sort": "descending",
             "title": "Percentile",
             "type": "quantitative"
            },
            "y": {
             "field": "value_count",
             "title": "Count of values",
             "type": "quantitative"
            }
           },
           "mark": {
            "interpolate": "step-after",
            "type": "line"
           },
           "title": {
            "subtitle": "In this col, 181 values (18.1%) are null and there are 371 distinct values",
            "text": "Distribution of counts of values in column surname"
           }
          },
          {
           "data": {
            "values": [
             {
              "distinct_value_count": 371,
              "group_name": "surname",
              "total_non_null_rows": 819,
              "total_rows_inc_nulls": 1000,
              "value": "Jones",
              "value_count": 23
             },
             {
              "distinct_value_count": 371,
              "group_name": "surname",
              "total_non_null_rows": 819,
              "total_rows_inc_nulls": 1000,
              "value": "Davies",
              "value_count": 14
             },
             {
              "distinct_value_count": 371,
              "group_name": "surname",
              "total_non_null_rows": 819,
              "total_rows_inc_nulls": 1000,
              "value": "Taylor",
              "value_count": 14
             },
             {
              "distinct_value_count": 371,
              "group_name": "surname",
              "total_non_null_rows": 819,
              "total_rows_inc_nulls": 1000,
              "value": "Hall",
              "value_count": 13
             },
             {
              "distinct_value_count": 371,
              "group_name": "surname",
              "total_non_null_rows": 819,
              "total_rows_inc_nulls": 1000,
              "value": "Campbell",
              "value_count": 13
             },
             {
              "distinct_value_count": 371,
              "group_name": "surname",
              "total_non_null_rows": 819,
              "total_rows_inc_nulls": 1000,
              "value": "Morgan",
              "value_count": 12
             },
             {
              "distinct_value_count": 371,
              "group_name": "surname",
              "total_non_null_rows": 819,
              "total_rows_inc_nulls": 1000,
              "value": "Smith",
              "value_count": 11
             },
             {
              "distinct_value_count": 371,
              "group_name": "surname",
              "total_non_null_rows": 819,
              "total_rows_inc_nulls": 1000,
              "value": "King",
              "value_count": 10
             },
             {
              "distinct_value_count": 371,
              "group_name": "surname",
              "total_non_null_rows": 819,
              "total_rows_inc_nulls": 1000,
              "value": "Russell",
              "value_count": 10
             },
             {
              "distinct_value_count": 371,
              "group_name": "surname",
              "total_non_null_rows": 819,
              "total_rows_inc_nulls": 1000,
              "value": "Wright",
              "value_count": 9
             }
            ]
           },
           "encoding": {
            "tooltip": [
             {
              "field": "value",
              "type": "nominal"
             },
             {
              "field": "value_count",
              "type": "quantitative"
             },
             {
              "field": "total_non_null_rows",
              "type": "quantitative"
             },
             {
              "field": "total_rows_inc_nulls",
              "type": "quantitative"
             }
            ],
            "x": {
             "field": "value",
             "sort": "-y",
             "title": null,
             "type": "nominal"
            },
            "y": {
             "field": "value_count",
             "title": "Value count",
             "type": "quantitative"
            }
           },
           "mark": "bar",
           "title": "Top 10 values by value count"
          },
          {
           "data": {
            "values": [
             {
              "distinct_value_count": 371,
              "group_name": "surname",
              "total_non_null_rows": 819,
              "total_rows_inc_nulls": 1000,
              "value": "Alan",
              "value_count": 1
             },
             {
              "distinct_value_count": 371,
              "group_name": "surname",
              "total_non_null_rows": 819,
              "total_rows_inc_nulls": 1000,
              "value": "Alen",
              "value_count": 1
             },
             {
              "distinct_value_count": 371,
              "group_name": "surname",
              "total_non_null_rows": 819,
              "total_rows_inc_nulls": 1000,
              "value": "pMurphy",
              "value_count": 1
             },
             {
              "distinct_value_count": 371,
              "group_name": "surname",
              "total_non_null_rows": 819,
              "total_rows_inc_nulls": 1000,
              "value": "Isla",
              "value_count": 1
             },
             {
              "distinct_value_count": 371,
              "group_name": "surname",
              "total_non_null_rows": 819,
              "total_rows_inc_nulls": 1000,
              "value": "Coox",
              "value_count": 1
             }
            ]
           },
           "encoding": {
            "tooltip": [
             {
              "field": "value",
              "type": "nominal"
             },
             {
              "field": "value_count",
              "type": "quantitative"
             },
             {
              "field": "total_non_null_rows",
              "type": "quantitative"
             },
             {
              "field": "total_rows_inc_nulls",
              "type": "quantitative"
             }
            ],
            "x": {
             "field": "value",
             "sort": "-y",
             "title": null,
             "type": "nominal"
            },
            "y": {
             "field": "value_count",
             "scale": {
              "domain": [
               0,
               23
              ]
             },
             "title": "Value count",
             "type": "quantitative"
            }
           },
           "mark": "bar",
           "title": "Bottom 5 values by value count"
          },
          {
           "data": {
            "values": [
             {
              "group_name": "surname",
              "value": "Jones",
              "value_count": 23
             },
             {
              "group_name": "surname",
              "value": "Davies",
              "value_count": 14
             },
             {
              "group_name": "surname",
              "value": "Taylor",
              "value_count": 14
             },
             {
              "group_name": "surname",
              "value": "Hall",
              "value_count": 13
             },
             {
              "group_name": "surname",
              "value": "Campbell",
              "value_count": 13
             },
             {
              "group_name": "surname",
              "value": "Morgan",
              "value_count": 12
             },
             {
              "group_name": "surname",
              "value": "Smith",
              "value_count": 11
             },
             {
              "group_name": "surname",
              "value": "King",
              "value_count": 10
             },
             {
              "group_name": "surname",
              "value": "Russell",
              "value_count": 10
             },
             {
              "group_name": "surname",
              "value": "Wright",
              "value_count": 9
             },
             {
              "group_name": "surname",
              "value": "Dixon",
              "value_count": 9
             },
             {
              "group_name": "surname",
              "value": "Kaur",
              "value_count": 8
             },
             {
              "group_name": "surname",
              "value": "May",
              "value_count": 8
             },
             {
              "group_name": "surname",
              "value": "Lee",
              "value_count": 8
             },
             {
              "group_name": "surname",
              "value": "Williams",
              "value_count": 8
             },
             {
              "group_name": "surname",
              "value": "Fox",
              "value_count": 8
             },
             {
              "group_name": "surname",
              "value": "Edwards",
              "value_count": 8
             },
             {
              "group_name": "surname",
              "value": "Brown",
              "value_count": 7
             },
             {
              "group_name": "surname",
              "value": "Mason",
              "value_count": 7
             },
             {
              "group_name": "surname",
              "value": "Atkinson",
              "value_count": 7
             },
             {
              "group_name": "surname",
              "value": "Payne",
              "value_count": 7
             },
             {
              "group_name": "surname",
              "value": "Hughes",
              "value_count": 7
             },
             {
              "group_name": "surname",
              "value": "James",
              "value_count": 7
             },
             {
              "group_name": "surname",
              "value": "Bennett",
              "value_count": 6
             },
             {
              "group_name": "surname",
              "value": "Freddie",
              "value_count": 6
             },
             {
              "group_name": "surname",
              "value": "Marshall",
              "value_count": 6
             },
             {
              "group_name": "surname",
              "value": "Turner",
              "value_count": 6
             },
             {
              "group_name": "surname",
              "value": "Davidson",
              "value_count": 6
             },
             {
              "group_name": "surname",
              "value": "Owen",
              "value_count": 6
             },
             {
              "group_name": "surname",
              "value": "Roberts",
              "value_count": 6
             },
             {
              "group_name": "surname",
              "value": "Armstrong",
              "value_count": 6
             },
             {
              "group_name": "surname",
              "value": "Rogers",
              "value_count": 5
             },
             {
              "group_name": "surname",
              "value": "Cole",
              "value_count": 5
             },
             {
              "group_name": "surname",
              "value": "Oscar",
              "value_count": 5
             },
             {
              "group_name": "surname",
              "value": "Holmes",
              "value_count": 5
             },
             {
              "group_name": "surname",
              "value": "Watson",
              "value_count": 5
             },
             {
              "group_name": "surname",
              "value": "Adams",
              "value_count": 5
             },
             {
              "group_name": "surname",
              "value": "Riley",
              "value_count": 5
             },
             {
              "group_name": "surname",
              "value": "Bradley",
              "value_count": 5
             },
             {
              "group_name": "surname",
              "value": "Robertson",
              "value_count": 5
             },
             {
              "group_name": "surname",
              "value": "Thomas",
              "value_count": 4
             },
             {
              "group_name": "surname",
              "value": "Gabriel",
              "value_count": 4
             },
             {
              "group_name": "surname",
              "value": "Morris",
              "value_count": 4
             },
             {
              "group_name": "surname",
              "value": "Evans",
              "value_count": 4
             },
             {
              "group_name": "surname",
              "value": "Logan",
              "value_count": 4
             },
             {
              "group_name": "surname",
              "value": "Andrews",
              "value_count": 4
             },
             {
              "group_name": "surname",
              "value": "Fletcher",
              "value_count": 4
             },
             {
              "group_name": "surname",
              "value": "Reuben",
              "value_count": 4
             },
             {
              "group_name": "surname",
              "value": "Davis",
              "value_count": 4
             },
             {
              "group_name": "surname",
              "value": "Scott",
              "value_count": 4
             },
             {
              "group_name": "surname",
              "value": "Noah",
              "value_count": 4
             },
             {
              "group_name": "surname",
              "value": "Clarke",
              "value_count": 4
             },
             {
              "group_name": "surname",
              "value": "Shaw",
              "value_count": 4
             },
             {
              "group_name": "surname",
              "value": "Curtis",
              "value_count": 4
             },
             {
              "group_name": "surname",
              "value": "Day",
              "value_count": 4
             },
             {
              "group_name": "surname",
              "value": "West",
              "value_count": 4
             },
             {
              "group_name": "surname",
              "value": "Harper",
              "value_count": 4
             },
             {
              "group_name": "surname",
              "value": "Robinson",
              "value_count": 4
             },
             {
              "group_name": "surname",
              "value": "Rhodes",
              "value_count": 4
             },
             {
              "group_name": "surname",
              "value": "Miller",
              "value_count": 4
             },
             {
              "group_name": "surname",
              "value": "Lloyd",
              "value_count": 4
             },
             {
              "group_name": "surname",
              "value": "Dean",
              "value_count": 3
             },
             {
              "group_name": "surname",
              "value": "Griffiths",
              "value_count": 3
             },
             {
              "group_name": "surname",
              "value": "Caleb",
              "value_count": 3
             },
             {
              "group_name": "surname",
              "value": "Green",
              "value_count": 3
             },
             {
              "group_name": "surname",
              "value": "Moore",
              "value_count": 3
             },
             {
              "group_name": "surname",
              "value": "Barker",
              "value_count": 3
             },
             {
              "group_name": "surname",
              "value": "Ellis",
              "value_count": 3
             },
             {
              "group_name": "surname",
              "value": "Page",
              "value_count": 3
             },
             {
              "group_name": "surname",
              "value": "Brooks",
              "value_count": 3
             },
             {
              "group_name": "surname",
              "value": "Florence",
              "value_count": 3
             },
             {
              "group_name": "surname",
              "value": "Jackson",
              "value_count": 3
             },
             {
              "group_name": "surname",
              "value": "Banks",
              "value_count": 3
             },
             {
              "group_name": "surname",
              "value": "Oliver",
              "value_count": 3
             },
             {
              "group_name": "surname",
              "value": "Norman",
              "value_count": 3
             },
             {
              "group_name": "surname",
              "value": "White",
              "value_count": 3
             },
             {
              "group_name": "surname",
              "value": "Clark",
              "value_count": 3
             },
             {
              "group_name": "surname",
              "value": "Sutherland",
              "value_count": 3
             },
             {
              "group_name": "surname",
              "value": "Porter",
              "value_count": 3
             },
             {
              "group_name": "surname",
              "value": "Wilkinson",
              "value_count": 3
             },
             {
              "group_name": "surname",
              "value": "Hunter",
              "value_count": 3
             },
             {
              "group_name": "surname",
              "value": "Young",
              "value_count": 3
             },
             {
              "group_name": "surname",
              "value": "Byrne",
              "value_count": 3
             },
             {
              "group_name": "surname",
              "value": "Elliott",
              "value_count": 3
             },
             {
              "group_name": "surname",
              "value": "Wells",
              "value_count": 3
             },
             {
              "group_name": "surname",
              "value": "Rice",
              "value_count": 3
             },
             {
              "group_name": "surname",
              "value": "Cross",
              "value_count": 3
             },
             {
              "group_name": "surname",
              "value": "Carter",
              "value_count": 3
             },
             {
              "group_name": "surname",
              "value": "Pearson",
              "value_count": 3
             },
             {
              "group_name": "surname",
              "value": "Bird",
              "value_count": 3
             },
             {
              "group_name": "surname",
              "value": "Shah",
              "value_count": 3
             },
             {
              "group_name": "surname",
              "value": "Allen",
              "value_count": 2
             },
             {
              "group_name": "surname",
              "value": "Kelly",
              "value_count": 2
             },
             {
              "group_name": "surname",
              "value": "Rowe",
              "value_count": 2
             },
             {
              "group_name": "surname",
              "value": "Mitchell",
              "value_count": 2
             },
             {
              "group_name": "surname",
              "value": "Johnson",
              "value_count": 2
             },
             {
              "group_name": "surname",
              "value": "Alfie",
              "value_count": 2
             },
             {
              "group_name": "surname",
              "value": "Walsh",
              "value_count": 2
             },
             {
              "group_name": "surname",
              "value": "Macdonald",
              "value_count": 2
             },
             {
              "group_name": "surname",
              "value": "Price",
              "value_count": 2
             },
             {
              "group_name": "surname",
              "value": "Both",
              "value_count": 2
             },
             {
              "group_name": "surname",
              "value": "Arnold",
              "value_count": 2
             },
             {
              "group_name": "surname",
              "value": "Wiliams",
              "value_count": 2
             },
             {
              "group_name": "surname",
              "value": "Henry",
              "value_count": 2
             },
             {
              "group_name": "surname",
              "value": "Le",
              "value_count": 2
             },
             {
              "group_name": "surname",
              "value": "Andresw",
              "value_count": 2
             },
             {
              "group_name": "surname",
              "value": "Rose",
              "value_count": 2
             },
             {
              "group_name": "surname",
              "value": "Ros",
              "value_count": 2
             },
             {
              "group_name": "surname",
              "value": "Richards",
              "value_count": 2
             },
             {
              "group_name": "surname",
              "value": "Wood",
              "value_count": 2
             },
             {
              "group_name": "surname",
              "value": "Nicholson",
              "value_count": 2
             },
             {
              "group_name": "surname",
              "value": "Martin",
              "value_count": 2
             },
             {
              "group_name": "surname",
              "value": "Jacob",
              "value_count": 2
             },
             {
              "group_name": "surname",
              "value": "Daves",
              "value_count": 2
             },
             {
              "group_name": "surname",
              "value": "Harvey",
              "value_count": 2
             },
             {
              "group_name": "surname",
              "value": "Amber",
              "value_count": 2
             },
             {
              "group_name": "surname",
              "value": "George",
              "value_count": 2
             },
             {
              "group_name": "surname",
              "value": "Dawson",
              "value_count": 2
             },
             {
              "group_name": "surname",
              "value": "Gregory",
              "value_count": 2
             },
             {
              "group_name": "surname",
              "value": "Violet",
              "value_count": 2
             },
             {
              "group_name": "surname",
              "value": "Baxter",
              "value_count": 2
             },
             {
              "group_name": "surname",
              "value": "Hunt",
              "value_count": 2
             },
             {
              "group_name": "surname",
              "value": "Jarvis",
              "value_count": 2
             },
             {
              "group_name": "surname",
              "value": "Williamson",
              "value_count": 2
             },
             {
              "group_name": "surname",
              "value": "Johnston",
              "value_count": 2
             },
             {
              "group_name": "surname",
              "value": "Ahmed",
              "value_count": 2
             },
             {
              "group_name": "surname",
              "value": "Cox",
              "value_count": 2
             },
             {
              "group_name": "surname",
              "value": "Eva",
              "value_count": 2
             },
             {
              "group_name": "surname",
              "value": "Wilson",
              "value_count": 2
             },
             {
              "group_name": "surname",
              "value": "Webster",
              "value_count": 2
             },
             {
              "group_name": "surname",
              "value": "Patterson",
              "value_count": 2
             },
             {
              "group_name": "surname",
              "value": "Mills",
              "value_count": 2
             },
             {
              "group_name": "surname",
              "value": "Scarlett",
              "value_count": 2
             },
             {
              "group_name": "surname",
              "value": "Khan",
              "value_count": 2
             },
             {
              "group_name": "surname",
              "value": "Olivia",
              "value_count": 2
             },
             {
              "group_name": "surname",
              "value": "Alan",
              "value_count": 1
             },
             {
              "group_name": "surname",
              "value": "Alen",
              "value_count": 1
             },
             {
              "group_name": "surname",
              "value": "pMurphy",
              "value_count": 1
             },
             {
              "group_name": "surname",
              "value": "Isla",
              "value_count": 1
             },
             {
              "group_name": "surname",
              "value": "Coox",
              "value_count": 1
             },
             {
              "group_name": "surname",
              "value": "Rwoe",
              "value_count": 1
             },
             {
              "group_name": "surname",
              "value": "Bernass",
              "value_count": 1
             },
             {
              "group_name": "surname",
              "value": "Bron",
              "value_count": 1
             },
             {
              "group_name": "surname",
              "value": "Brrown",
              "value_count": 1
             },
             {
              "group_name": "surname",
              "value": "Mosrir",
              "value_count": 1
             },
             {
              "group_name": "surname",
              "value": "Roers",
              "value_count": 1
             },
             {
              "group_name": "surname",
              "value": "Bnennet",
              "value_count": 1
             },
             {
              "group_name": "surname",
              "value": "Kikr",
              "value_count": 1
             },
             {
              "group_name": "surname",
              "value": "Jsneo",
              "value_count": 1
             },
             {
              "group_name": "surname",
              "value": "Jonse",
              "value_count": 1
             },
             {
              "group_name": "surname",
              "value": "Willow",
              "value_count": 1
             },
             {
              "group_name": "surname",
              "value": "Begum",
              "value_count": 1
             },
             {
              "group_name": "surname",
              "value": "Gorodon",
              "value_count": 1
             },
             {
              "group_name": "surname",
              "value": "Eavns",
              "value_count": 1
             },
             {
              "group_name": "surname",
              "value": "Griffihs",
              "value_count": 1
             },
             {
              "group_name": "surname",
              "value": "Atkinnos",
              "value_count": 1
             },
             {
              "group_name": "surname",
              "value": "Bond",
              "value_count": 1
             },
             {
              "group_name": "surname",
              "value": "Dylan",
              "value_count": 1
             },
             {
              "group_name": "surname",
              "value": "Kra",
              "value_count": 1
             },
             {
              "group_name": "surname",
              "value": "Harley",
              "value_count": 1
             },
             {
              "group_name": "surname",
              "value": "Matilda",
              "value_count": 1
             },
             {
              "group_name": "surname",
              "value": "Brker",
              "value_count": 1
             },
             {
              "group_name": "surname",
              "value": "Kelyl",
              "value_count": 1
             },
             {
              "group_name": "surname",
              "value": "eKelly",
              "value_count": 1
             },
             {
              "group_name": "surname",
              "value": "BBird",
              "value_count": 1
             },
             {
              "group_name": "surname",
              "value": "Thomson",
              "value_count": 1
             },
             {
              "group_name": "surname",
              "value": "Holly",
              "value_count": 1
             },
             {
              "group_name": "surname",
              "value": "Tmhsmoo",
              "value_count": 1
             },
             {
              "group_name": "surname",
              "value": "Writhg",
              "value_count": 1
             },
             {
              "group_name": "surname",
              "value": "Eislls",
              "value_count": 1
             },
             {
              "group_name": "surname",
              "value": "lEllis",
              "value_count": 1
             },
             {
              "group_name": "surname",
              "value": "Walker",
              "value_count": 1
             },
             {
              "group_name": "surname",
              "value": "Pricie",
              "value_count": 1
             },
             {
              "group_name": "surname",
              "value": "Pcire",
              "value_count": 1
             },
             {
              "group_name": "surname",
              "value": "Pricce",
              "value_count": 1
             },
             {
              "group_name": "surname",
              "value": "Booth",
              "value_count": 1
             },
             {
              "group_name": "surname",
              "value": "Taaylor",
              "value_count": 1
             },
             {
              "group_name": "surname",
              "value": "PaPge",
              "value_count": 1
             },
             {
              "group_name": "surname",
              "value": "Sstephens",
              "value_count": 1
             },
             {
              "group_name": "surname",
              "value": "Stephens",
              "value_count": 1
             },
             {
              "group_name": "surname",
              "value": "Stehesn",
              "value_count": 1
             },
             {
              "group_name": "surname",
              "value": "serguFon",
              "value_count": 1
             },
             {
              "group_name": "surname",
              "value": "Ferguson",
              "value_count": 1
             },
             {
              "group_name": "surname",
              "value": "Feeruson",
              "value_count": 1
             },
             {
              "group_name": "surname",
              "value": "Daevies",
              "value_count": 1
             },
             {
              "group_name": "surname",
              "value": "Daviaes",
              "value_count": 1
             },
             {
              "group_name": "surname",
              "value": "DaviDs",
              "value_count": 1
             },
             {
              "group_name": "surname",
              "value": "hhS",
              "value_count": 1
             },
             {
              "group_name": "surname",
              "value": "Freya",
              "value_count": 1
             },
             {
              "group_name": "surname",
              "value": "Breyr",
              "value_count": 1
             },
             {
              "group_name": "surname",
              "value": "Sofia",
              "value_count": 1
             },
             {
              "group_name": "surname",
              "value": "Ruusesll",
              "value_count": 1
             },
             {
              "group_name": "surname",
              "value": "Hguehes",
              "value_count": 1
             },
             {
              "group_name": "surname",
              "value": "Hugues",
              "value_count": 1
             },
             {
              "group_name": "surname",
              "value": "Simmons",
              "value_count": 1
             },
             {
              "group_name": "surname",
              "value": "Brookks",
              "value_count": 1
             },
             {
              "group_name": "surname",
              "value": "Lydia",
              "value_count": 1
             },
             {
              "group_name": "surname",
              "value": "Palmer",
              "value_count": 1
             },
             {
              "group_name": "surname",
              "value": "aTlylor",
              "value_count": 1
             },
             {
              "group_name": "surname",
              "value": "Tyalor",
              "value_count": 1
             },
             {
              "group_name": "surname",
              "value": "Lola",
              "value_count": 1
             },
             {
              "group_name": "surname",
              "value": "Parker",
              "value_count": 1
             },
             {
              "group_name": "surname",
              "value": "Bailey",
              "value_count": 1
             },
             {
              "group_name": "surname",
              "value": "Baiyel",
              "value_count": 1
             },
             {
              "group_name": "surname",
              "value": "Murray",
              "value_count": 1
             },
             {
              "group_name": "surname",
              "value": "Wason",
              "value_count": 1
             },
             {
              "group_name": "surname",
              "value": "Hugghes",
              "value_count": 1
             },
             {
              "group_name": "surname",
              "value": "Hghes",
              "value_count": 1
             },
             {
              "group_name": "surname",
              "value": "Fletche",
              "value_count": 1
             },
             {
              "group_name": "surname",
              "value": "Rchards",
              "value_count": 1
             },
             {
              "group_name": "surname",
              "value": "Nicholon",
              "value_count": 1
             },
             {
              "group_name": "surname",
              "value": "Niocholson",
              "value_count": 1
             },
             {
              "group_name": "surname",
              "value": "William",
              "value_count": 1
             },
             {
              "group_name": "surname",
              "value": "Thoms",
              "value_count": 1
             },
             {
              "group_name": "surname",
              "value": "Thsomas",
              "value_count": 1
             },
             {
              "group_name": "surname",
              "value": "FFox",
              "value_count": 1
             },
             {
              "group_name": "surname",
              "value": "Cbmpael",
              "value_count": 1
             },
             {
              "group_name": "surname",
              "value": "Lopz",
              "value_count": 1
             },
             {
              "group_name": "surname",
              "value": "Lopez",
              "value_count": 1
             },
             {
              "group_name": "surname",
              "value": "Dviis",
              "value_count": 1
             },
             {
              "group_name": "surname",
              "value": "aDvs",
              "value_count": 1
             },
             {
              "group_name": "surname",
              "value": "eoookC",
              "value_count": 1
             },
             {
              "group_name": "surname",
              "value": "Cooke",
              "value_count": 1
             },
             {
              "group_name": "surname",
              "value": "Cooe",
              "value_count": 1
             },
             {
              "group_name": "surname",
              "value": "Cunningam",
              "value_count": 1
             },
             {
              "group_name": "surname",
              "value": "Robestsr",
              "value_count": 1
             },
             {
              "group_name": "surname",
              "value": "Scotot",
              "value_count": 1
             },
             {
              "group_name": "surname",
              "value": "Soctt",
              "value_count": 1
             },
             {
              "group_name": "surname",
              "value": "Kuar",
              "value_count": 1
             },
             {
              "group_name": "surname",
              "value": "Bryant",
              "value_count": 1
             },
             {
              "group_name": "surname",
              "value": "Braynt",
              "value_count": 1
             },
             {
              "group_name": "surname",
              "value": "BryBant",
              "value_count": 1
             },
             {
              "group_name": "surname",
              "value": "Hrvey",
              "value_count": 1
             },
             {
              "group_name": "surname",
              "value": "varHery",
              "value_count": 1
             },
             {
              "group_name": "surname",
              "value": "Sctot",
              "value_count": 1
             },
             {
              "group_name": "surname",
              "value": "Gill",
              "value_count": 1
             },
             {
              "group_name": "surname",
              "value": "iOlrve",
              "value_count": 1
             },
             {
              "group_name": "surname",
              "value": "Olriver",
              "value_count": 1
             },
             {
              "group_name": "surname",
              "value": "Nomran",
              "value_count": 1
             },
             {
              "group_name": "surname",
              "value": "Norma",
              "value_count": 1
             },
             {
              "group_name": "surname",
              "value": "Harrison",
              "value_count": 1
             },
             {
              "group_name": "surname",
              "value": "Kah",
              "value_count": 1
             },
             {
              "group_name": "surname",
              "value": "Theo",
              "value_count": 1
             },
             {
              "group_name": "surname",
              "value": "Whhite",
              "value_count": 1
             },
             {
              "group_name": "surname",
              "value": "Wheti",
              "value_count": 1
             },
             {
              "group_name": "surname",
              "value": "Moorgan",
              "value_count": 1
             },
             {
              "group_name": "surname",
              "value": "OOwen",
              "value_count": 1
             },
             {
              "group_name": "surname",
              "value": "Dawon",
              "value_count": 1
             },
             {
              "group_name": "surname",
              "value": "sAdams",
              "value_count": 1
             },
             {
              "group_name": "surname",
              "value": "Adsrews",
              "value_count": 1
             },
             {
              "group_name": "surname",
              "value": "wnddreAs",
              "value_count": 1
             },
             {
              "group_name": "surname",
              "value": "Kiing",
              "value_count": 1
             },
             {
              "group_name": "surname",
              "value": "alCr",
              "value_count": 1
             },
             {
              "group_name": "surname",
              "value": "Clakr",
              "value_count": 1
             },
             {
              "group_name": "surname",
              "value": "ClaCrke",
              "value_count": 1
             },
             {
              "group_name": "surname",
              "value": "Robyn",
              "value_count": 1
             },
             {
              "group_name": "surname",
              "value": "Owe",
              "value_count": 1
             },
             {
              "group_name": "surname",
              "value": "Gordon",
              "value_count": 1
             },
             {
              "group_name": "surname",
              "value": "Edwardds",
              "value_count": 1
             },
             {
              "group_name": "surname",
              "value": "Grace",
              "value_count": 1
             },
             {
              "group_name": "surname",
              "value": "Kik",
              "value_count": 1
             },
             {
              "group_name": "surname",
              "value": "Kiirk",
              "value_count": 1
             },
             {
              "group_name": "surname",
              "value": "Kirk",
              "value_count": 1
             },
             {
              "group_name": "surname",
              "value": "Haall",
              "value_count": 1
             },
             {
              "group_name": "surname",
              "value": "Rogres",
              "value_count": 1
             },
             {
              "group_name": "surname",
              "value": "Porrret",
              "value_count": 1
             },
             {
              "group_name": "surname",
              "value": "Stephnnsoe",
              "value_count": 1
             },
             {
              "group_name": "surname",
              "value": "SStephenson",
              "value_count": 1
             },
             {
              "group_name": "surname",
              "value": "Hopkins",
              "value_count": 1
             },
             {
              "group_name": "surname",
              "value": "mJams",
              "value_count": 1
             },
             {
              "group_name": "surname",
              "value": "Davidvson",
              "value_count": 1
             },
             {
              "group_name": "surname",
              "value": "hugHes",
              "value_count": 1
             },
             {
              "group_name": "surname",
              "value": "Adass",
              "value_count": 1
             },
             {
              "group_name": "surname",
              "value": "Adasm",
              "value_count": 1
             },
             {
              "group_name": "surname",
              "value": "Ethan",
              "value_count": 1
             },
             {
              "group_name": "surname",
              "value": "ShaSw",
              "value_count": 1
             },
             {
              "group_name": "surname",
              "value": "Robert",
              "value_count": 1
             },
             {
              "group_name": "surname",
              "value": "Rberts",
              "value_count": 1
             },
             {
              "group_name": "surname",
              "value": "Wilikinson",
              "value_count": 1
             },
             {
              "group_name": "surname",
              "value": "Imogen",
              "value_count": 1
             },
             {
              "group_name": "surname",
              "value": "Roe",
              "value_count": 1
             },
             {
              "group_name": "surname",
              "value": "Rewo",
              "value_count": 1
             },
             {
              "group_name": "surname",
              "value": "Kennedy",
              "value_count": 1
             },
             {
              "group_name": "surname",
              "value": "Willismaon",
              "value_count": 1
             },
             {
              "group_name": "surname",
              "value": "Sahw",
              "value_count": 1
             },
             {
              "group_name": "surname",
              "value": "nJohnston",
              "value_count": 1
             },
             {
              "group_name": "surname",
              "value": "Johnstn",
              "value_count": 1
             },
             {
              "group_name": "surname",
              "value": "Johnoston",
              "value_count": 1
             },
             {
              "group_name": "surname",
              "value": "Rosie",
              "value_count": 1
             },
             {
              "group_name": "surname",
              "value": "Huter",
              "value_count": 1
             },
             {
              "group_name": "surname",
              "value": "Hunte",
              "value_count": 1
             },
             {
              "group_name": "surname",
              "value": "RRes",
              "value_count": 1
             },
             {
              "group_name": "surname",
              "value": "Rees",
              "value_count": 1
             },
             {
              "group_name": "surname",
              "value": "Maya",
              "value_count": 1
             },
             {
              "group_name": "surname",
              "value": "Curtsi",
              "value_count": 1
             },
             {
              "group_name": "surname",
              "value": "Hlla",
              "value_count": 1
             },
             {
              "group_name": "surname",
              "value": "Joes",
              "value_count": 1
             },
             {
              "group_name": "surname",
              "value": "Josen",
              "value_count": 1
             },
             {
              "group_name": "surname",
              "value": "Mia",
              "value_count": 1
             },
             {
              "group_name": "surname",
              "value": "JJones",
              "value_count": 1
             },
             {
              "group_name": "surname",
              "value": "Isaac",
              "value_count": 1
             },
             {
              "group_name": "surname",
              "value": "Evelyn",
              "value_count": 1
             },
             {
              "group_name": "surname",
              "value": "Ahmd",
              "value_count": 1
             },
             {
              "group_name": "surname",
              "value": "Carr",
              "value_count": 1
             },
             {
              "group_name": "surname",
              "value": "Cx",
              "value_count": 1
             },
             {
              "group_name": "surname",
              "value": "Dy",
              "value_count": 1
             },
             {
              "group_name": "surname",
              "value": "Eddwards",
              "value_count": 1
             },
             {
              "group_name": "surname",
              "value": "Armstrnog",
              "value_count": 1
             },
             {
              "group_name": "surname",
              "value": "Armstorogn",
              "value_count": 1
             },
             {
              "group_name": "surname",
              "value": "Fisher",
              "value_count": 1
             },
             {
              "group_name": "surname",
              "value": "Tayrlor",
              "value_count": 1
             },
             {
              "group_name": "surname",
              "value": "Tayolr",
              "value_count": 1
             },
             {
              "group_name": "surname",
              "value": "Joshua",
              "value_count": 1
             },
             {
              "group_name": "surname",
              "value": "Taylr",
              "value_count": 1
             },
             {
              "group_name": "surname",
              "value": "sWt",
              "value_count": 1
             },
             {
              "group_name": "surname",
              "value": "Bull",
              "value_count": 1
             },
             {
              "group_name": "surname",
              "value": "RogeRrs",
              "value_count": 1
             },
             {
              "group_name": "surname",
              "value": "Harppe",
              "value_count": 1
             },
             {
              "group_name": "surname",
              "value": "Charlotte",
              "value_count": 1
             },
             {
              "group_name": "surname",
              "value": "Waton",
              "value_count": 1
             },
             {
              "group_name": "surname",
              "value": "Fltceer",
              "value_count": 1
             },
             {
              "group_name": "surname",
              "value": "Wels",
              "value_count": 1
             },
             {
              "group_name": "surname",
              "value": "Marlshall",
              "value_count": 1
             },
             {
              "group_name": "surname",
              "value": "Robibnson",
              "value_count": 1
             },
             {
              "group_name": "surname",
              "value": "Robonson",
              "value_count": 1
             },
             {
              "group_name": "surname",
              "value": "RobRison",
              "value_count": 1
             },
             {
              "group_name": "surname",
              "value": "Lily",
              "value_count": 1
             },
             {
              "group_name": "surname",
              "value": "Wslion",
              "value_count": 1
             },
             {
              "group_name": "surname",
              "value": "Wantol",
              "value_count": 1
             },
             {
              "group_name": "surname",
              "value": "Walton",
              "value_count": 1
             },
             {
              "group_name": "surname",
              "value": "Braldaey",
              "value_count": 1
             },
             {
              "group_name": "surname",
              "value": "LLee",
              "value_count": 1
             },
             {
              "group_name": "surname",
              "value": "Leee",
              "value_count": 1
             },
             {
              "group_name": "surname",
              "value": "Jaxon",
              "value_count": 1
             },
             {
              "group_name": "surname",
              "value": "Aria",
              "value_count": 1
             },
             {
              "group_name": "surname",
              "value": "Cros",
              "value_count": 1
             },
             {
              "group_name": "surname",
              "value": "Mnrtia",
              "value_count": 1
             },
             {
              "group_name": "surname",
              "value": "Toby",
              "value_count": 1
             },
             {
              "group_name": "surname",
              "value": "Mawxell",
              "value_count": 1
             },
             {
              "group_name": "surname",
              "value": "Maxlewl",
              "value_count": 1
             },
             {
              "group_name": "surname",
              "value": "Amelia",
              "value_count": 1
             },
             {
              "group_name": "surname",
              "value": "Robinnso",
              "value_count": 1
             },
             {
              "group_name": "surname",
              "value": "Robinssno",
              "value_count": 1
             },
             {
              "group_name": "surname",
              "value": "Rnbinsoo",
              "value_count": 1
             },
             {
              "group_name": "surname",
              "value": "Sarah",
              "value_count": 1
             },
             {
              "group_name": "surname",
              "value": "Roberton",
              "value_count": 1
             },
             {
              "group_name": "surname",
              "value": "Millls",
              "value_count": 1
             },
             {
              "group_name": "surname",
              "value": "Jsneeo",
              "value_count": 1
             },
             {
              "group_name": "surname",
              "value": "Joenes",
              "value_count": 1
             },
             {
              "group_name": "surname",
              "value": "Arnmstrong",
              "value_count": 1
             },
             {
              "group_name": "surname",
              "value": "Armstronog",
              "value_count": 1
             },
             {
              "group_name": "surname",
              "value": "Milller",
              "value_count": 1
             },
             {
              "group_name": "surname",
              "value": "lWisliaml",
              "value_count": 1
             },
             {
              "group_name": "surname",
              "value": "Williasm",
              "value_count": 1
             },
             {
              "group_name": "surname",
              "value": "Nancy",
              "value_count": 1
             },
             {
              "group_name": "surname",
              "value": "Ducan",
              "value_count": 1
             },
             {
              "group_name": "surname",
              "value": "Hsmel",
              "value_count": 1
             },
             {
              "group_name": "surname",
              "value": "WilliaWms",
              "value_count": 1
             },
             {
              "group_name": "surname",
              "value": "Poppy",
              "value_count": 1
             },
             {
              "group_name": "surname",
              "value": "Daivs",
              "value_count": 1
             },
             {
              "group_name": "surname",
              "value": "Grerrogy",
              "value_count": 1
             },
             {
              "group_name": "surname",
              "value": "Nemena",
              "value_count": 1
             },
             {
              "group_name": "surname",
              "value": "rooper",
              "value_count": 1
             },
             {
              "group_name": "surname",
              "value": "imith",
              "value_count": 1
             },
             {
              "group_name": "surname",
              "value": "Marrtin",
              "value_count": 1
             },
             {
              "group_name": "surname",
              "value": "Fisreh",
              "value_count": 1
             },
             {
              "group_name": "surname",
              "value": "Fishier",
              "value_count": 1
             },
             {
              "group_name": "surname",
              "value": "Davsi",
              "value_count": 1
             },
             {
              "group_name": "surname",
              "value": "Fraser",
              "value_count": 1
             },
             {
              "group_name": "surname",
              "value": "Miiller",
              "value_count": 1
             },
             {
              "group_name": "surname",
              "value": "Jnes",
              "value_count": 1
             }
            ]
           },
           "encoding": {
            "tooltip": [
             {
              "field": "value",
              "type": "quantitative"
             },
             {
              "field": "value_count",
              "type": "quantitative"
             }
            ],
            "x": {
             "field": "value",
             "title": "Value",
             "type": "quantitative"
            },
            "y": {
             "field": "value_count",
             "title": "Density",
             "type": "quantitative"
            }
           },
           "mark": "area",
           "title": "Kernel Density Estimation"
          }
         ]
        },
        {
         "hconcat": [
          {
           "data": {
            "values": [
             {
              "distinct_value_count": 424,
              "group_name": "email",
              "percentile_ex_nulls": 0.9619771838188171,
              "percentile_inc_nulls": 0.9700000286102295,
              "sum_tokens_in_value_count_group": 30,
              "total_non_null_rows": 789,
              "total_rows_inc_nulls": 1000,
              "value_count": 6
             },
             {
              "distinct_value_count": 424,
              "group_name": "email",
              "percentile_ex_nulls": 0.8479087352752686,
              "percentile_inc_nulls": 0.8799999952316284,
              "sum_tokens_in_value_count_group": 90,
              "total_non_null_rows": 789,
              "total_rows_inc_nulls": 1000,
              "value_count": 5
             },
             {
              "distinct_value_count": 424,
              "group_name": "email",
              "percentile_ex_nulls": 0.6653992533683777,
              "percentile_inc_nulls": 0.7360000014305115,
              "sum_tokens_in_value_count_group": 144,
              "total_non_null_rows": 789,
              "total_rows_inc_nulls": 1000,
              "value_count": 4
             },
             {
              "distinct_value_count": 424,
              "group_name": "email",
              "percentile_ex_nulls": 0.47148287296295166,
              "percentile_inc_nulls": 0.5830000042915344,
              "sum_tokens_in_value_count_group": 153,
              "total_non_null_rows": 789,
              "total_rows_inc_nulls": 1000,
              "value_count": 3
             },
             {
              "distinct_value_count": 424,
              "group_name": "email",
              "percentile_ex_nulls": 0.32446134090423584,
              "percentile_inc_nulls": 0.46700000762939453,
              "sum_tokens_in_value_count_group": 116,
              "total_non_null_rows": 789,
              "total_rows_inc_nulls": 1000,
              "value_count": 2
             },
             {
              "distinct_value_count": 424,
              "group_name": "email",
              "percentile_ex_nulls": 0,
              "percentile_inc_nulls": 0.21100002527236938,
              "sum_tokens_in_value_count_group": 256,
              "total_non_null_rows": 789,
              "total_rows_inc_nulls": 1000,
              "value_count": 1
             },
             {
              "distinct_value_count": 424,
              "group_name": "email",
              "percentile_ex_nulls": 1,
              "percentile_inc_nulls": 1,
              "sum_tokens_in_value_count_group": 30,
              "total_non_null_rows": 789,
              "total_rows_inc_nulls": 1000,
              "value_count": 6
             }
            ]
           },
           "encoding": {
            "tooltip": [
             {
              "field": "value_count",
              "type": "quantitative"
             },
             {
              "field": "percentile_ex_nulls",
              "type": "quantitative"
             },
             {
              "field": "percentile_inc_nulls",
              "type": "quantitative"
             },
             {
              "field": "total_non_null_rows",
              "type": "quantitative"
             },
             {
              "field": "total_rows_inc_nulls",
              "type": "quantitative"
             }
            ],
            "x": {
             "field": "percentile_ex_nulls",
             "sort": "descending",
             "title": "Percentile",
             "type": "quantitative"
            },
            "y": {
             "field": "value_count",
             "title": "Count of values",
             "type": "quantitative"
            }
           },
           "mark": {
            "interpolate": "step-after",
            "type": "line"
           },
           "title": {
            "subtitle": "In this col, 211 values (21.1%) are null and there are 424 distinct values",
            "text": "Distribution of counts of values in column email"
           }
          },
          {
           "data": {
            "values": [
             {
              "distinct_value_count": 424,
              "group_name": "email",
              "total_non_null_rows": 789,
              "total_rows_inc_nulls": 1000,
              "value": "omoore64@randall.com",
              "value_count": 6
             },
             {
              "distinct_value_count": 424,
              "group_name": "email",
              "total_non_null_rows": 789,
              "total_rows_inc_nulls": 1000,
              "value": "j.williams@levine-johnson.com",
              "value_count": 6
             },
             {
              "distinct_value_count": 424,
              "group_name": "email",
              "total_non_null_rows": 789,
              "total_rows_inc_nulls": 1000,
              "value": "iwilkinson@bush.com",
              "value_count": 6
             },
             {
              "distinct_value_count": 424,
              "group_name": "email",
              "total_non_null_rows": 789,
              "total_rows_inc_nulls": 1000,
              "value": "fb@nelson.com",
              "value_count": 6
             },
             {
              "distinct_value_count": 424,
              "group_name": "email",
              "total_non_null_rows": 789,
              "total_rows_inc_nulls": 1000,
              "value": "jessica.miller@johnson.com",
              "value_count": 6
             },
             {
              "distinct_value_count": 424,
              "group_name": "email",
              "total_non_null_rows": 789,
              "total_rows_inc_nulls": 1000,
              "value": "t.m39@brooks-sawyer.com",
              "value_count": 5
             },
             {
              "distinct_value_count": 424,
              "group_name": "email",
              "total_non_null_rows": 789,
              "total_rows_inc_nulls": 1000,
              "value": "r.cole1@ramirez-anthony.com",
              "value_count": 5
             },
             {
              "distinct_value_count": 424,
              "group_name": "email",
              "total_non_null_rows": 789,
              "total_rows_inc_nulls": 1000,
              "value": "oliver.atkinson@moran-smith.com",
              "value_count": 5
             },
             {
              "distinct_value_count": 424,
              "group_name": "email",
              "total_non_null_rows": 789,
              "total_rows_inc_nulls": 1000,
              "value": "hollythomson3@levine-jones.com",
              "value_count": 5
             },
             {
              "distinct_value_count": 424,
              "group_name": "email",
              "total_non_null_rows": 789,
              "total_rows_inc_nulls": 1000,
              "value": "leahrussell@charles.net",
              "value_count": 5
             }
            ]
           },
           "encoding": {
            "tooltip": [
             {
              "field": "value",
              "type": "nominal"
             },
             {
              "field": "value_count",
              "type": "quantitative"
             },
             {
              "field": "total_non_null_rows",
              "type": "quantitative"
             },
             {
              "field": "total_rows_inc_nulls",
              "type": "quantitative"
             }
            ],
            "x": {
             "field": "value",
             "sort": "-y",
             "title": null,
             "type": "nominal"
            },
            "y": {
             "field": "value_count",
             "title": "Value count",
             "type": "quantitative"
            }
           },
           "mark": "bar",
           "title": "Top 10 values by value count"
          },
          {
           "data": {
            "values": [
             {
              "distinct_value_count": 424,
              "group_name": "email",
              "total_non_null_rows": 789,
              "total_rows_inc_nulls": 1000,
              "value": "robert255@smith.net",
              "value_count": 1
             },
             {
              "distinct_value_count": 424,
              "group_name": "email",
              "total_non_null_rows": 789,
              "total_rows_inc_nulls": 1000,
              "value": "evihd56@earris-bailey.net",
              "value_count": 1
             },
             {
              "distinct_value_count": 424,
              "group_name": "email",
              "total_non_null_rows": 789,
              "total_rows_inc_nulls": 1000,
              "value": "o.griffiths90@reyes-coleman.com",
              "value_count": 1
             },
             {
              "distinct_value_count": 424,
              "group_name": "email",
              "total_non_null_rows": 789,
              "total_rows_inc_nulls": 1000,
              "value": "muhammadsmith@brooks.com",
              "value_count": 1
             },
             {
              "distinct_value_count": 424,
              "group_name": "email",
              "total_non_null_rows": 789,
              "total_rows_inc_nulls": 1000,
              "value": "l.c91@perez-gonzalez.com",
              "value_count": 1
             }
            ]
           },
           "encoding": {
            "tooltip": [
             {
              "field": "value",
              "type": "nominal"
             },
             {
              "field": "value_count",
              "type": "quantitative"
             },
             {
              "field": "total_non_null_rows",
              "type": "quantitative"
             },
             {
              "field": "total_rows_inc_nulls",
              "type": "quantitative"
             }
            ],
            "x": {
             "field": "value",
             "sort": "-y",
             "title": null,
             "type": "nominal"
            },
            "y": {
             "field": "value_count",
             "scale": {
              "domain": [
               0,
               6
              ]
             },
             "title": "Value count",
             "type": "quantitative"
            }
           },
           "mark": "bar",
           "title": "Bottom 5 values by value count"
          },
          {
           "data": {
            "values": [
             {
              "group_name": "email",
              "value": "omoore64@randall.com",
              "value_count": 6
             },
             {
              "group_name": "email",
              "value": "j.williams@levine-johnson.com",
              "value_count": 6
             },
             {
              "group_name": "email",
              "value": "iwilkinson@bush.com",
              "value_count": 6
             },
             {
              "group_name": "email",
              "value": "fb@nelson.com",
              "value_count": 6
             },
             {
              "group_name": "email",
              "value": "jessica.miller@johnson.com",
              "value_count": 6
             },
             {
              "group_name": "email",
              "value": "t.m39@brooks-sawyer.com",
              "value_count": 5
             },
             {
              "group_name": "email",
              "value": "r.cole1@ramirez-anthony.com",
              "value_count": 5
             },
             {
              "group_name": "email",
              "value": "oliver.atkinson@moran-smith.com",
              "value_count": 5
             },
             {
              "group_name": "email",
              "value": "hollythomson3@levine-jones.com",
              "value_count": 5
             },
             {
              "group_name": "email",
              "value": "leahrussell@charles.net",
              "value_count": 5
             },
             {
              "group_name": "email",
              "value": "ohughes@page-kim.info",
              "value_count": 5
             },
             {
              "group_name": "email",
              "value": "dh@powell.net",
              "value_count": 5
             },
             {
              "group_name": "email",
              "value": "elizataylor@marshall.com",
              "value_count": 5
             },
             {
              "group_name": "email",
              "value": "james.d@merritt-scott.com",
              "value_count": 5
             },
             {
              "group_name": "email",
              "value": "a.s@humphrey.com",
              "value_count": 5
             },
             {
              "group_name": "email",
              "value": "j.c65@ortiz.com",
              "value_count": 5
             },
             {
              "group_name": "email",
              "value": "riley.k@zavala.com",
              "value_count": 5
             },
             {
              "group_name": "email",
              "value": "jacob.a83@clark.com",
              "value_count": 5
             },
             {
              "group_name": "email",
              "value": "noahh78@diaz-clark.com",
              "value_count": 5
             },
             {
              "group_name": "email",
              "value": "e.b30@little.biz",
              "value_count": 5
             },
             {
              "group_name": "email",
              "value": "lily.robinson73@peterson.biz",
              "value_count": 5
             },
             {
              "group_name": "email",
              "value": "lrobinson@wolf.org",
              "value_count": 5
             },
             {
              "group_name": "email",
              "value": "l.armstrong@reyes-campbell.net",
              "value_count": 5
             },
             {
              "group_name": "email",
              "value": "jb88@king.com",
              "value_count": 4
             },
             {
              "group_name": "email",
              "value": "ajones6@cortez-wilcox.com",
              "value_count": 4
             },
             {
              "group_name": "email",
              "value": "a.griffiths@garner-bridges.com",
              "value_count": 4
             },
             {
              "group_name": "email",
              "value": "harleyk@houston.net",
              "value_count": 4
             },
             {
              "group_name": "email",
              "value": "m.b@bell-brown.com",
              "value_count": 4
             },
             {
              "group_name": "email",
              "value": "jc@herring.info",
              "value_count": 4
             },
             {
              "group_name": "email",
              "value": "elizabeth.w@sullivan-anderson.info",
              "value_count": 4
             },
             {
              "group_name": "email",
              "value": "fholmes@duncan.com",
              "value_count": 4
             },
             {
              "group_name": "email",
              "value": "iprice@carr.com",
              "value_count": 4
             },
             {
              "group_name": "email",
              "value": "f.s@flynn.com",
              "value_count": 4
             },
             {
              "group_name": "email",
              "value": "ameliafletcher22@diaz.com",
              "value_count": 4
             },
             {
              "group_name": "email",
              "value": "samuelcampbell35@hebert.com",
              "value_count": 4
             },
             {
              "group_name": "email",
              "value": "lottie.d7@morgan-pierce.com",
              "value_count": 4
             },
             {
              "group_name": "email",
              "value": "ar20@miller-torres.org",
              "value_count": 4
             },
             {
              "group_name": "email",
              "value": "c.scott@brooks.com",
              "value_count": 4
             },
             {
              "group_name": "email",
              "value": "ao24@green.net",
              "value_count": 4
             },
             {
              "group_name": "email",
              "value": "f.j@sharp.com",
              "value_count": 4
             },
             {
              "group_name": "email",
              "value": "amelia.morgan92@davidson-taylor.com",
              "value_count": 4
             },
             {
              "group_name": "email",
              "value": "freddiegregory71@jensen.info",
              "value_count": 4
             },
             {
              "group_name": "email",
              "value": "v.clark@campbell.com",
              "value_count": 4
             },
             {
              "group_name": "email",
              "value": "gdavidson@johnson-brown.com",
              "value_count": 4
             },
             {
              "group_name": "email",
              "value": "or@cox-blackwell.org",
              "value_count": 4
             },
             {
              "group_name": "email",
              "value": "rosiej32@robinson-moran.net",
              "value_count": 4
             },
             {
              "group_name": "email",
              "value": "mia.j63@martinez.biz",
              "value_count": 4
             },
             {
              "group_name": "email",
              "value": "isaac.jones54@bradford.net",
              "value_count": 4
             },
             {
              "group_name": "email",
              "value": "oa14@lee.com",
              "value_count": 4
             },
             {
              "group_name": "email",
              "value": "harveyrobertson32@chavez.com",
              "value_count": 4
             },
             {
              "group_name": "email",
              "value": "j.fisher4@sullivan.com",
              "value_count": 4
             },
             {
              "group_name": "email",
              "value": "aw@thompson.com",
              "value_count": 4
             },
             {
              "group_name": "email",
              "value": "ivy.lee@carson-williams.info",
              "value_count": 4
             },
             {
              "group_name": "email",
              "value": "a.cross58@browning-nguyen.com",
              "value_count": 4
             },
             {
              "group_name": "email",
              "value": "eviejones@brewer-sparks.org",
              "value_count": 4
             },
             {
              "group_name": "email",
              "value": "isabelleh97@lewis-gregory.com",
              "value_count": 4
             },
             {
              "group_name": "email",
              "value": "sarahp77@humphrey.com",
              "value_count": 4
             },
             {
              "group_name": "email",
              "value": "maryam.j47@myers.com",
              "value_count": 4
             },
             {
              "group_name": "email",
              "value": "charper@miller.biz",
              "value_count": 4
             },
             {
              "group_name": "email",
              "value": "islahall97@gutierrez-bennett.com",
              "value_count": 3
             },
             {
              "group_name": "email",
              "value": "lola.b@martinez-jones.net",
              "value_count": 3
             },
             {
              "group_name": "email",
              "value": "s.mitchell39@green.org",
              "value_count": 3
             },
             {
              "group_name": "email",
              "value": "r.m51@leonard.net",
              "value_count": 3
             },
             {
              "group_name": "email",
              "value": "emason@ware.com",
              "value_count": 3
             },
             {
              "group_name": "email",
              "value": "hmay32@richardson-rhodes.com",
              "value_count": 3
             },
             {
              "group_name": "email",
              "value": "a.wright42@estrada.org",
              "value_count": 3
             },
             {
              "group_name": "email",
              "value": "elliee@guzman.com",
              "value_count": 3
             },
             {
              "group_name": "email",
              "value": "g.t51@rodriguez.com",
              "value_count": 3
             },
             {
              "group_name": "email",
              "value": "e.page13@dyer-williams.com",
              "value_count": 3
             },
             {
              "group_name": "email",
              "value": "lucas@harrington.com",
              "value_count": 3
             },
             {
              "group_name": "email",
              "value": "g.davies36@ford-graves.com",
              "value_count": 3
             },
             {
              "group_name": "email",
              "value": "sofiarussell9@rivera.com",
              "value_count": 3
             },
             {
              "group_name": "email",
              "value": "j.lee86@roberson.com",
              "value_count": 3
             },
             {
              "group_name": "email",
              "value": "harley.rose50@sawyer-lin.org",
              "value_count": 3
             },
             {
              "group_name": "email",
              "value": "k.t50@hernandez.com",
              "value_count": 3
             },
             {
              "group_name": "email",
              "value": "williamn@curry-flores.com",
              "value_count": 3
             },
             {
              "group_name": "email",
              "value": "j.t@pierce.biz",
              "value_count": 3
             },
             {
              "group_name": "email",
              "value": "mohammedfox24@wilson.com",
              "value_count": 3
             },
             {
              "group_name": "email",
              "value": "evied62@bishop.info",
              "value_count": 3
             },
             {
              "group_name": "email",
              "value": "l.cooke@thompson-williams.info",
              "value_count": 3
             },
             {
              "group_name": "email",
              "value": "emilya@roberts.com",
              "value_count": 3
             },
             {
              "group_name": "email",
              "value": "h.k@sharp.com",
              "value_count": 3
             },
             {
              "group_name": "email",
              "value": "aishab64@obrien-flores.com",
              "value_count": 3
             },
             {
              "group_name": "email",
              "value": "rd@lewis.com",
              "value_count": 3
             },
             {
              "group_name": "email",
              "value": "ellis.h@morris-davis.net",
              "value_count": 3
             },
             {
              "group_name": "email",
              "value": "henry.w@miller-mitchell.info",
              "value_count": 3
             },
             {
              "group_name": "email",
              "value": "ad29@jones.biz",
              "value_count": 3
             },
             {
              "group_name": "email",
              "value": "poppy.fox63@rivera.com",
              "value_count": 3
             },
             {
              "group_name": "email",
              "value": "t.white@west-waller.net",
              "value_count": 3
             },
             {
              "group_name": "email",
              "value": "odawson45@malone-cabrera.com",
              "value_count": 3
             },
             {
              "group_name": "email",
              "value": "oliverjones82@bond.biz",
              "value_count": 3
             },
             {
              "group_name": "email",
              "value": "michael.sutherland@hobbs.com",
              "value_count": 3
             },
             {
              "group_name": "email",
              "value": "oe56@lopez.net",
              "value_count": 3
             },
             {
              "group_name": "email",
              "value": "j.riley9@bennett.net",
              "value_count": 3
             },
             {
              "group_name": "email",
              "value": "ehunt10@ramos.com",
              "value_count": 3
             },
             {
              "group_name": "email",
              "value": "droberts73@taylor-lang.com",
              "value_count": 3
             },
             {
              "group_name": "email",
              "value": "e.shaw@smith-hall.biz",
              "value_count": 3
             },
             {
              "group_name": "email",
              "value": "mcurtis53@simpson.com",
              "value_count": 3
             },
             {
              "group_name": "email",
              "value": "evelynm@page.com",
              "value_count": 3
             },
             {
              "group_name": "email",
              "value": "ellayoung47@cook.com",
              "value_count": 3
             },
             {
              "group_name": "email",
              "value": "hday48@thomas-carter.com",
              "value_count": 3
             },
             {
              "group_name": "email",
              "value": "adam.edwards38@bullock-edwards.com",
              "value_count": 3
             },
             {
              "group_name": "email",
              "value": "jt40@combs.net",
              "value_count": 3
             },
             {
              "group_name": "email",
              "value": "oliverwatson97@morgan.com",
              "value_count": 3
             },
             {
              "group_name": "email",
              "value": "jaxon.r@cantu.org",
              "value_count": 3
             },
             {
              "group_name": "email",
              "value": "drhodes16@johnson-robinson.com",
              "value_count": 3
             },
             {
              "group_name": "email",
              "value": "gdavies72@conner-rose.com",
              "value_count": 3
             },
             {
              "group_name": "email",
              "value": "emmalloyd@jimenez.com",
              "value_count": 3
             },
             {
              "group_name": "email",
              "value": "od@holloway.info",
              "value_count": 3
             },
             {
              "group_name": "email",
              "value": "maddison.jarvis@patterson-miller.biz",
              "value_count": 3
             },
             {
              "group_name": "email",
              "value": "roberta25@smith.net",
              "value_count": 2
             },
             {
              "group_name": "email",
              "value": "grace.kelly52@jones.com",
              "value_count": 2
             },
             {
              "group_name": "email",
              "value": "evied56@harris-bailey.net",
              "value_count": 2
             },
             {
              "group_name": "email",
              "value": "calebr@thompson.org",
              "value_count": 2
             },
             {
              "group_name": "email",
              "value": "gabriel.t54@nichols.info",
              "value_count": 2
             },
             {
              "group_name": "email",
              "value": "e.rogers3@hopkins.org",
              "value_count": 2
             },
             {
              "group_name": "email",
              "value": "l.gordon34@french.com",
              "value_count": 2
             },
             {
              "group_name": "email",
              "value": "e.e@day.com",
              "value_count": 2
             },
             {
              "group_name": "email",
              "value": "maisie.walsh@hodge.com",
              "value_count": 2
             },
             {
              "group_name": "email",
              "value": "dmacdonald@rivers-glass.biz",
              "value_count": 2
             },
             {
              "group_name": "email",
              "value": "alfiekelly@walters.com",
              "value_count": 2
             },
             {
              "group_name": "email",
              "value": "poppy.w33@clark.info",
              "value_count": 2
             },
             {
              "group_name": "email",
              "value": "arthurbooth25@romero-donovan.com",
              "value_count": 2
             },
             {
              "group_name": "email",
              "value": "l.ferguson46@shah.com",
              "value_count": 2
             },
             {
              "group_name": "email",
              "value": "julia.smith@english.org",
              "value_count": 2
             },
             {
              "group_name": "email",
              "value": "l.a1@shelton-vaughan.com",
              "value_count": 2
             },
             {
              "group_name": "email",
              "value": "lbrooks9@miller.org",
              "value_count": 2
             },
             {
              "group_name": "email",
              "value": "lolat86@bishop-giles.com",
              "value_count": 2
             },
             {
              "group_name": "email",
              "value": "fbailey@schneider.biz",
              "value_count": 2
             },
             {
              "group_name": "email",
              "value": "candrews15@thompson.net",
              "value_count": 2
             },
             {
              "group_name": "email",
              "value": "scarlett.payne88@morton.info",
              "value_count": 2
             },
             {
              "group_name": "email",
              "value": "rosewood@coleman.org",
              "value_count": 2
             },
             {
              "group_name": "email",
              "value": "scarlett.s@brown-johnson.org",
              "value_count": 2
             },
             {
              "group_name": "email",
              "value": "r.james@jackson.com",
              "value_count": 2
             },
             {
              "group_name": "email",
              "value": "benjaminlopez78@ingram.com",
              "value_count": 2
             },
             {
              "group_name": "email",
              "value": "isaac.james@smith.com",
              "value_count": 2
             },
             {
              "group_name": "email",
              "value": "fb@reese.com",
              "value_count": 2
             },
             {
              "group_name": "email",
              "value": "fg60@anderson.com",
              "value_count": 2
             },
             {
              "group_name": "email",
              "value": "hannahd14@cardenas.com",
              "value_count": 2
             },
             {
              "group_name": "email",
              "value": "hn@martinez-reynolds.com",
              "value_count": 2
             },
             {
              "group_name": "email",
              "value": "okhan85@daugherty-allen.com",
              "value_count": 2
             },
             {
              "group_name": "email",
              "value": "go94@bradshaw-sanders.com",
              "value_count": 2
             },
             {
              "group_name": "email",
              "value": "louis.a@martinez.net",
              "value_count": 2
             },
             {
              "group_name": "email",
              "value": "oc34@phelps-harper.biz",
              "value_count": 2
             },
             {
              "group_name": "email",
              "value": "jessica.owen@elliott.org",
              "value_count": 2
             },
             {
              "group_name": "email",
              "value": "lydias51@garcia-mendez.com",
              "value_count": 2
             },
             {
              "group_name": "email",
              "value": "l.webb66@smith.com",
              "value_count": 2
             },
             {
              "group_name": "email",
              "value": "benjamin.newman@johnson.com",
              "value_count": 2
             },
             {
              "group_name": "email",
              "value": "charlieh@sandoval-sanders.info",
              "value_count": 2
             },
             {
              "group_name": "email",
              "value": "olivia.k1@howell.com",
              "value_count": 2
             },
             {
              "group_name": "email",
              "value": "a.r@cervantes.net",
              "value_count": 2
             },
             {
              "group_name": "email",
              "value": "ah@webster.com",
              "value_count": 2
             },
             {
              "group_name": "email",
              "value": "leo.bradley54@green.net",
              "value_count": 2
             },
             {
              "group_name": "email",
              "value": "amartin@navarro.com",
              "value_count": 2
             },
             {
              "group_name": "email",
              "value": "m.e@ford.com",
              "value_count": 2
             },
             {
              "group_name": "email",
              "value": "loganmorgan43@mcbride-king.com",
              "value_count": 2
             },
             {
              "group_name": "email",
              "value": "noahr@hudson-brown.net",
              "value_count": 2
             },
             {
              "group_name": "email",
              "value": "maisie.e96@baker.com",
              "value_count": 2
             },
             {
              "group_name": "email",
              "value": "masons52@reed.com",
              "value_count": 2
             },
             {
              "group_name": "email",
              "value": "m.w@cannon.com",
              "value_count": 2
             },
             {
              "group_name": "email",
              "value": "theodore.m@taylor.com",
              "value_count": 2
             },
             {
              "group_name": "email",
              "value": "reubenw@williams-thomas.net",
              "value_count": 2
             },
             {
              "group_name": "email",
              "value": "henryr@moore.com",
              "value_count": 2
             },
             {
              "group_name": "email",
              "value": "orobertson91@olson-palmer.com",
              "value_count": 2
             },
             {
              "group_name": "email",
              "value": "h.m82@hill.com",
              "value_count": 2
             },
             {
              "group_name": "email",
              "value": "joseph.d@bell.com",
              "value_count": 2
             },
             {
              "group_name": "email",
              "value": "o.b@smith.net",
              "value_count": 2
             },
             {
              "group_name": "email",
              "value": "j.c@white.org",
              "value_count": 2
             },
             {
              "group_name": "email",
              "value": "robert255@smith.net",
              "value_count": 1
             },
             {
              "group_name": "email",
              "value": "evihd56@earris-bailey.net",
              "value_count": 1
             },
             {
              "group_name": "email",
              "value": "o.griffiths90@reyes-coleman.com",
              "value_count": 1
             },
             {
              "group_name": "email",
              "value": "muhammadsmith@brooks.com",
              "value_count": 1
             },
             {
              "group_name": "email",
              "value": "l.c91@perez-gonzalez.com",
              "value_count": 1
             },
             {
              "group_name": "email",
              "value": "darcy.b@silva.com",
              "value_count": 1
             },
             {
              "group_name": "email",
              "value": "thomas.green@clark.org",
              "value_count": 1
             },
             {
              "group_name": "email",
              "value": "gabriel.t54@nnichls.info",
              "value_count": 1
             },
             {
              "group_name": "email",
              "value": "gabriel.t54@nlchois.info",
              "value_count": 1
             },
             {
              "group_name": "email",
              "value": "lola.b@martinesz-jone.net",
              "value_count": 1
             },
             {
              "group_name": "email",
              "value": "t.m39@brooks-sawer.com",
              "value_count": 1
             },
             {
              "group_name": "email",
              "value": "e.rogers3@honkips.org",
              "value_count": 1
             },
             {
              "group_name": "email",
              "value": "8jb88@king.com",
              "value_count": 1
             },
             {
              "group_name": "email",
              "value": "p.kirk@hill.com",
              "value_count": 1
             },
             {
              "group_name": "email",
              "value": "lola.k63@bradle-barnes.info",
              "value_count": 1
             },
             {
              "group_name": "email",
              "value": "ajones-@cortez6wilcox.com",
              "value_count": 1
             },
             {
              "group_name": "email",
              "value": "r..m51@leonard.net",
              "value_count": 1
             },
             {
              "group_name": "email",
              "value": "wilowjones14@whitney-wimlkersonc.om",
              "value_count": 1
             },
             {
              "group_name": "email",
              "value": "r.b80@ellis-berry.com",
              "value_count": 1
             },
             {
              "group_name": "email",
              "value": "em@aosn@ware.com",
              "value_count": 1
             },
             {
              "group_name": "email",
              "value": "r.cole1@ramtrez-anihony.com",
              "value_count": 1
             },
             {
              "group_name": "email",
              "value": "charlottej68@lee-taylor.org",
              "value_count": 1
             },
             {
              "group_name": "email",
              "value": "charlottej68@lee-taylor@.org",
              "value_count": 1
             },
             {
              "group_name": "email",
              "value": "l.gordon34cfren@h.com",
              "value_count": 1
             },
             {
              "group_name": "email",
              "value": "ee@day.com",
              "value_count": 1
             },
             {
              "group_name": "email",
              "value": "e.e@ay.cod",
              "value_count": 1
             },
             {
              "group_name": "email",
              "value": "maiie.walsoh@hodge.com",
              "value_count": 1
             },
             {
              "group_name": "email",
              "value": "rbond58@chavez.com",
              "value_count": 1
             },
             {
              "group_name": "email",
              "value": "jamesd75collins.biz",
              "value_count": 1
             },
             {
              "group_name": "email",
              "value": "dmacdoald@riverb-glass.siz",
              "value_count": 1
             },
             {
              "group_name": "email",
              "value": "dracdonald@rivers-glass.biz",
              "value_count": 1
             },
             {
              "group_name": "email",
              "value": "dmacdonald@rivers-glass.bi",
              "value_count": 1
             },
             {
              "group_name": "email",
              "value": "haoleyk@hrustonnet",
              "value_count": 1
             },
             {
              "group_name": "email",
              "value": "m.b-bell@brown.com",
              "value_count": 1
             },
             {
              "group_name": "email",
              "value": "m.b@ell-brown.com",
              "value_count": 1
             },
             {
              "group_name": "email",
              "value": "joc@hrning.irfo",
              "value_count": 1
             },
             {
              "group_name": "email",
              "value": "hmay3@richarsson-rhooded.com",
              "value_count": 1
             },
             {
              "group_name": "email",
              "value": "hmay32@richardson--rhodes.com",
              "value_count": 1
             },
             {
              "group_name": "email",
              "value": "js37@rodriguez-vega.com",
              "value_count": 1
             },
             {
              "group_name": "email",
              "value": "elliee@oguzmanoc.m",
              "value_count": 1
             },
             {
              "group_name": "email",
              "value": "f@holmes@duncan.com",
              "value_count": 1
             },
             {
              "group_name": "email",
              "value": "fhoelmes@duacnn.com",
              "value_count": 1
             },
             {
              "group_name": "email",
              "value": "ml@oconnell.com",
              "value_count": 1
             },
             {
              "group_name": "email",
              "value": "iirpce@carr.cm",
              "value_count": 1
             },
             {
              "group_name": "email",
              "value": "iprice@car.com",
              "value_count": 1
             },
             {
              "group_name": "email",
              "value": "arthurbooth25@romero-onovan.com",
              "value_count": 1
             },
             {
              "group_name": "email",
              "value": "arthurbooth25@romero-donova.com",
              "value_count": 1
             },
             {
              "group_name": "email",
              "value": "islaabpayne@.utler.org",
              "value_count": 1
             },
             {
              "group_name": "email",
              "value": "isla.payne@butler.org",
              "value_count": 1
             },
             {
              "group_name": "email",
              "value": "e.page1i3@dyer-wiliams.com",
              "value_count": 1
             },
             {
              "group_name": "email",
              "value": "lucas@marrington.coh",
              "value_count": 1
             },
             {
              "group_name": "email",
              "value": "lucas.harrington@com",
              "value_count": 1
             },
             {
              "group_name": "email",
              "value": "l.feruson46@sahh.com",
              "value_count": 1
             },
             {
              "group_name": "email",
              "value": "l.fergson46@shah.com",
              "value_count": 1
             },
             {
              "group_name": "email",
              "value": "l.ferguson46@soao.chm",
              "value_count": 1
             },
             {
              "group_name": "email",
              "value": "mberry41@richards-han.onscm",
              "value_count": 1
             },
             {
              "group_name": "email",
              "value": "sofiarussell9@revira.com",
              "value_count": 1
             },
             {
              "group_name": "email",
              "value": "hsimmons@roberts.com",
              "value_count": 1
             },
             {
              "group_name": "email",
              "value": "hsimmons@robebrts.com",
              "value_count": 1
             },
             {
              "group_name": "email",
              "value": "lbrooks9@omiller.org",
              "value_count": 1
             },
             {
              "group_name": "email",
              "value": "arthurbarrett3@young-estrada.org",
              "value_count": 1
             },
             {
              "group_name": "email",
              "value": "ava.p37@smith.biz",
              "value_count": 1
             },
             {
              "group_name": "email",
              "value": "lolat86@bishop-gilees.com",
              "value_count": 1
             },
             {
              "group_name": "email",
              "value": "glolat86@bishop-giles.com",
              "value_count": 1
             },
             {
              "group_name": "email",
              "value": "lolat86@bishop-giles.om",
              "value_count": 1
             },
             {
              "group_name": "email",
              "value": "lolat86@bishop-gilels.com",
              "value_count": 1
             },
             {
              "group_name": "email",
              "value": "florencewilson@byrd.com",
              "value_count": 1
             },
             {
              "group_name": "email",
              "value": "j.leeo6@robeson.c8m",
              "value_count": 1
             },
             {
              "group_name": "email",
              "value": "j.lee86@ro6berson.com",
              "value_count": 1
             },
             {
              "group_name": "email",
              "value": "david.banks26@thomas-bell.com",
              "value_count": 1
             },
             {
              "group_name": "email",
              "value": "j.s81@simmosmco.",
              "value_count": 1
             },
             {
              "group_name": "email",
              "value": "harrisonm@patrick.com",
              "value_count": 1
             },
             {
              "group_name": "email",
              "value": "harrisonmk@ptrick.com",
              "value_count": 1
             },
             {
              "group_name": "email",
              "value": "harley.rose50@sawyer-lin.orng",
              "value_count": 1
             },
             {
              "group_name": "email",
              "value": "c.murray54@berry-reyonlds.org",
              "value_count": 1
             },
             {
              "group_name": "email",
              "value": "lilyw82@krause.org",
              "value_count": 1
             },
             {
              "group_name": "email",
              "value": "k.t50eherand@z.ncom",
              "value_count": 1
             },
             {
              "group_name": "email",
              "value": "k.t50@her.andezncodm",
              "value_count": 1
             },
             {
              "group_name": "email",
              "value": "e.richards16@finley.ifo",
              "value_count": 1
             },
             {
              "group_name": "email",
              "value": "1.richardse6@finley.info",
              "value_count": 1
             },
             {
              "group_name": "email",
              "value": "e.richards16@finley.info",
              "value_count": 1
             },
             {
              "group_name": "email",
              "value": "scarlett.payn88@morton.info",
              "value_count": 1
             },
             {
              "group_name": "email",
              "value": "f.jackson32@moore.com",
              "value_count": 1
             },
             {
              "group_name": "email",
              "value": "williamn@curryflores.com",
              "value_count": 1
             },
             {
              "group_name": "email",
              "value": "wirliamn@culry-flors.com",
              "value_count": 1
             },
             {
              "group_name": "email",
              "value": "scarletts@brown.johnson.org",
              "value_count": 1
             },
             {
              "group_name": "email",
              "value": "scarlet.srb@own-johnson.org",
              "value_count": 1
             },
             {
              "group_name": "email",
              "value": "j.t@pierce.bi",
              "value_count": 1
             },
             {
              "group_name": "email",
              "value": "j.t@pierceeib.z",
              "value_count": 1
             },
             {
              "group_name": "email",
              "value": "samuelcampbel35@hebert.com",
              "value_count": 1
             },
             {
              "group_name": "email",
              "value": "samuelcampbell35@hebe3r.com",
              "value_count": 1
             },
             {
              "group_name": "email",
              "value": "r.james@jack.son.com",
              "value_count": 1
             },
             {
              "group_name": "email",
              "value": "elizataylor@marsahmll.com",
              "value_count": 1
             },
             {
              "group_name": "email",
              "value": "isaac.iames@smjth.com",
              "value_count": 1
             },
             {
              "group_name": "email",
              "value": "isaac.james@smich.tom",
              "value_count": 1
             },
             {
              "group_name": "email",
              "value": "evieed62@bishop.info",
              "value_count": 1
             },
             {
              "group_name": "email",
              "value": "james.d@merritot-scott.com",
              "value_count": 1
             },
             {
              "group_name": "email",
              "value": "hm24@miller-roman.om",
              "value_count": 1
             },
             {
              "group_name": "email",
              "value": "emilya@eroberts.com",
              "value_count": 1
             },
             {
              "group_name": "email",
              "value": "opoppy.owen71@diaz.co",
              "value_count": 1
             },
             {
              "group_name": "email",
              "value": "poppy.owen71@diaz.com",
              "value_count": 1
             },
             {
              "group_name": "email",
              "value": "fb@reose.cem",
              "value_count": 1
             },
             {
              "group_name": "email",
              "value": "f@b@reese.com",
              "value_count": 1
             },
             {
              "group_name": "email",
              "value": "s.cunningham@pineda.com",
              "value_count": 1
             },
             {
              "group_name": "email",
              "value": "ar20@miller-t2orres.org",
              "value_count": 1
             },
             {
              "group_name": "email",
              "value": "ar20@miller-tores.org",
              "value_count": 1
             },
             {
              "group_name": "email",
              "value": "h.k@sharp.co",
              "value_count": 1
             },
             {
              "group_name": "email",
              "value": "h.k@shhrp.com",
              "value_count": 1
             },
             {
              "group_name": "email",
              "value": "h.k.sharpp@com",
              "value_count": 1
             },
             {
              "group_name": "email",
              "value": "aishab64@obrien-flocres.com",
              "value_count": 1
             },
             {
              "group_name": "email",
              "value": "idlewrs.cocm",
              "value_count": 1
             },
             {
              "group_name": "email",
              "value": "ellivs.h@morris-davis.net",
              "value_count": 1
             },
             {
              "group_name": "email",
              "value": "henry.w@miller-mitheiln.lnfo",
              "value_count": 1
             },
             {
              "group_name": "email",
              "value": "poppy.foxo3@rivera.c6m",
              "value_count": 1
             },
             {
              "group_name": "email",
              "value": "poppy.foox63@rcvera.iom",
              "value_count": 1
             },
             {
              "group_name": "email",
              "value": "fg60@cnderson.aom",
              "value_count": 1
             },
             {
              "group_name": "email",
              "value": "ao24@green.@net",
              "value_count": 1
             },
             {
              "group_name": "email",
              "value": "hn@martinz-reynolds.com",
              "value_count": 1
             },
             {
              "group_name": "email",
              "value": "hn@martin-ez-reynolds.com",
              "value_count": 1
             },
             {
              "group_name": "email",
              "value": "f.s@jharp.com",
              "value_count": 1
             },
             {
              "group_name": "email",
              "value": "f.j@sharp.moc",
              "value_count": 1
             },
             {
              "group_name": "email",
              "value": "f.j@shrarp.com",
              "value_count": 1
             },
             {
              "group_name": "email",
              "value": "amelia.morgan92@davidsn-taylor.com",
              "value_count": 1
             },
             {
              "group_name": "email",
              "value": "amelia.moyrgan92@davidson-taylor.com",
              "value_count": 1
             },
             {
              "group_name": "email",
              "value": "amelia.morgan92@davidson-ta.lorycom",
              "value_count": 1
             },
             {
              "group_name": "email",
              "value": "geo94@bradshaw-sanders.com",
              "value_count": 1
             },
             {
              "group_name": "email",
              "value": "go94@brndshaw-saaders.com",
              "value_count": 1
             },
             {
              "group_name": "email",
              "value": "louis.a@mtrtinez.neea",
              "value_count": 1
             },
             {
              "group_name": "email",
              "value": "harryandrews@woods.biz",
              "value_count": 1
             },
             {
              "group_name": "email",
              "value": "harryandrews@woodws.biz",
              "value_count": 1
             },
             {
              "group_name": "email",
              "value": "harryandrews@woods.bz",
              "value_count": 1
             },
             {
              "group_name": "email",
              "value": "oliverjones82bond.biz",
              "value_count": 1
             },
             {
              "group_name": "email",
              "value": "v.clarak@campbell.com",
              "value_count": 1
             },
             {
              "group_name": "email",
              "value": "noah.ones66@smithjncom",
              "value_count": 1
             },
             {
              "group_name": "email",
              "value": "oc34r@phelp.-harpersbiz",
              "value_count": 1
             },
             {
              "group_name": "email",
              "value": "oc34@phelps-harper.iz",
              "value_count": 1
             },
             {
              "group_name": "email",
              "value": "oc34@phelp-harper.biz",
              "value_count": 1
             },
             {
              "group_name": "email",
              "value": "oc34@pheps-ha.perrbiz",
              "value_count": 1
             },
             {
              "group_name": "email",
              "value": "roboyndixon@williams.cm",
              "value_count": 1
             },
             {
              "group_name": "email",
              "value": "robyndixon@williams.com",
              "value_count": 1
             },
             {
              "group_name": "email",
              "value": "jesscac.owen@elliott.org",
              "value_count": 1
             },
             {
              "group_name": "email",
              "value": "jessica.owen@elliott.og",
              "value_count": 1
             },
             {
              "group_name": "email",
              "value": "j.riley9tbennett.ne@",
              "value_count": 1
             },
             {
              "group_name": "email",
              "value": "j.riley9@tennett.neb",
              "value_count": 1
             },
             {
              "group_name": "email",
              "value": "gk@frey-robinson.org",
              "value_count": 1
             },
             {
              "group_name": "email",
              "value": "rgk@frey-robinon.org",
              "value_count": 1
             },
             {
              "group_name": "email",
              "value": "amelia.baxter@nelson-miller.com",
              "value_count": 1
             },
             {
              "group_name": "email",
              "value": "toby.d@menhez.com",
              "value_count": 1
             },
             {
              "group_name": "email",
              "value": "toby.h@mendez.com",
              "value_count": 1
             },
             {
              "group_name": "email",
              "value": "henry.c35@love-banks.com",
              "value_count": 1
             },
             {
              "group_name": "email",
              "value": "ameiiap@nlcholson.orrg",
              "value_count": 1
             },
             {
              "group_name": "email",
              "value": "ameliap@nicholson.org",
              "value_count": 1
             },
             {
              "group_name": "email",
              "value": "muhammadj@cortez-trujillo.com",
              "value_count": 1
             },
             {
              "group_name": "email",
              "value": "od@holl.wayoinfo",
              "value_count": 1
             },
             {
              "group_name": "email",
              "value": "od@hollowayl.ino",
              "value_count": 1
             },
             {
              "group_name": "email",
              "value": "gdavidron@johnson-bsown.com",
              "value_count": 1
             },
             {
              "group_name": "email",
              "value": "mh@wade.com",
              "value_count": 1
             },
             {
              "group_name": "email",
              "value": "mh@wade.co@m",
              "value_count": 1
             },
             {
              "group_name": "email",
              "value": "mh@waoe.cadm",
              "value_count": 1
             },
             {
              "group_name": "email",
              "value": "ethan.r31@jone.com",
              "value_count": 1
             },
             {
              "group_name": "email",
              "value": "cow@haynes-saunder.com",
              "value_count": 1
             },
             {
              "group_name": "email",
              "value": "ow@haynes-saunders.com",
              "value_count": 1
             },
             {
              "group_name": "email",
              "value": "a.shaw@church-rodriguez.com",
              "value_count": 1
             },
             {
              "group_name": "email",
              "value": "iwilkinsmn@bush.co",
              "value_count": 1
             },
             {
              "group_name": "email",
              "value": "hk@stanley.com",
              "value_count": 1
             },
             {
              "group_name": "email",
              "value": "anna.w16@brandt-wyatt.org",
              "value_count": 1
             },
             {
              "group_name": "email",
              "value": "e.shaw@smith-hall.lbiz",
              "value_count": 1
             },
             {
              "group_name": "email",
              "value": "wolivia.k1@howell.com",
              "value_count": 1
             },
             {
              "group_name": "email",
              "value": "mohammedc@robcrts.eom",
              "value_count": 1
             },
             {
              "group_name": "email",
              "value": "noahha78@diaz-clarkoc.m",
              "value_count": 1
             },
             {
              "group_name": "email",
              "value": "a.r@cervanset.net",
              "value_count": 1
             },
             {
              "group_name": "email",
              "value": "mcurts53@simpson.com",
              "value_count": 1
             },
             {
              "group_name": "email",
              "value": "mcurtis53@spmnison.com",
              "value_count": 1
             },
             {
              "group_name": "email",
              "value": "mcurtis53@simpsoun.com",
              "value_count": 1
             },
             {
              "group_name": "email",
              "value": "isaac.jones54@bradford.enet",
              "value_count": 1
             },
             {
              "group_name": "email",
              "value": "e.smith@dillon.com",
              "value_count": 1
             },
             {
              "group_name": "email",
              "value": "evelgnm@aye.covm",
              "value_count": 1
             },
             {
              "group_name": "email",
              "value": "evlynnm@pagm.coe",
              "value_count": 1
             },
             {
              "group_name": "email",
              "value": "oa14@lee.coom",
              "value_count": 1
             },
             {
              "group_name": "email",
              "value": "fcarr22@cook.com",
              "value_count": 1
             },
             {
              "group_name": "email",
              "value": "j.c@wrte.ohg",
              "value_count": 1
             },
             {
              "group_name": "email",
              "value": "hday48@thomas-arter.com",
              "value_count": 1
             },
             {
              "group_name": "email",
              "value": "hday48@homas-carter.com",
              "value_count": 1
             },
             {
              "group_name": "email",
              "value": "hday48@thtomas-acrter.com",
              "value_count": 1
             },
             {
              "group_name": "email",
              "value": "hday48@thomas-carter.mc",
              "value_count": 1
             },
             {
              "group_name": "email",
              "value": "adam.edwards38@bullock-edward.com",
              "value_count": 1
             },
             {
              "group_name": "email",
              "value": "adam.edwards38@bullock-edwaods.crm",
              "value_count": 1
             },
             {
              "group_name": "email",
              "value": "e.armstrong16@odonnell.info",
              "value_count": 1
             },
             {
              "group_name": "email",
              "value": "e.a.rmstrong16@odonnell.info",
              "value_count": 1
             },
             {
              "group_name": "email",
              "value": "e.armstrong16odonnell.info",
              "value_count": 1
             },
             {
              "group_name": "email",
              "value": "er.armstrong16@odonnelloinf.",
              "value_count": 1
             },
             {
              "group_name": "email",
              "value": "harveyrobertsoe32@chavnz.com",
              "value_count": 1
             },
             {
              "group_name": "email",
              "value": "jt40@comsb.net",
              "value_count": 1
             },
             {
              "group_name": "email",
              "value": "jt40o@combs.net",
              "value_count": 1
             },
             {
              "group_name": "email",
              "value": "jt40@cotbs.nm",
              "value_count": 1
             },
             {
              "group_name": "email",
              "value": "awt.thompson@com",
              "value_count": 1
             },
             {
              "group_name": "email",
              "value": "aw@thpmoson.com",
              "value_count": 1
             },
             {
              "group_name": "email",
              "value": "joseph.bull@bailey-perry.com",
              "value_count": 1
             },
             {
              "group_name": "email",
              "value": "lc@kelly-williams.net",
              "value_count": 1
             },
             {
              "group_name": "email",
              "value": "loganmo.gan43@mcbride-kingrcom",
              "value_count": 1
             },
             {
              "group_name": "email",
              "value": "loganmorgan43@icbride-kmng.com",
              "value_count": 1
             },
             {
              "group_name": "email",
              "value": "noahr@hudson-broow.net",
              "value_count": 1
             },
             {
              "group_name": "email",
              "value": "maisie.e96@bakre.com",
              "value_count": 1
             },
             {
              "group_name": "email",
              "value": "masons2@reed.com",
              "value_count": 1
             },
             {
              "group_name": "email",
              "value": "masons5@2@reed.com",
              "value_count": 1
             },
             {
              "group_name": "email",
              "value": "charpe@r@milleb.riz",
              "value_count": 1
             },
             {
              "group_name": "email",
              "value": "m@w.cannon.com",
              "value_count": 1
             },
             {
              "group_name": "email",
              "value": "teheodore.mrtaylo@.com",
              "value_count": 1
             },
             {
              "group_name": "email",
              "value": "theodore.m@taylorcom",
              "value_count": 1
             },
             {
              "group_name": "email",
              "value": "oscarwalton19@king.com",
              "value_count": 1
             },
             {
              "group_name": "email",
              "value": "leo.webster54@moore.biez",
              "value_count": 1
             },
             {
              "group_name": "email",
              "value": "jbrooks@hall-lwery.net",
              "value_count": 1
             },
             {
              "group_name": "email",
              "value": "jbrooks@hall-lowery.net",
              "value_count": 1
             },
             {
              "group_name": "email",
              "value": "jbrooks@hall-lowe-ry.net",
              "value_count": 1
             },
             {
              "group_name": "email",
              "value": "noah.f88@gibson.cm",
              "value_count": 1
             },
             {
              "group_name": "email",
              "value": "ivy.llee@carson-williams.info",
              "value_count": 1
             },
             {
              "group_name": "email",
              "value": "a.cross58@browning-nguyeyn.com",
              "value_count": 1
             },
             {
              "group_name": "email",
              "value": "tmartin5@martin-kerr.org",
              "value_count": 1
             },
             {
              "group_name": "email",
              "value": "t.g79@walker.com",
              "value_count": 1
             },
             {
              "group_name": "email",
              "value": "isabellec@hill-williams.com",
              "value_count": 1
             },
             {
              "group_name": "email",
              "value": "evejones@brewer-sparksi.org",
              "value_count": 1
             },
             {
              "group_name": "email",
              "value": "muhammadp5@williams.com",
              "value_count": 1
             },
             {
              "group_name": "email",
              "value": "amelia.w@tyler-anderson.com",
              "value_count": 1
             },
             {
              "group_name": "email",
              "value": "lrobinsl.n@woof.org",
              "value_count": 1
             },
             {
              "group_name": "email",
              "value": "isabelleh97m@lewis-gregory.com",
              "value_count": 1
             },
             {
              "group_name": "email",
              "value": "isa.gelleh97@lewis-gregorybcom",
              "value_count": 1
             },
             {
              "group_name": "email",
              "value": "orobestson91@olron-palmer.com",
              "value_count": 1
             },
             {
              "group_name": "email",
              "value": "gwiolson84@burton.net",
              "value_count": 1
             },
             {
              "group_name": "email",
              "value": "h.m82@hill.om",
              "value_count": 1
             },
             {
              "group_name": "email",
              "value": "josep.d@.bell.com",
              "value_count": 1
             },
             {
              "group_name": "email",
              "value": "hf@roberts.com",
              "value_count": 1
             },
             {
              "group_name": "email",
              "value": "nw5n@buckleyil4fo",
              "value_count": 1
             },
             {
              "group_name": "email",
              "value": "nw5n@buckley.i4fo",
              "value_count": 1
             },
             {
              "group_name": "email",
              "value": "nw54@buckley.info",
              "value_count": 1
             },
             {
              "group_name": "email",
              "value": "michaelduncan43@gutierrez.com",
              "value_count": 1
             },
             {
              "group_name": "email",
              "value": "emmallod@jimenez.com",
              "value_count": 1
             },
             {
              "group_name": "email",
              "value": "oliver.b@smith.net",
              "value_count": 1
             },
             {
              "group_name": "email",
              "value": "amlia.boxter@nelsan-miller.com",
              "value_count": 1
             },
             {
              "group_name": "email",
              "value": "gdavidson@jonnson-browh.com",
              "value_count": 1
             },
             {
              "group_name": "email",
              "value": "anna.w16@bd.andt-wyattrorg",
              "value_count": 1
             },
             {
              "group_name": "email",
              "value": "micurtis53@simpson.com",
              "value_count": 1
             },
             {
              "group_name": "email",
              "value": "owilliams@smith.net",
              "value_count": 1
             },
             {
              "group_name": "email",
              "value": "j.c@wwhite.org",
              "value_count": 1
             },
             {
              "group_name": "email",
              "value": "j.c@whige.wort",
              "value_count": 1
             },
             {
              "group_name": "email",
              "value": "e.b30zlittle.bi@",
              "value_count": 1
             },
             {
              "group_name": "email",
              "value": "noahr@hudsn-brohwn.net",
              "value_count": 1
             },
             {
              "group_name": "email",
              "value": "isabellafletcher@tanner.com",
              "value_count": 1
             },
             {
              "group_name": "email",
              "value": "m.w@ccannon.com",
              "value_count": 1
             },
             {
              "group_name": "email",
              "value": "m.w@cannonn.com",
              "value_count": 1
             },
             {
              "group_name": "email",
              "value": "noah.f88@gibson.com",
              "value_count": 1
             },
             {
              "group_name": "email",
              "value": "a.cross58@brwning-nguyen.com",
              "value_count": 1
             },
             {
              "group_name": "email",
              "value": "lrobinson@wolfo.org",
              "value_count": 1
             },
             {
              "group_name": "email",
              "value": "francesca.white@jones-knight.info",
              "value_count": 1
             },
             {
              "group_name": "email",
              "value": "drodes16@johnson-robinson.com",
              "value_count": 1
             },
             {
              "group_name": "email",
              "value": "maryam.j47@myer7s.com",
              "value_count": 1
             },
             {
              "group_name": "email",
              "value": "ameliar@black.com",
              "value_count": 1
             }
            ]
           },
           "encoding": {
            "tooltip": [
             {
              "field": "value",
              "type": "quantitative"
             },
             {
              "field": "value_count",
              "type": "quantitative"
             }
            ],
            "x": {
             "field": "value",
             "title": "Value",
             "type": "quantitative"
            },
            "y": {
             "field": "value_count",
             "title": "Density",
             "type": "quantitative"
            }
           },
           "mark": "area",
           "title": "Kernel Density Estimation"
          }
         ]
        },
        {
         "hconcat": [
          {
           "data": {
            "values": [
             {
              "distinct_value_count": 61,
              "group_name": "substr_dob_1_4_",
              "percentile_ex_nulls": 0.9399999976158142,
              "percentile_inc_nulls": 0.9399999976158142,
              "sum_tokens_in_value_count_group": 60,
              "total_non_null_rows": 1000,
              "total_rows_inc_nulls": 1000,
              "value_count": 30
             },
             {
              "distinct_value_count": 61,
              "group_name": "substr_dob_1_4_",
              "percentile_ex_nulls": 0.9110000133514404,
              "percentile_inc_nulls": 0.9110000133514404,
              "sum_tokens_in_value_count_group": 29,
              "total_non_null_rows": 1000,
              "total_rows_inc_nulls": 1000,
              "value_count": 29
             },
             {
              "distinct_value_count": 61,
              "group_name": "substr_dob_1_4_",
              "percentile_ex_nulls": 0.8830000162124634,
              "percentile_inc_nulls": 0.8830000162124634,
              "sum_tokens_in_value_count_group": 28,
              "total_non_null_rows": 1000,
              "total_rows_inc_nulls": 1000,
              "value_count": 28
             },
             {
              "distinct_value_count": 61,
              "group_name": "substr_dob_1_4_",
              "percentile_ex_nulls": 0.8289999961853027,
              "percentile_inc_nulls": 0.8289999961853027,
              "sum_tokens_in_value_count_group": 54,
              "total_non_null_rows": 1000,
              "total_rows_inc_nulls": 1000,
              "value_count": 27
             },
             {
              "distinct_value_count": 61,
              "group_name": "substr_dob_1_4_",
              "percentile_ex_nulls": 0.7789999842643738,
              "percentile_inc_nulls": 0.7789999842643738,
              "sum_tokens_in_value_count_group": 50,
              "total_non_null_rows": 1000,
              "total_rows_inc_nulls": 1000,
              "value_count": 25
             },
             {
              "distinct_value_count": 61,
              "group_name": "substr_dob_1_4_",
              "percentile_ex_nulls": 0.7070000171661377,
              "percentile_inc_nulls": 0.7070000171661377,
              "sum_tokens_in_value_count_group": 72,
              "total_non_null_rows": 1000,
              "total_rows_inc_nulls": 1000,
              "value_count": 24
             },
             {
              "distinct_value_count": 61,
              "group_name": "substr_dob_1_4_",
              "percentile_ex_nulls": 0.5690000057220459,
              "percentile_inc_nulls": 0.5690000057220459,
              "sum_tokens_in_value_count_group": 138,
              "total_non_null_rows": 1000,
              "total_rows_inc_nulls": 1000,
              "value_count": 23
             },
             {
              "distinct_value_count": 61,
              "group_name": "substr_dob_1_4_",
              "percentile_ex_nulls": 0.48100000619888306,
              "percentile_inc_nulls": 0.48100000619888306,
              "sum_tokens_in_value_count_group": 88,
              "total_non_null_rows": 1000,
              "total_rows_inc_nulls": 1000,
              "value_count": 22
             },
             {
              "distinct_value_count": 61,
              "group_name": "substr_dob_1_4_",
              "percentile_ex_nulls": 0.4599999785423279,
              "percentile_inc_nulls": 0.4599999785423279,
              "sum_tokens_in_value_count_group": 21,
              "total_non_null_rows": 1000,
              "total_rows_inc_nulls": 1000,
              "value_count": 21
             },
             {
              "distinct_value_count": 61,
              "group_name": "substr_dob_1_4_",
              "percentile_ex_nulls": 0.3799999952316284,
              "percentile_inc_nulls": 0.3799999952316284,
              "sum_tokens_in_value_count_group": 80,
              "total_non_null_rows": 1000,
              "total_rows_inc_nulls": 1000,
              "value_count": 20
             },
             {
              "distinct_value_count": 61,
              "group_name": "substr_dob_1_4_",
              "percentile_ex_nulls": 0.3230000138282776,
              "percentile_inc_nulls": 0.3230000138282776,
              "sum_tokens_in_value_count_group": 57,
              "total_non_null_rows": 1000,
              "total_rows_inc_nulls": 1000,
              "value_count": 19
             },
             {
              "distinct_value_count": 61,
              "group_name": "substr_dob_1_4_",
              "percentile_ex_nulls": 0.26899999380111694,
              "percentile_inc_nulls": 0.26899999380111694,
              "sum_tokens_in_value_count_group": 54,
              "total_non_null_rows": 1000,
              "total_rows_inc_nulls": 1000,
              "value_count": 18
             },
             {
              "distinct_value_count": 61,
              "group_name": "substr_dob_1_4_",
              "percentile_ex_nulls": 0.23500001430511475,
              "percentile_inc_nulls": 0.23500001430511475,
              "sum_tokens_in_value_count_group": 34,
              "total_non_null_rows": 1000,
              "total_rows_inc_nulls": 1000,
              "value_count": 17
             },
             {
              "distinct_value_count": 61,
              "group_name": "substr_dob_1_4_",
              "percentile_ex_nulls": 0.203000009059906,
              "percentile_inc_nulls": 0.203000009059906,
              "sum_tokens_in_value_count_group": 32,
              "total_non_null_rows": 1000,
              "total_rows_inc_nulls": 1000,
              "value_count": 16
             },
             {
              "distinct_value_count": 61,
              "group_name": "substr_dob_1_4_",
              "percentile_ex_nulls": 0.15799999237060547,
              "percentile_inc_nulls": 0.15799999237060547,
              "sum_tokens_in_value_count_group": 45,
              "total_non_null_rows": 1000,
              "total_rows_inc_nulls": 1000,
              "value_count": 15
             },
             {
              "distinct_value_count": 61,
              "group_name": "substr_dob_1_4_",
              "percentile_ex_nulls": 0.14399999380111694,
              "percentile_inc_nulls": 0.14399999380111694,
              "sum_tokens_in_value_count_group": 14,
              "total_non_null_rows": 1000,
              "total_rows_inc_nulls": 1000,
              "value_count": 14
             },
             {
              "distinct_value_count": 61,
              "group_name": "substr_dob_1_4_",
              "percentile_ex_nulls": 0.07899999618530273,
              "percentile_inc_nulls": 0.07899999618530273,
              "sum_tokens_in_value_count_group": 65,
              "total_non_null_rows": 1000,
              "total_rows_inc_nulls": 1000,
              "value_count": 13
             },
             {
              "distinct_value_count": 61,
              "group_name": "substr_dob_1_4_",
              "percentile_ex_nulls": 0.05699998140335083,
              "percentile_inc_nulls": 0.05699998140335083,
              "sum_tokens_in_value_count_group": 22,
              "total_non_null_rows": 1000,
              "total_rows_inc_nulls": 1000,
              "value_count": 11
             },
             {
              "distinct_value_count": 61,
              "group_name": "substr_dob_1_4_",
              "percentile_ex_nulls": 0.04799997806549072,
              "percentile_inc_nulls": 0.04799997806549072,
              "sum_tokens_in_value_count_group": 9,
              "total_non_null_rows": 1000,
              "total_rows_inc_nulls": 1000,
              "value_count": 9
             },
             {
              "distinct_value_count": 61,
              "group_name": "substr_dob_1_4_",
              "percentile_ex_nulls": 0.04000002145767212,
              "percentile_inc_nulls": 0.04000002145767212,
              "sum_tokens_in_value_count_group": 8,
              "total_non_null_rows": 1000,
              "total_rows_inc_nulls": 1000,
              "value_count": 8
             },
             {
              "distinct_value_count": 61,
              "group_name": "substr_dob_1_4_",
              "percentile_ex_nulls": 0.03299999237060547,
              "percentile_inc_nulls": 0.03299999237060547,
              "sum_tokens_in_value_count_group": 7,
              "total_non_null_rows": 1000,
              "total_rows_inc_nulls": 1000,
              "value_count": 7
             },
             {
              "distinct_value_count": 61,
              "group_name": "substr_dob_1_4_",
              "percentile_ex_nulls": 0.027000010013580322,
              "percentile_inc_nulls": 0.027000010013580322,
              "sum_tokens_in_value_count_group": 6,
              "total_non_null_rows": 1000,
              "total_rows_inc_nulls": 1000,
              "value_count": 6
             },
             {
              "distinct_value_count": 61,
              "group_name": "substr_dob_1_4_",
              "percentile_ex_nulls": 0.017000019550323486,
              "percentile_inc_nulls": 0.017000019550323486,
              "sum_tokens_in_value_count_group": 10,
              "total_non_null_rows": 1000,
              "total_rows_inc_nulls": 1000,
              "value_count": 5
             },
             {
              "distinct_value_count": 61,
              "group_name": "substr_dob_1_4_",
              "percentile_ex_nulls": 0.013000011444091797,
              "percentile_inc_nulls": 0.013000011444091797,
              "sum_tokens_in_value_count_group": 4,
              "total_non_null_rows": 1000,
              "total_rows_inc_nulls": 1000,
              "value_count": 4
             },
             {
              "distinct_value_count": 61,
              "group_name": "substr_dob_1_4_",
              "percentile_ex_nulls": 0.009999990463256836,
              "percentile_inc_nulls": 0.009999990463256836,
              "sum_tokens_in_value_count_group": 3,
              "total_non_null_rows": 1000,
              "total_rows_inc_nulls": 1000,
              "value_count": 3
             },
             {
              "distinct_value_count": 61,
              "group_name": "substr_dob_1_4_",
              "percentile_ex_nulls": 0.001999974250793457,
              "percentile_inc_nulls": 0.001999974250793457,
              "sum_tokens_in_value_count_group": 8,
              "total_non_null_rows": 1000,
              "total_rows_inc_nulls": 1000,
              "value_count": 2
             },
             {
              "distinct_value_count": 61,
              "group_name": "substr_dob_1_4_",
              "percentile_ex_nulls": 0,
              "percentile_inc_nulls": 0,
              "sum_tokens_in_value_count_group": 2,
              "total_non_null_rows": 1000,
              "total_rows_inc_nulls": 1000,
              "value_count": 1
             },
             {
              "distinct_value_count": 61,
              "group_name": "substr_dob_1_4_",
              "percentile_ex_nulls": 1,
              "percentile_inc_nulls": 1,
              "sum_tokens_in_value_count_group": 60,
              "total_non_null_rows": 1000,
              "total_rows_inc_nulls": 1000,
              "value_count": 30
             }
            ]
           },
           "encoding": {
            "tooltip": [
             {
              "field": "value_count",
              "type": "quantitative"
             },
             {
              "field": "percentile_ex_nulls",
              "type": "quantitative"
             },
             {
              "field": "percentile_inc_nulls",
              "type": "quantitative"
             },
             {
              "field": "total_non_null_rows",
              "type": "quantitative"
             },
             {
              "field": "total_rows_inc_nulls",
              "type": "quantitative"
             }
            ],
            "x": {
             "field": "percentile_ex_nulls",
             "sort": "descending",
             "title": "Percentile",
             "type": "quantitative"
            },
            "y": {
             "field": "value_count",
             "title": "Count of values",
             "type": "quantitative"
            }
           },
           "mark": {
            "interpolate": "step-after",
            "type": "line"
           },
           "title": {
            "subtitle": "In this col, 0 values (0.0%) are null and there are 61 distinct values",
            "text": "Distribution of counts of values in column substr(dob, 1,4)"
           }
          },
          {
           "data": {
            "values": [
             {
              "distinct_value_count": 61,
              "group_name": "substr_dob_1_4_",
              "total_non_null_rows": 1000,
              "total_rows_inc_nulls": 1000,
              "value": "2011",
              "value_count": 30
             },
             {
              "distinct_value_count": 61,
              "group_name": "substr_dob_1_4_",
              "total_non_null_rows": 1000,
              "total_rows_inc_nulls": 1000,
              "value": "2000",
              "value_count": 30
             },
             {
              "distinct_value_count": 61,
              "group_name": "substr_dob_1_4_",
              "total_non_null_rows": 1000,
              "total_rows_inc_nulls": 1000,
              "value": "1983",
              "value_count": 29
             },
             {
              "distinct_value_count": 61,
              "group_name": "substr_dob_1_4_",
              "total_non_null_rows": 1000,
              "total_rows_inc_nulls": 1000,
              "value": "1984",
              "value_count": 28
             },
             {
              "distinct_value_count": 61,
              "group_name": "substr_dob_1_4_",
              "total_non_null_rows": 1000,
              "total_rows_inc_nulls": 1000,
              "value": "1991",
              "value_count": 27
             },
             {
              "distinct_value_count": 61,
              "group_name": "substr_dob_1_4_",
              "total_non_null_rows": 1000,
              "total_rows_inc_nulls": 1000,
              "value": "1972",
              "value_count": 27
             },
             {
              "distinct_value_count": 61,
              "group_name": "substr_dob_1_4_",
              "total_non_null_rows": 1000,
              "total_rows_inc_nulls": 1000,
              "value": "2017",
              "value_count": 25
             },
             {
              "distinct_value_count": 61,
              "group_name": "substr_dob_1_4_",
              "total_non_null_rows": 1000,
              "total_rows_inc_nulls": 1000,
              "value": "2002",
              "value_count": 25
             },
             {
              "distinct_value_count": 61,
              "group_name": "substr_dob_1_4_",
              "total_non_null_rows": 1000,
              "total_rows_inc_nulls": 1000,
              "value": "1974",
              "value_count": 24
             },
             {
              "distinct_value_count": 61,
              "group_name": "substr_dob_1_4_",
              "total_non_null_rows": 1000,
              "total_rows_inc_nulls": 1000,
              "value": "2010",
              "value_count": 24
             }
            ]
           },
           "encoding": {
            "tooltip": [
             {
              "field": "value",
              "type": "nominal"
             },
             {
              "field": "value_count",
              "type": "quantitative"
             },
             {
              "field": "total_non_null_rows",
              "type": "quantitative"
             },
             {
              "field": "total_rows_inc_nulls",
              "type": "quantitative"
             }
            ],
            "x": {
             "field": "value",
             "sort": "-y",
             "title": null,
             "type": "nominal"
            },
            "y": {
             "field": "value_count",
             "title": "Value count",
             "type": "quantitative"
            }
           },
           "mark": "bar",
           "title": "Top 10 values by value count"
          },
          {
           "data": {
            "values": [
             {
              "distinct_value_count": 61,
              "group_name": "substr_dob_1_4_",
              "total_non_null_rows": 1000,
              "total_rows_inc_nulls": 1000,
              "value": "2031",
              "value_count": 1
             },
             {
              "distinct_value_count": 61,
              "group_name": "substr_dob_1_4_",
              "total_non_null_rows": 1000,
              "total_rows_inc_nulls": 1000,
              "value": "2027",
              "value_count": 1
             },
             {
              "distinct_value_count": 61,
              "group_name": "substr_dob_1_4_",
              "total_non_null_rows": 1000,
              "total_rows_inc_nulls": 1000,
              "value": "2026",
              "value_count": 2
             },
             {
              "distinct_value_count": 61,
              "group_name": "substr_dob_1_4_",
              "total_non_null_rows": 1000,
              "total_rows_inc_nulls": 1000,
              "value": "2030",
              "value_count": 2
             },
             {
              "distinct_value_count": 61,
              "group_name": "substr_dob_1_4_",
              "total_non_null_rows": 1000,
              "total_rows_inc_nulls": 1000,
              "value": "2028",
              "value_count": 2
             }
            ]
           },
           "encoding": {
            "tooltip": [
             {
              "field": "value",
              "type": "nominal"
             },
             {
              "field": "value_count",
              "type": "quantitative"
             },
             {
              "field": "total_non_null_rows",
              "type": "quantitative"
             },
             {
              "field": "total_rows_inc_nulls",
              "type": "quantitative"
             }
            ],
            "x": {
             "field": "value",
             "sort": "-y",
             "title": null,
             "type": "nominal"
            },
            "y": {
             "field": "value_count",
             "scale": {
              "domain": [
               0,
               30
              ]
             },
             "title": "Value count",
             "type": "quantitative"
            }
           },
           "mark": "bar",
           "title": "Bottom 5 values by value count"
          },
          {
           "data": {
            "values": [
             {
              "group_name": "substr_dob_1_4_",
              "value": "2011",
              "value_count": 30
             },
             {
              "group_name": "substr_dob_1_4_",
              "value": "2000",
              "value_count": 30
             },
             {
              "group_name": "substr_dob_1_4_",
              "value": "1983",
              "value_count": 29
             },
             {
              "group_name": "substr_dob_1_4_",
              "value": "1984",
              "value_count": 28
             },
             {
              "group_name": "substr_dob_1_4_",
              "value": "1991",
              "value_count": 27
             },
             {
              "group_name": "substr_dob_1_4_",
              "value": "1972",
              "value_count": 27
             },
             {
              "group_name": "substr_dob_1_4_",
              "value": "2017",
              "value_count": 25
             },
             {
              "group_name": "substr_dob_1_4_",
              "value": "2002",
              "value_count": 25
             },
             {
              "group_name": "substr_dob_1_4_",
              "value": "1974",
              "value_count": 24
             },
             {
              "group_name": "substr_dob_1_4_",
              "value": "2010",
              "value_count": 24
             },
             {
              "group_name": "substr_dob_1_4_",
              "value": "2009",
              "value_count": 24
             },
             {
              "group_name": "substr_dob_1_4_",
              "value": "1973",
              "value_count": 23
             },
             {
              "group_name": "substr_dob_1_4_",
              "value": "1985",
              "value_count": 23
             },
             {
              "group_name": "substr_dob_1_4_",
              "value": "1990",
              "value_count": 23
             },
             {
              "group_name": "substr_dob_1_4_",
              "value": "1987",
              "value_count": 23
             },
             {
              "group_name": "substr_dob_1_4_",
              "value": "1993",
              "value_count": 23
             },
             {
              "group_name": "substr_dob_1_4_",
              "value": "2001",
              "value_count": 23
             },
             {
              "group_name": "substr_dob_1_4_",
              "value": "1992",
              "value_count": 22
             },
             {
              "group_name": "substr_dob_1_4_",
              "value": "2005",
              "value_count": 22
             },
             {
              "group_name": "substr_dob_1_4_",
              "value": "2019",
              "value_count": 22
             },
             {
              "group_name": "substr_dob_1_4_",
              "value": "1996",
              "value_count": 22
             },
             {
              "group_name": "substr_dob_1_4_",
              "value": "2008",
              "value_count": 21
             },
             {
              "group_name": "substr_dob_1_4_",
              "value": "1971",
              "value_count": 20
             },
             {
              "group_name": "substr_dob_1_4_",
              "value": "2006",
              "value_count": 20
             },
             {
              "group_name": "substr_dob_1_4_",
              "value": "2014",
              "value_count": 20
             },
             {
              "group_name": "substr_dob_1_4_",
              "value": "2004",
              "value_count": 20
             },
             {
              "group_name": "substr_dob_1_4_",
              "value": "1986",
              "value_count": 19
             },
             {
              "group_name": "substr_dob_1_4_",
              "value": "2013",
              "value_count": 19
             },
             {
              "group_name": "substr_dob_1_4_",
              "value": "1980",
              "value_count": 19
             },
             {
              "group_name": "substr_dob_1_4_",
              "value": "1982",
              "value_count": 18
             },
             {
              "group_name": "substr_dob_1_4_",
              "value": "2016",
              "value_count": 18
             },
             {
              "group_name": "substr_dob_1_4_",
              "value": "2007",
              "value_count": 18
             },
             {
              "group_name": "substr_dob_1_4_",
              "value": "2015",
              "value_count": 17
             },
             {
              "group_name": "substr_dob_1_4_",
              "value": "1999",
              "value_count": 17
             },
             {
              "group_name": "substr_dob_1_4_",
              "value": "1994",
              "value_count": 16
             },
             {
              "group_name": "substr_dob_1_4_",
              "value": "2018",
              "value_count": 16
             },
             {
              "group_name": "substr_dob_1_4_",
              "value": "1997",
              "value_count": 15
             },
             {
              "group_name": "substr_dob_1_4_",
              "value": "1976",
              "value_count": 15
             },
             {
              "group_name": "substr_dob_1_4_",
              "value": "1978",
              "value_count": 15
             },
             {
              "group_name": "substr_dob_1_4_",
              "value": "2012",
              "value_count": 14
             },
             {
              "group_name": "substr_dob_1_4_",
              "value": "1981",
              "value_count": 13
             },
             {
              "group_name": "substr_dob_1_4_",
              "value": "1979",
              "value_count": 13
             },
             {
              "group_name": "substr_dob_1_4_",
              "value": "1988",
              "value_count": 13
             },
             {
              "group_name": "substr_dob_1_4_",
              "value": "1970",
              "value_count": 13
             },
             {
              "group_name": "substr_dob_1_4_",
              "value": "1995",
              "value_count": 13
             },
             {
              "group_name": "substr_dob_1_4_",
              "value": "2003",
              "value_count": 11
             },
             {
              "group_name": "substr_dob_1_4_",
              "value": "2020",
              "value_count": 11
             },
             {
              "group_name": "substr_dob_1_4_",
              "value": "1977",
              "value_count": 9
             },
             {
              "group_name": "substr_dob_1_4_",
              "value": "1989",
              "value_count": 8
             },
             {
              "group_name": "substr_dob_1_4_",
              "value": "1998",
              "value_count": 7
             },
             {
              "group_name": "substr_dob_1_4_",
              "value": "1975",
              "value_count": 6
             },
             {
              "group_name": "substr_dob_1_4_",
              "value": "2023",
              "value_count": 5
             },
             {
              "group_name": "substr_dob_1_4_",
              "value": "2021",
              "value_count": 5
             },
             {
              "group_name": "substr_dob_1_4_",
              "value": "2022",
              "value_count": 4
             },
             {
              "group_name": "substr_dob_1_4_",
              "value": "2024",
              "value_count": 3
             },
             {
              "group_name": "substr_dob_1_4_",
              "value": "2026",
              "value_count": 2
             },
             {
              "group_name": "substr_dob_1_4_",
              "value": "2030",
              "value_count": 2
             },
             {
              "group_name": "substr_dob_1_4_",
              "value": "2028",
              "value_count": 2
             },
             {
              "group_name": "substr_dob_1_4_",
              "value": "2029",
              "value_count": 2
             },
             {
              "group_name": "substr_dob_1_4_",
              "value": "2031",
              "value_count": 1
             },
             {
              "group_name": "substr_dob_1_4_",
              "value": "2027",
              "value_count": 1
             }
            ]
           },
           "encoding": {
            "tooltip": [
             {
              "field": "value",
              "type": "quantitative"
             },
             {
              "field": "value_count",
              "type": "quantitative"
             }
            ],
            "x": {
             "field": "value",
             "title": "Value",
             "type": "quantitative"
            },
            "y": {
             "field": "value_count",
             "title": "Density",
             "type": "quantitative"
            }
           },
           "mark": "area",
           "title": "Kernel Density Estimation"
          }
         ]
        }
       ]
      },
      "text/plain": [
       "<VegaLite 4 object>\n",
       "\n",
       "If you see this message, it means the renderer has not been properly enabled\n",
       "for the frontend that you are using. For more information, see\n",
       "https://altair-viz.github.io/user_guide/troubleshooting.html\n"
      ]
     },
     "execution_count": 6,
     "metadata": {},
     "output_type": "execute_result"
    }
   ],
   "source": [
    "linker.profile_columns([\"first_name\", \"city\", \"surname\", \"email\", \"substr(dob, 1,4)\"], top_n=10, bottom_n=5)"
   ]
  },
  {
   "cell_type": "markdown",
   "id": "2ceb2d74",
   "metadata": {},
   "source": [
    "There are four elements to profile_columns:\n",
    "- A distribution plot that shows the count of values at each percentile. This can be toggled off with `distribution_plots = False`.\n",
    "- A top n chart, that produces a chart showing the count of the top n values within the column. This can be toggled off with `top_n = None`.\n",
    "- A bottom n chart, that produces a chart showing the count of the bottom n values within the column. This can be toggled off with `bottom_n = None`.\n",
    "- A kernel density plot of a numeric variable. This can be toggled off with `kde_plots=False`, and is off by default."
   ]
  },
  {
   "cell_type": "code",
   "execution_count": 7,
   "id": "4574b343",
   "metadata": {},
   "outputs": [
    {
     "data": {
      "application/vnd.vegalite.v4+json": {
       "$schema": "https://vega.github.io/schema/vega-lite/v5.9.3.json",
       "config": {
        "view": {
         "continuousHeight": 300,
         "continuousWidth": 400
        }
       },
       "vconcat": [
        {
         "hconcat": [
          {
           "data": {
            "values": [
             {
              "group_name": "substr_dob_1_4_",
              "value": "2011",
              "value_count": 30
             },
             {
              "group_name": "substr_dob_1_4_",
              "value": "2000",
              "value_count": 30
             },
             {
              "group_name": "substr_dob_1_4_",
              "value": "1983",
              "value_count": 29
             },
             {
              "group_name": "substr_dob_1_4_",
              "value": "1984",
              "value_count": 28
             },
             {
              "group_name": "substr_dob_1_4_",
              "value": "1991",
              "value_count": 27
             },
             {
              "group_name": "substr_dob_1_4_",
              "value": "1972",
              "value_count": 27
             },
             {
              "group_name": "substr_dob_1_4_",
              "value": "2017",
              "value_count": 25
             },
             {
              "group_name": "substr_dob_1_4_",
              "value": "2002",
              "value_count": 25
             },
             {
              "group_name": "substr_dob_1_4_",
              "value": "1974",
              "value_count": 24
             },
             {
              "group_name": "substr_dob_1_4_",
              "value": "2010",
              "value_count": 24
             },
             {
              "group_name": "substr_dob_1_4_",
              "value": "2009",
              "value_count": 24
             },
             {
              "group_name": "substr_dob_1_4_",
              "value": "1973",
              "value_count": 23
             },
             {
              "group_name": "substr_dob_1_4_",
              "value": "1985",
              "value_count": 23
             },
             {
              "group_name": "substr_dob_1_4_",
              "value": "1990",
              "value_count": 23
             },
             {
              "group_name": "substr_dob_1_4_",
              "value": "1987",
              "value_count": 23
             },
             {
              "group_name": "substr_dob_1_4_",
              "value": "1993",
              "value_count": 23
             },
             {
              "group_name": "substr_dob_1_4_",
              "value": "2001",
              "value_count": 23
             },
             {
              "group_name": "substr_dob_1_4_",
              "value": "1992",
              "value_count": 22
             },
             {
              "group_name": "substr_dob_1_4_",
              "value": "2005",
              "value_count": 22
             },
             {
              "group_name": "substr_dob_1_4_",
              "value": "2019",
              "value_count": 22
             },
             {
              "group_name": "substr_dob_1_4_",
              "value": "1996",
              "value_count": 22
             },
             {
              "group_name": "substr_dob_1_4_",
              "value": "2008",
              "value_count": 21
             },
             {
              "group_name": "substr_dob_1_4_",
              "value": "1971",
              "value_count": 20
             },
             {
              "group_name": "substr_dob_1_4_",
              "value": "2006",
              "value_count": 20
             },
             {
              "group_name": "substr_dob_1_4_",
              "value": "2014",
              "value_count": 20
             },
             {
              "group_name": "substr_dob_1_4_",
              "value": "2004",
              "value_count": 20
             },
             {
              "group_name": "substr_dob_1_4_",
              "value": "1986",
              "value_count": 19
             },
             {
              "group_name": "substr_dob_1_4_",
              "value": "2013",
              "value_count": 19
             },
             {
              "group_name": "substr_dob_1_4_",
              "value": "1980",
              "value_count": 19
             },
             {
              "group_name": "substr_dob_1_4_",
              "value": "1982",
              "value_count": 18
             },
             {
              "group_name": "substr_dob_1_4_",
              "value": "2016",
              "value_count": 18
             },
             {
              "group_name": "substr_dob_1_4_",
              "value": "2007",
              "value_count": 18
             },
             {
              "group_name": "substr_dob_1_4_",
              "value": "2015",
              "value_count": 17
             },
             {
              "group_name": "substr_dob_1_4_",
              "value": "1999",
              "value_count": 17
             },
             {
              "group_name": "substr_dob_1_4_",
              "value": "1994",
              "value_count": 16
             },
             {
              "group_name": "substr_dob_1_4_",
              "value": "2018",
              "value_count": 16
             },
             {
              "group_name": "substr_dob_1_4_",
              "value": "1997",
              "value_count": 15
             },
             {
              "group_name": "substr_dob_1_4_",
              "value": "1976",
              "value_count": 15
             },
             {
              "group_name": "substr_dob_1_4_",
              "value": "1978",
              "value_count": 15
             },
             {
              "group_name": "substr_dob_1_4_",
              "value": "2012",
              "value_count": 14
             },
             {
              "group_name": "substr_dob_1_4_",
              "value": "1981",
              "value_count": 13
             },
             {
              "group_name": "substr_dob_1_4_",
              "value": "1979",
              "value_count": 13
             },
             {
              "group_name": "substr_dob_1_4_",
              "value": "1988",
              "value_count": 13
             },
             {
              "group_name": "substr_dob_1_4_",
              "value": "1970",
              "value_count": 13
             },
             {
              "group_name": "substr_dob_1_4_",
              "value": "1995",
              "value_count": 13
             },
             {
              "group_name": "substr_dob_1_4_",
              "value": "2003",
              "value_count": 11
             },
             {
              "group_name": "substr_dob_1_4_",
              "value": "2020",
              "value_count": 11
             },
             {
              "group_name": "substr_dob_1_4_",
              "value": "1977",
              "value_count": 9
             },
             {
              "group_name": "substr_dob_1_4_",
              "value": "1989",
              "value_count": 8
             },
             {
              "group_name": "substr_dob_1_4_",
              "value": "1998",
              "value_count": 7
             },
             {
              "group_name": "substr_dob_1_4_",
              "value": "1975",
              "value_count": 6
             },
             {
              "group_name": "substr_dob_1_4_",
              "value": "2023",
              "value_count": 5
             },
             {
              "group_name": "substr_dob_1_4_",
              "value": "2021",
              "value_count": 5
             },
             {
              "group_name": "substr_dob_1_4_",
              "value": "2022",
              "value_count": 4
             },
             {
              "group_name": "substr_dob_1_4_",
              "value": "2024",
              "value_count": 3
             },
             {
              "group_name": "substr_dob_1_4_",
              "value": "2026",
              "value_count": 2
             },
             {
              "group_name": "substr_dob_1_4_",
              "value": "2030",
              "value_count": 2
             },
             {
              "group_name": "substr_dob_1_4_",
              "value": "2028",
              "value_count": 2
             },
             {
              "group_name": "substr_dob_1_4_",
              "value": "2029",
              "value_count": 2
             },
             {
              "group_name": "substr_dob_1_4_",
              "value": "2031",
              "value_count": 1
             },
             {
              "group_name": "substr_dob_1_4_",
              "value": "2027",
              "value_count": 1
             }
            ]
           },
           "encoding": {
            "tooltip": [
             {
              "field": "value",
              "type": "quantitative"
             },
             {
              "field": "value_count",
              "type": "quantitative"
             }
            ],
            "x": {
             "field": "value",
             "title": "Value",
             "type": "quantitative"
            },
            "y": {
             "field": "value_count",
             "title": "Density",
             "type": "quantitative"
            }
           },
           "mark": "area",
           "title": "Kernel Density Estimation"
          }
         ]
        }
       ]
      },
      "text/plain": [
       "<VegaLite 4 object>\n",
       "\n",
       "If you see this message, it means the renderer has not been properly enabled\n",
       "for the frontend that you are using. For more information, see\n",
       "https://altair-viz.github.io/user_guide/troubleshooting.html\n"
      ]
     },
     "execution_count": 7,
     "metadata": {},
     "output_type": "execute_result"
    }
   ],
   "source": [
    "linker.profile_columns([\"substr(dob, 1,4)\"], top_n=None, bottom_n=None, kde_plots=True, distribution_plots=False)"
   ]
  },
  {
   "cell_type": "markdown",
   "id": "6c5d3a2d",
   "metadata": {},
   "source": [
    "This chart is very information-dense, but here are some key takehomes relevant to our linkage:\n",
    "\n",
    "- There is strong skew in the `city` field with around 20% of the values being `London`.  We therefore will probably want to use `term_frequency_adjustments` in our linkage model, so that it can weight a match on London differently to a match on, say, `Norwich`.\n",
    "\n",
    "- Looking at the \"Bottom 5 values by value count\", we can see typos in the data in most fields.  This tells us this information was possibly entered by hand, or using Optical Character Recognition, giving us an insight into the type of data entry errors we may see.\n",
    "\n",
    "- Email is a much more uniquely-identifying field than any others, with a maximum value count of 6.  It's likely to be a strong linking variable."
   ]
  },
  {
   "cell_type": "markdown",
   "id": "1f37cb1e",
   "metadata": {},
   "source": [
    "## Next steps\n",
    "\n",
    "At this point, we have begin to develop a strong understanding of our data.  It's time to move on to estimating a linkage model\n"
   ]
  },
  {
   "cell_type": "markdown",
   "id": "c537f065-f61f-402a-ad2c-a8575b6207ab",
   "metadata": {},
   "source": [
    "## Further reading\n",
    "\n",
    "You can find the documentation for the exploratory analysis tools in Splink [here](https://moj-analytical-services.github.io/splink/linkerexp.html)"
   ]
  }
 ],
 "metadata": {
  "kernelspec": {
   "display_name": "splink-venv",
   "language": "python",
   "name": "python3"
  },
  "language_info": {
   "codemirror_mode": {
    "name": "ipython",
    "version": 3
   },
   "file_extension": ".py",
   "mimetype": "text/x-python",
   "name": "python",
   "nbconvert_exporter": "python",
   "pygments_lexer": "ipython3",
   "version": "3.9.6"
  }
 },
 "nbformat": 4,
 "nbformat_minor": 5
}
