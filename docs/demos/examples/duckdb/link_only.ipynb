{
  "cells": [
    {
      "attachments": {},
      "cell_type": "markdown",
      "metadata": {},
      "source": [
        "## Linking without deduplication\n",
        "\n",
        "A simple record linkage model using the `link_only` [link type](https://moj-analytical-services.github.io/splink/settings_dict_guide.html#link_type).\n",
        "\n",
        "With `link_only`, only between-dataset record comparisons are generated. No within-dataset record comparisons are created, meaning that the model does not attempt to find within-dataset duplicates.\n"
      ]
    },
    {
      "cell_type": "markdown",
      "metadata": {},
      "source": [
        "<a target=\"_blank\" href=\"https://colab.research.google.com/github/moj-analytical-services/splink/blob/splink4_dev/docs/demos/examples/duckdb/link_only.ipynb\">\n",
        "  <img src=\"https://colab.research.google.com/assets/colab-badge.svg\" alt=\"Open In Colab\"/>\n",
        "</a>\n"
      ]
    },
    {
      "cell_type": "code",
      "execution_count": 1,
      "metadata": {
        "execution": {
          "iopub.execute_input": "2024-03-12T08:56:56.599087Z",
          "iopub.status.busy": "2024-03-12T08:56:56.598762Z",
          "iopub.status.idle": "2024-03-12T08:56:56.604492Z",
          "shell.execute_reply": "2024-03-12T08:56:56.603695Z"
        }
      },
      "outputs": [],
      "source": [
        "# Uncomment and run this cell if you're running in Google Colab.\n",
        "# !pip install git+https://github.com/moj-analytical-services/splink.git@splink4_dev"
      ]
    },
    {
      "cell_type": "code",
      "execution_count": 2,
      "metadata": {
        "execution": {
          "iopub.execute_input": "2024-03-12T08:56:56.608194Z",
          "iopub.status.busy": "2024-03-12T08:56:56.607901Z",
          "iopub.status.idle": "2024-03-12T08:56:57.357338Z",
          "shell.execute_reply": "2024-03-12T08:56:57.356701Z"
        }
      },
      "outputs": [
        {
          "data": {
            "text/html": [
              "<div>\n",
              "<style scoped>\n",
              "    .dataframe tbody tr th:only-of-type {\n",
              "        vertical-align: middle;\n",
              "    }\n",
              "\n",
              "    .dataframe tbody tr th {\n",
              "        vertical-align: top;\n",
              "    }\n",
              "\n",
              "    .dataframe thead th {\n",
              "        text-align: right;\n",
              "    }\n",
              "</style>\n",
              "<table border=\"1\" class=\"dataframe\">\n",
              "  <thead>\n",
              "    <tr style=\"text-align: right;\">\n",
              "      <th></th>\n",
              "      <th>unique_id</th>\n",
              "      <th>first_name</th>\n",
              "      <th>surname</th>\n",
              "      <th>dob</th>\n",
              "      <th>city</th>\n",
              "      <th>email</th>\n",
              "      <th>cluster</th>\n",
              "    </tr>\n",
              "  </thead>\n",
              "  <tbody>\n",
              "    <tr>\n",
              "      <th>417</th>\n",
              "      <td>417</td>\n",
              "      <td>Florence</td>\n",
              "      <td>Brown</td>\n",
              "      <td>2002-02-24</td>\n",
              "      <td>London</td>\n",
              "      <td>fb@reose.cem</td>\n",
              "      <td>108</td>\n",
              "    </tr>\n",
              "    <tr>\n",
              "      <th>999</th>\n",
              "      <td>999</td>\n",
              "      <td>Oliver</td>\n",
              "      <td>Bird</td>\n",
              "      <td>2000-01-27</td>\n",
              "      <td>Reading</td>\n",
              "      <td>o.b@smith.net</td>\n",
              "      <td>250</td>\n",
              "    </tr>\n",
              "  </tbody>\n",
              "</table>\n",
              "</div>"
            ],
            "text/plain": [
              "     unique_id first_name surname         dob     city          email  cluster\n",
              "417        417   Florence   Brown  2002-02-24   London   fb@reose.cem      108\n",
              "999        999     Oliver    Bird  2000-01-27  Reading  o.b@smith.net      250"
            ]
          },
          "execution_count": 2,
          "metadata": {},
          "output_type": "execute_result"
        }
      ],
      "source": [
        "from splink.datasets import splink_datasets\n",
        "\n",
        "df = splink_datasets.fake_1000\n",
        "\n",
        "# Split a simple dataset into two, separate datasets which can be linked together.\n",
        "df_l = df.sample(frac=0.5)\n",
        "df_r = df.drop(df_l.index)\n",
        "\n",
        "df_l.head(2)"
      ]
    },
    {
      "cell_type": "code",
      "execution_count": 3,
      "metadata": {
        "execution": {
          "iopub.execute_input": "2024-03-12T08:56:57.415686Z",
          "iopub.status.busy": "2024-03-12T08:56:57.415212Z",
          "iopub.status.idle": "2024-03-12T08:56:58.306881Z",
          "shell.execute_reply": "2024-03-12T08:56:58.306070Z"
        }
      },
      "outputs": [],
      "source": [
        "from splink.linker import Linker\n",
        "from splink.duckdb.database_api import DuckDBAPI\n",
        "from splink.blocking_rule_library import block_on\n",
        "import splink.comparison_library as cl\n",
        "import splink.comparison_template_library as ctl\n",
        "from splink.settings_creator import SettingsCreator\n",
        "\n",
        "settings = SettingsCreator(\n",
        "    link_type=\"link_only\",\n",
        "    blocking_rules_to_generate_predictions=[\n",
        "        block_on(\"first_name\"),\n",
        "        block_on(\"surname\"),\n",
        "    ],\n",
        "    comparisons=[\n",
        "        ctl.NameComparison(\n",
        "            \"first_name\",\n",
        "        ),\n",
        "        ctl.NameComparison(\"surname\"),\n",
        "        ctl.DateComparison(\n",
        "            \"dob\",\n",
        "            input_is_string=True,\n",
        "            invalid_dates_as_null=True,\n",
        "            datetime_metrics=[\"month\", \"year\", \"year\"],\n",
        "            datetime_thresholds=[1, 1, 10],\n",
        "        ),\n",
        "        cl.ExactMatch(\"city\").configure(term_frequency_adjustments=True),\n",
        "        ctl.EmailComparison(\"email\", include_username_fuzzy_level=False),\n",
        "    ],\n",
        ")\n",
        "\n",
        "linker = Linker(\n",
        "    [df_l, df_r],\n",
        "    settings,\n",
        "    database_api=DuckDBAPI(),\n",
        "    input_table_aliases=[\"df_left\", \"df_right\"],\n",
        ")"
      ]
    },
    {
      "cell_type": "code",
      "execution_count": 4,
      "metadata": {
        "execution": {
          "iopub.execute_input": "2024-03-12T08:56:58.310284Z",
          "iopub.status.busy": "2024-03-12T08:56:58.309993Z",
          "iopub.status.idle": "2024-03-12T08:56:58.857062Z",
          "shell.execute_reply": "2024-03-12T08:56:58.856540Z"
        }
      },
      "outputs": [
        {
          "data": {
            "text/html": [
              "\n",
              "<style>\n",
              "  #altair-viz-04493389fe26472285ef4e0cfa56cb85.vega-embed {\n",
              "    width: 100%;\n",
              "    display: flex;\n",
              "  }\n",
              "\n",
              "  #altair-viz-04493389fe26472285ef4e0cfa56cb85.vega-embed details,\n",
              "  #altair-viz-04493389fe26472285ef4e0cfa56cb85.vega-embed details summary {\n",
              "    position: relative;\n",
              "  }\n",
              "</style>\n",
              "<div id=\"altair-viz-04493389fe26472285ef4e0cfa56cb85\"></div>\n",
              "<script type=\"text/javascript\">\n",
              "  var VEGA_DEBUG = (typeof VEGA_DEBUG == \"undefined\") ? {} : VEGA_DEBUG;\n",
              "  (function(spec, embedOpt){\n",
              "    let outputDiv = document.currentScript.previousElementSibling;\n",
              "    if (outputDiv.id !== \"altair-viz-04493389fe26472285ef4e0cfa56cb85\") {\n",
              "      outputDiv = document.getElementById(\"altair-viz-04493389fe26472285ef4e0cfa56cb85\");\n",
              "    }\n",
              "    const paths = {\n",
              "      \"vega\": \"https://cdn.jsdelivr.net/npm/vega@5?noext\",\n",
              "      \"vega-lib\": \"https://cdn.jsdelivr.net/npm/vega-lib?noext\",\n",
              "      \"vega-lite\": \"https://cdn.jsdelivr.net/npm/vega-lite@5.16.3?noext\",\n",
              "      \"vega-embed\": \"https://cdn.jsdelivr.net/npm/vega-embed@6?noext\",\n",
              "    };\n",
              "\n",
              "    function maybeLoadScript(lib, version) {\n",
              "      var key = `${lib.replace(\"-\", \"\")}_version`;\n",
              "      return (VEGA_DEBUG[key] == version) ?\n",
              "        Promise.resolve(paths[lib]) :\n",
              "        new Promise(function(resolve, reject) {\n",
              "          var s = document.createElement('script');\n",
              "          document.getElementsByTagName(\"head\")[0].appendChild(s);\n",
              "          s.async = true;\n",
              "          s.onload = () => {\n",
              "            VEGA_DEBUG[key] = version;\n",
              "            return resolve(paths[lib]);\n",
              "          };\n",
              "          s.onerror = () => reject(`Error loading script: ${paths[lib]}`);\n",
              "          s.src = paths[lib];\n",
              "        });\n",
              "    }\n",
              "\n",
              "    function showError(err) {\n",
              "      outputDiv.innerHTML = `<div class=\"error\" style=\"color:red;\">${err}</div>`;\n",
              "      throw err;\n",
              "    }\n",
              "\n",
              "    function displayChart(vegaEmbed) {\n",
              "      vegaEmbed(outputDiv, spec, embedOpt)\n",
              "        .catch(err => showError(`Javascript Error: ${err.message}<br>This usually means there's a typo in your chart specification. See the javascript console for the full traceback.`));\n",
              "    }\n",
              "\n",
              "    if(typeof define === \"function\" && define.amd) {\n",
              "      requirejs.config({paths});\n",
              "      require([\"vega-embed\"], displayChart, err => showError(`Error loading script: ${err.message}`));\n",
              "    } else {\n",
              "      maybeLoadScript(\"vega\", \"5\")\n",
              "        .then(() => maybeLoadScript(\"vega-lite\", \"5.16.3\"))\n",
              "        .then(() => maybeLoadScript(\"vega-embed\", \"6\"))\n",
              "        .catch(showError)\n",
              "        .then(() => displayChart(vegaEmbed));\n",
              "    }\n",
              "  })({\"config\": {\"view\": {\"continuousWidth\": 400, \"continuousHeight\": 300}}, \"layer\": [{\"mark\": \"rect\", \"encoding\": {\"color\": {\"field\": \"completeness\", \"legend\": null, \"scale\": {\"scheme\": \"darkred\", \"zero\": true}, \"type\": \"quantitative\"}, \"tooltip\": [{\"field\": \"source_dataset\", \"title\": \"Source dataset\", \"type\": \"nominal\"}, {\"field\": \"total_rows_inc_nulls\", \"format\": \",\", \"title\": \"# of records\", \"type\": \"quantitative\"}, {\"field\": \"column_name\", \"title\": \"Column name\", \"type\": \"nominal\"}, {\"field\": \"total_null_rows\", \"format\": \",\", \"title\": \"# of nulls\", \"type\": \"quantitative\"}, {\"field\": \"completeness\", \"format\": \".1%\", \"type\": \"quantitative\"}], \"x\": {\"axis\": {\"labelAngle\": 20}, \"field\": \"column_name\", \"sort\": {\"field\": \"mean_comp\", \"order\": \"descending\"}, \"title\": \"Column name\", \"type\": \"nominal\"}, \"y\": {\"field\": \"source_dataset\", \"title\": \"Source dataset\", \"type\": \"nominal\"}}, \"title\": \"Column completeness by source dataset\", \"transform\": [{\"joinaggregate\": [{\"op\": \"mean\", \"field\": \"completeness\", \"as\": \"mean_comp\"}], \"groupby\": [\"column_name\"]}]}, {\"mark\": {\"type\": \"text\"}, \"encoding\": {\"color\": {\"condition\": {\"test\": \"datum['completeness'] < 0.5\", \"value\": \"white\"}, \"value\": \"black\"}, \"text\": {\"field\": \"completeness\", \"format\": \".0%\", \"type\": \"quantitative\"}, \"x\": {\"axis\": {\"labelAngle\": 0}, \"field\": \"column_name\", \"sort\": {\"field\": \"mean_comp\", \"order\": \"descending\"}, \"type\": \"nominal\"}, \"y\": {\"field\": \"source_dataset\", \"type\": \"nominal\"}}, \"transform\": [{\"joinaggregate\": [{\"op\": \"mean\", \"field\": \"completeness\", \"as\": \"mean_comp\"}], \"groupby\": [\"column_name\"]}]}], \"data\": {\"name\": \"data-7fdf9f6b8e835f99157ca7c37b322387\"}, \"height\": {\"step\": 40}, \"width\": {\"step\": 40}, \"$schema\": \"https://vega.github.io/schema/vega-lite/v5.9.3.json\", \"datasets\": {\"data-7fdf9f6b8e835f99157ca7c37b322387\": [{\"source_dataset\": \"df_left\", \"column_name\": \"first_name\", \"total_null_rows\": 79, \"total_rows_inc_nulls\": 500, \"completeness\": 0.8420000076293945}, {\"source_dataset\": \"df_right\", \"column_name\": \"first_name\", \"total_null_rows\": 90, \"total_rows_inc_nulls\": 500, \"completeness\": 0.8199999928474426}, {\"source_dataset\": \"df_right\", \"column_name\": \"surname\", \"total_null_rows\": 94, \"total_rows_inc_nulls\": 500, \"completeness\": 0.8119999766349792}, {\"source_dataset\": \"df_left\", \"column_name\": \"surname\", \"total_null_rows\": 87, \"total_rows_inc_nulls\": 500, \"completeness\": 0.8259999752044678}, {\"source_dataset\": \"df_left\", \"column_name\": \"dob\", \"total_null_rows\": 0, \"total_rows_inc_nulls\": 500, \"completeness\": 1.0}, {\"source_dataset\": \"df_right\", \"column_name\": \"dob\", \"total_null_rows\": 0, \"total_rows_inc_nulls\": 500, \"completeness\": 1.0}, {\"source_dataset\": \"df_left\", \"column_name\": \"city\", \"total_null_rows\": 102, \"total_rows_inc_nulls\": 500, \"completeness\": 0.7960000038146973}, {\"source_dataset\": \"df_right\", \"column_name\": \"city\", \"total_null_rows\": 85, \"total_rows_inc_nulls\": 500, \"completeness\": 0.8299999833106995}, {\"source_dataset\": \"df_right\", \"column_name\": \"email\", \"total_null_rows\": 112, \"total_rows_inc_nulls\": 500, \"completeness\": 0.7760000228881836}, {\"source_dataset\": \"df_left\", \"column_name\": \"email\", \"total_null_rows\": 99, \"total_rows_inc_nulls\": 500, \"completeness\": 0.8019999861717224}]}}, {\"mode\": \"vega-lite\"});\n",
              "</script>"
            ],
            "text/plain": [
              "alt.LayerChart(...)"
            ]
          },
          "execution_count": 4,
          "metadata": {},
          "output_type": "execute_result"
        }
      ],
      "source": [
        "linker.completeness_chart(cols=[\"first_name\", \"surname\", \"dob\", \"city\", \"email\"])"
      ]
    },
    {
      "cell_type": "code",
      "execution_count": 5,
      "metadata": {
        "execution": {
          "iopub.execute_input": "2024-03-12T08:56:58.860100Z",
          "iopub.status.busy": "2024-03-12T08:56:58.859860Z",
          "iopub.status.idle": "2024-03-12T08:56:58.969410Z",
          "shell.execute_reply": "2024-03-12T08:56:58.968891Z"
        }
      },
      "outputs": [
        {
          "name": "stderr",
          "output_type": "stream",
          "text": [
            "Probability two random records match is estimated to be  0.00326.\n",
            "This means that amongst all possible pairwise record comparisons, one in 306.48 are expected to match.  With 250,000 total possible comparisons, we expect a total of around 815.71 matching pairs\n"
          ]
        }
      ],
      "source": [
        "from splink.blocking_rule_library import block_on, BlockingRuleCreator\n",
        "\n",
        "deterministic_rules = [\n",
        "    \"l.first_name = r.first_name and levenshtein(r.dob, l.dob) <= 1\",\n",
        "    \"l.surname = r.surname and levenshtein(r.dob, l.dob) <= 1\",\n",
        "    \"l.first_name = r.first_name and levenshtein(r.surname, l.surname) <= 2\",\n",
        "    block_on(\"email\"),\n",
        "]\n",
        "\n",
        "# TODO: estimate_probability_two_random_records_match should accept\n",
        "# BlockingRuleCreator objects\n",
        "deterministic_rules = [\n",
        "    br.get_blocking_rule(\"duckdb\") if isinstance(br, BlockingRuleCreator) else br\n",
        "    for br in deterministic_rules\n",
        "]\n",
        "\n",
        "linker.estimate_probability_two_random_records_match(deterministic_rules, recall=0.7)"
      ]
    },
    {
      "cell_type": "code",
      "execution_count": 6,
      "metadata": {
        "execution": {
          "iopub.execute_input": "2024-03-12T08:56:58.972606Z",
          "iopub.status.busy": "2024-03-12T08:56:58.972293Z",
          "iopub.status.idle": "2024-03-12T08:56:59.644255Z",
          "shell.execute_reply": "2024-03-12T08:56:59.643049Z"
        }
      },
      "outputs": [
        {
          "name": "stderr",
          "output_type": "stream",
          "text": [
            "----- Estimating u probabilities using random sampling -----\n"
          ]
        },
        {
          "name": "stderr",
          "output_type": "stream",
          "text": [
            "\n",
            "Estimated u probabilities using random sampling\n"
          ]
        },
        {
          "name": "stderr",
          "output_type": "stream",
          "text": [
            "\n",
            "Your model is not yet fully trained. Missing estimates for:\n",
            "    - first_name (no m values are trained).\n",
            "    - surname (no m values are trained).\n",
            "    - dob (no m values are trained).\n",
            "    - city (no m values are trained).\n",
            "    - email (no m values are trained).\n"
          ]
        }
      ],
      "source": [
        "linker.estimate_u_using_random_sampling(max_pairs=1e6, seed=1)"
      ]
    },
    {
      "cell_type": "code",
      "execution_count": 7,
      "metadata": {
        "execution": {
          "iopub.execute_input": "2024-03-12T08:56:59.648629Z",
          "iopub.status.busy": "2024-03-12T08:56:59.648253Z",
          "iopub.status.idle": "2024-03-12T08:57:01.383133Z",
          "shell.execute_reply": "2024-03-12T08:57:01.382619Z"
        }
      },
      "outputs": [
        {
          "name": "stderr",
          "output_type": "stream",
          "text": [
            "\n",
            "----- Starting EM training session -----\n",
            "\n"
          ]
        },
        {
          "name": "stderr",
          "output_type": "stream",
          "text": [
            "Estimating the m probabilities of the model by blocking on:\n",
            "l.\"dob\" = r.\"dob\"\n",
            "\n",
            "Parameter estimates will be made for the following comparison(s):\n",
            "    - first_name\n",
            "    - surname\n",
            "    - city\n",
            "    - email\n",
            "\n",
            "Parameter estimates cannot be made for the following comparison(s) since they are used in the blocking rules: \n",
            "    - dob\n"
          ]
        },
        {
          "name": "stderr",
          "output_type": "stream",
          "text": [
            "\n"
          ]
        },
        {
          "name": "stderr",
          "output_type": "stream",
          "text": [
            "Iteration 1: Largest change in params was -0.423 in the m_probability of surname, level `Exact match on surname`\n"
          ]
        },
        {
          "name": "stderr",
          "output_type": "stream",
          "text": [
            "Iteration 2: Largest change in params was 0.116 in probability_two_random_records_match\n"
          ]
        },
        {
          "name": "stderr",
          "output_type": "stream",
          "text": [
            "Iteration 3: Largest change in params was 0.0328 in probability_two_random_records_match\n"
          ]
        },
        {
          "name": "stderr",
          "output_type": "stream",
          "text": [
            "Iteration 4: Largest change in params was 0.0114 in probability_two_random_records_match\n"
          ]
        },
        {
          "name": "stderr",
          "output_type": "stream",
          "text": [
            "Iteration 5: Largest change in params was 0.00467 in probability_two_random_records_match\n"
          ]
        },
        {
          "name": "stderr",
          "output_type": "stream",
          "text": [
            "Iteration 6: Largest change in params was 0.00214 in probability_two_random_records_match\n"
          ]
        },
        {
          "name": "stderr",
          "output_type": "stream",
          "text": [
            "Iteration 7: Largest change in params was 0.00119 in probability_two_random_records_match\n"
          ]
        },
        {
          "name": "stderr",
          "output_type": "stream",
          "text": [
            "Iteration 8: Largest change in params was 0.000988 in the m_probability of first_name, level `All other comparisons`\n"
          ]
        },
        {
          "name": "stderr",
          "output_type": "stream",
          "text": [
            "Iteration 9: Largest change in params was 0.00089 in the m_probability of first_name, level `All other comparisons`\n"
          ]
        },
        {
          "name": "stderr",
          "output_type": "stream",
          "text": [
            "Iteration 10: Largest change in params was 0.000656 in the m_probability of first_name, level `All other comparisons`\n"
          ]
        },
        {
          "name": "stderr",
          "output_type": "stream",
          "text": [
            "Iteration 11: Largest change in params was 0.000405 in the m_probability of first_name, level `All other comparisons`\n"
          ]
        },
        {
          "name": "stderr",
          "output_type": "stream",
          "text": [
            "Iteration 12: Largest change in params was 0.00023 in probability_two_random_records_match\n"
          ]
        },
        {
          "name": "stderr",
          "output_type": "stream",
          "text": [
            "Iteration 13: Largest change in params was 0.000126 in probability_two_random_records_match\n"
          ]
        },
        {
          "name": "stderr",
          "output_type": "stream",
          "text": [
            "Iteration 14: Largest change in params was 6.64e-05 in probability_two_random_records_match\n"
          ]
        },
        {
          "name": "stderr",
          "output_type": "stream",
          "text": [
            "\n",
            "EM converged after 14 iterations\n"
          ]
        },
        {
          "name": "stderr",
          "output_type": "stream",
          "text": [
            "\n",
            "Your model is not yet fully trained. Missing estimates for:\n",
            "    - dob (no m values are trained).\n"
          ]
        },
        {
          "name": "stderr",
          "output_type": "stream",
          "text": [
            "\n",
            "----- Starting EM training session -----\n",
            "\n"
          ]
        },
        {
          "name": "stderr",
          "output_type": "stream",
          "text": [
            "Estimating the m probabilities of the model by blocking on:\n",
            "l.\"email\" = r.\"email\"\n",
            "\n",
            "Parameter estimates will be made for the following comparison(s):\n",
            "    - first_name\n",
            "    - surname\n",
            "    - dob\n",
            "    - city\n",
            "\n",
            "Parameter estimates cannot be made for the following comparison(s) since they are used in the blocking rules: \n",
            "    - email\n"
          ]
        },
        {
          "name": "stderr",
          "output_type": "stream",
          "text": [
            "\n"
          ]
        },
        {
          "name": "stderr",
          "output_type": "stream",
          "text": [
            "Iteration 1: Largest change in params was -0.457 in the m_probability of dob, level `Exact match on dob`\n"
          ]
        },
        {
          "name": "stderr",
          "output_type": "stream",
          "text": [
            "Iteration 2: Largest change in params was 0.088 in probability_two_random_records_match\n"
          ]
        },
        {
          "name": "stderr",
          "output_type": "stream",
          "text": [
            "Iteration 3: Largest change in params was 0.0203 in probability_two_random_records_match\n"
          ]
        },
        {
          "name": "stderr",
          "output_type": "stream",
          "text": [
            "Iteration 4: Largest change in params was 0.00678 in probability_two_random_records_match\n"
          ]
        },
        {
          "name": "stderr",
          "output_type": "stream",
          "text": [
            "Iteration 5: Largest change in params was 0.00272 in probability_two_random_records_match\n"
          ]
        },
        {
          "name": "stderr",
          "output_type": "stream",
          "text": [
            "Iteration 6: Largest change in params was 0.00124 in probability_two_random_records_match\n"
          ]
        },
        {
          "name": "stderr",
          "output_type": "stream",
          "text": [
            "Iteration 7: Largest change in params was 0.000605 in probability_two_random_records_match\n"
          ]
        },
        {
          "name": "stderr",
          "output_type": "stream",
          "text": [
            "Iteration 8: Largest change in params was 0.00031 in probability_two_random_records_match\n"
          ]
        },
        {
          "name": "stderr",
          "output_type": "stream",
          "text": [
            "Iteration 9: Largest change in params was 0.000163 in probability_two_random_records_match\n"
          ]
        },
        {
          "name": "stderr",
          "output_type": "stream",
          "text": [
            "Iteration 10: Largest change in params was 8.68e-05 in probability_two_random_records_match\n"
          ]
        },
        {
          "name": "stderr",
          "output_type": "stream",
          "text": [
            "\n",
            "EM converged after 10 iterations\n"
          ]
        },
        {
          "name": "stderr",
          "output_type": "stream",
          "text": [
            "\n",
            "Your model is fully trained. All comparisons have at least one estimate for their m and u values\n"
          ]
        },
        {
          "name": "stderr",
          "output_type": "stream",
          "text": [
            "\n",
            "----- Starting EM training session -----\n",
            "\n"
          ]
        },
        {
          "name": "stderr",
          "output_type": "stream",
          "text": [
            "Estimating the m probabilities of the model by blocking on:\n",
            "l.\"first_name\" = r.\"first_name\"\n",
            "\n",
            "Parameter estimates will be made for the following comparison(s):\n",
            "    - surname\n",
            "    - dob\n",
            "    - city\n",
            "    - email\n",
            "\n",
            "Parameter estimates cannot be made for the following comparison(s) since they are used in the blocking rules: \n",
            "    - first_name\n"
          ]
        },
        {
          "name": "stderr",
          "output_type": "stream",
          "text": [
            "\n"
          ]
        },
        {
          "name": "stderr",
          "output_type": "stream",
          "text": [
            "Iteration 1: Largest change in params was 0.19 in the m_probability of surname, level `Exact match on surname`\n"
          ]
        },
        {
          "name": "stderr",
          "output_type": "stream",
          "text": [
            "Iteration 2: Largest change in params was -0.00908 in the m_probability of surname, level `All other comparisons`\n"
          ]
        },
        {
          "name": "stderr",
          "output_type": "stream",
          "text": [
            "Iteration 3: Largest change in params was -0.00135 in the m_probability of surname, level `All other comparisons`\n"
          ]
        },
        {
          "name": "stderr",
          "output_type": "stream",
          "text": [
            "Iteration 4: Largest change in params was -0.000242 in the m_probability of surname, level `All other comparisons`\n"
          ]
        },
        {
          "name": "stderr",
          "output_type": "stream",
          "text": [
            "Iteration 5: Largest change in params was 5.77e-05 in the m_probability of email, level `All other comparisons`\n"
          ]
        },
        {
          "name": "stderr",
          "output_type": "stream",
          "text": [
            "\n",
            "EM converged after 5 iterations\n"
          ]
        },
        {
          "name": "stderr",
          "output_type": "stream",
          "text": [
            "\n",
            "Your model is fully trained. All comparisons have at least one estimate for their m and u values\n"
          ]
        }
      ],
      "source": [
        "session_dob = linker.estimate_parameters_using_expectation_maximisation(block_on(\"dob\"))\n",
        "session_email = linker.estimate_parameters_using_expectation_maximisation(\n",
        "    block_on(\"email\")\n",
        ")\n",
        "session_first_name = linker.estimate_parameters_using_expectation_maximisation(\n",
        "    block_on(\"first_name\")\n",
        ")"
      ]
    },
    {
      "cell_type": "code",
      "execution_count": 8,
      "metadata": {
        "execution": {
          "iopub.execute_input": "2024-03-12T08:57:01.385985Z",
          "iopub.status.busy": "2024-03-12T08:57:01.385767Z",
          "iopub.status.idle": "2024-03-12T08:57:01.673295Z",
          "shell.execute_reply": "2024-03-12T08:57:01.672246Z"
        }
      },
      "outputs": [],
      "source": [
        "results = linker.predict(threshold_match_probability=0.9)"
      ]
    },
    {
      "cell_type": "code",
      "execution_count": 9,
      "metadata": {
        "execution": {
          "iopub.execute_input": "2024-03-12T08:57:01.677224Z",
          "iopub.status.busy": "2024-03-12T08:57:01.676936Z",
          "iopub.status.idle": "2024-03-12T08:57:01.696335Z",
          "shell.execute_reply": "2024-03-12T08:57:01.695659Z"
        }
      },
      "outputs": [
        {
          "data": {
            "text/html": [
              "<div>\n",
              "<style scoped>\n",
              "    .dataframe tbody tr th:only-of-type {\n",
              "        vertical-align: middle;\n",
              "    }\n",
              "\n",
              "    .dataframe tbody tr th {\n",
              "        vertical-align: top;\n",
              "    }\n",
              "\n",
              "    .dataframe thead th {\n",
              "        text-align: right;\n",
              "    }\n",
              "</style>\n",
              "<table border=\"1\" class=\"dataframe\">\n",
              "  <thead>\n",
              "    <tr style=\"text-align: right;\">\n",
              "      <th></th>\n",
              "      <th>match_weight</th>\n",
              "      <th>match_probability</th>\n",
              "      <th>source_dataset_l</th>\n",
              "      <th>source_dataset_r</th>\n",
              "      <th>unique_id_l</th>\n",
              "      <th>unique_id_r</th>\n",
              "      <th>first_name_l</th>\n",
              "      <th>first_name_r</th>\n",
              "      <th>gamma_first_name</th>\n",
              "      <th>surname_l</th>\n",
              "      <th>...</th>\n",
              "      <th>dob_l</th>\n",
              "      <th>dob_r</th>\n",
              "      <th>gamma_dob</th>\n",
              "      <th>city_l</th>\n",
              "      <th>city_r</th>\n",
              "      <th>gamma_city</th>\n",
              "      <th>email_l</th>\n",
              "      <th>email_r</th>\n",
              "      <th>gamma_email</th>\n",
              "      <th>match_key</th>\n",
              "    </tr>\n",
              "  </thead>\n",
              "  <tbody>\n",
              "    <tr>\n",
              "      <th>0</th>\n",
              "      <td>3.177090</td>\n",
              "      <td>0.900446</td>\n",
              "      <td>df_left</td>\n",
              "      <td>df_right</td>\n",
              "      <td>525</td>\n",
              "      <td>526</td>\n",
              "      <td>George</td>\n",
              "      <td>George</td>\n",
              "      <td>3</td>\n",
              "      <td>None</td>\n",
              "      <td>...</td>\n",
              "      <td>1980-06-29</td>\n",
              "      <td>1980-06-30</td>\n",
              "      <td>3</td>\n",
              "      <td>None</td>\n",
              "      <td>Lndon</td>\n",
              "      <td>-1</td>\n",
              "      <td>None</td>\n",
              "      <td>go94@brndshaw-saaders.com</td>\n",
              "      <td>-1</td>\n",
              "      <td>0</td>\n",
              "    </tr>\n",
              "    <tr>\n",
              "      <th>1</th>\n",
              "      <td>3.184537</td>\n",
              "      <td>0.900908</td>\n",
              "      <td>df_left</td>\n",
              "      <td>df_right</td>\n",
              "      <td>998</td>\n",
              "      <td>997</td>\n",
              "      <td>Oliver</td>\n",
              "      <td>Oliver</td>\n",
              "      <td>3</td>\n",
              "      <td>Bird</td>\n",
              "      <td>...</td>\n",
              "      <td>2000-02-27</td>\n",
              "      <td>2000-01-27</td>\n",
              "      <td>4</td>\n",
              "      <td>None</td>\n",
              "      <td>Reading</td>\n",
              "      <td>-1</td>\n",
              "      <td>oliver.b@smith.net</td>\n",
              "      <td>o.b@smith.net</td>\n",
              "      <td>0</td>\n",
              "      <td>0</td>\n",
              "    </tr>\n",
              "    <tr>\n",
              "      <th>2</th>\n",
              "      <td>3.195257</td>\n",
              "      <td>0.901569</td>\n",
              "      <td>df_left</td>\n",
              "      <td>df_right</td>\n",
              "      <td>532</td>\n",
              "      <td>531</td>\n",
              "      <td>ssouiL</td>\n",
              "      <td>Louis</td>\n",
              "      <td>0</td>\n",
              "      <td>Adams</td>\n",
              "      <td>...</td>\n",
              "      <td>1997-09-08</td>\n",
              "      <td>1987-09-11</td>\n",
              "      <td>1</td>\n",
              "      <td>London</td>\n",
              "      <td>None</td>\n",
              "      <td>-1</td>\n",
              "      <td>louis.a@mtrtinez.neea</td>\n",
              "      <td>louis.a@martinez.net</td>\n",
              "      <td>2</td>\n",
              "      <td>1</td>\n",
              "    </tr>\n",
              "    <tr>\n",
              "      <th>3</th>\n",
              "      <td>3.374982</td>\n",
              "      <td>0.912085</td>\n",
              "      <td>df_left</td>\n",
              "      <td>df_right</td>\n",
              "      <td>325</td>\n",
              "      <td>324</td>\n",
              "      <td>Kai</td>\n",
              "      <td>Kai</td>\n",
              "      <td>3</td>\n",
              "      <td>Turner</td>\n",
              "      <td>...</td>\n",
              "      <td>2008-12-03</td>\n",
              "      <td>2018-12-31</td>\n",
              "      <td>0</td>\n",
              "      <td>London</td>\n",
              "      <td>London</td>\n",
              "      <td>1</td>\n",
              "      <td>k.t50@hernandez.com</td>\n",
              "      <td>k.t50eherand@z.ncom</td>\n",
              "      <td>1</td>\n",
              "      <td>0</td>\n",
              "    </tr>\n",
              "    <tr>\n",
              "      <th>4</th>\n",
              "      <td>3.829434</td>\n",
              "      <td>0.934279</td>\n",
              "      <td>df_left</td>\n",
              "      <td>df_right</td>\n",
              "      <td>941</td>\n",
              "      <td>11</td>\n",
              "      <td>Isabelle</td>\n",
              "      <td>Isla</td>\n",
              "      <td>1</td>\n",
              "      <td>Hall</td>\n",
              "      <td>...</td>\n",
              "      <td>1984-11-20</td>\n",
              "      <td>1985-02-07</td>\n",
              "      <td>2</td>\n",
              "      <td>Swansea</td>\n",
              "      <td>None</td>\n",
              "      <td>-1</td>\n",
              "      <td>None</td>\n",
              "      <td>islahall97@gutierrez-bennett.com</td>\n",
              "      <td>-1</td>\n",
              "      <td>1</td>\n",
              "    </tr>\n",
              "  </tbody>\n",
              "</table>\n",
              "<p>5 rows × 22 columns</p>\n",
              "</div>"
            ],
            "text/plain": [
              "   match_weight  match_probability source_dataset_l source_dataset_r  \\\n",
              "0      3.177090           0.900446          df_left         df_right   \n",
              "1      3.184537           0.900908          df_left         df_right   \n",
              "2      3.195257           0.901569          df_left         df_right   \n",
              "3      3.374982           0.912085          df_left         df_right   \n",
              "4      3.829434           0.934279          df_left         df_right   \n",
              "\n",
              "   unique_id_l  unique_id_r first_name_l first_name_r  gamma_first_name  \\\n",
              "0          525          526       George       George                 3   \n",
              "1          998          997       Oliver       Oliver                 3   \n",
              "2          532          531       ssouiL        Louis                 0   \n",
              "3          325          324          Kai          Kai                 3   \n",
              "4          941           11     Isabelle         Isla                 1   \n",
              "\n",
              "  surname_l  ...       dob_l       dob_r gamma_dob   city_l   city_r  \\\n",
              "0      None  ...  1980-06-29  1980-06-30         3     None    Lndon   \n",
              "1      Bird  ...  2000-02-27  2000-01-27         4     None  Reading   \n",
              "2     Adams  ...  1997-09-08  1987-09-11         1   London     None   \n",
              "3    Turner  ...  2008-12-03  2018-12-31         0   London   London   \n",
              "4      Hall  ...  1984-11-20  1985-02-07         2  Swansea     None   \n",
              "\n",
              "  gamma_city                email_l                           email_r  \\\n",
              "0         -1                   None         go94@brndshaw-saaders.com   \n",
              "1         -1     oliver.b@smith.net                     o.b@smith.net   \n",
              "2         -1  louis.a@mtrtinez.neea              louis.a@martinez.net   \n",
              "3          1    k.t50@hernandez.com               k.t50eherand@z.ncom   \n",
              "4         -1                   None  islahall97@gutierrez-bennett.com   \n",
              "\n",
              "  gamma_email match_key  \n",
              "0          -1         0  \n",
              "1           0         0  \n",
              "2           2         1  \n",
              "3           1         0  \n",
              "4          -1         1  \n",
              "\n",
              "[5 rows x 22 columns]"
            ]
          },
          "execution_count": 9,
          "metadata": {},
          "output_type": "execute_result"
        }
      ],
      "source": [
        "results.as_pandas_dataframe(limit=5)"
      ]
    }
  ],
  "metadata": {
    "kernelspec": {
      "display_name": "Python 3 (ipykernel)",
      "language": "python",
      "name": "python3"
    },
    "language_info": {
      "codemirror_mode": {
        "name": "ipython",
        "version": 3
      },
      "file_extension": ".py",
      "mimetype": "text/x-python",
      "name": "python",
      "nbconvert_exporter": "python",
      "pygments_lexer": "ipython3",
      "version": "3.10.8"
    }
  },
  "nbformat": 4,
  "nbformat_minor": 4
}