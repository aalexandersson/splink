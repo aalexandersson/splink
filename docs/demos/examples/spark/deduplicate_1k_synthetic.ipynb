{
  "cells": [
    {
      "attachments": {},
      "cell_type": "markdown",
      "metadata": {},
      "source": [
        "## Linking in Spark\n"
      ]
    },
    {
      "cell_type": "markdown",
      "metadata": {},
      "source": [
        "<a target=\"_blank\" href=\"https://colab.research.google.com/github/moj-analytical-services/splink/blob/splink4_dev/docs/demos/examples/spark/deduplicate_1k_synthetic.ipynb\">\n",
        "  <img src=\"https://colab.research.google.com/assets/colab-badge.svg\" alt=\"Open In Colab\"/>\n",
        "</a>\n"
      ]
    },
    {
      "cell_type": "code",
      "execution_count": 1,
      "metadata": {
        "execution": {
          "iopub.execute_input": "2024-03-12T09:04:53.456665Z",
          "iopub.status.busy": "2024-03-12T09:04:53.456368Z",
          "iopub.status.idle": "2024-03-12T09:04:53.461842Z",
          "shell.execute_reply": "2024-03-12T09:04:53.461201Z"
        }
      },
      "outputs": [],
      "source": [
        "# Uncomment and run this cell if you're running in Google Colab.\n",
        "# !pip install git+https://github.com/moj-analytical-services/splink.git@splink4_dev\n",
        "# !pip install pyspark"
      ]
    },
    {
      "cell_type": "code",
      "execution_count": 2,
      "metadata": {
        "execution": {
          "iopub.execute_input": "2024-03-12T09:04:53.465300Z",
          "iopub.status.busy": "2024-03-12T09:04:53.465049Z",
          "iopub.status.idle": "2024-03-12T09:05:32.810188Z",
          "shell.execute_reply": "2024-03-12T09:05:32.809335Z"
        }
      },
      "outputs": [
        {
          "name": "stderr",
          "output_type": "stream",
          "text": [
            "24/03/12 09:05:20 WARN NativeCodeLoader: Unable to load native-hadoop library for your platform... using builtin-java classes where applicable\n"
          ]
        },
        {
          "name": "stderr",
          "output_type": "stream",
          "text": [
            "Setting default log level to \"WARN\".\n",
            "To adjust logging level use sc.setLogLevel(newLevel). For SparkR, use setLogLevel(newLevel).\n"
          ]
        }
      ],
      "source": [
        "from splink.spark.jar_location import similarity_jar_location\n",
        "\n",
        "from pyspark import SparkContext, SparkConf\n",
        "from pyspark.sql import SparkSession\n",
        "from pyspark.sql import types\n",
        "\n",
        "conf = SparkConf()\n",
        "# This parallelism setting is only suitable for a small toy example\n",
        "conf.set(\"spark.driver.memory\", \"12g\")\n",
        "conf.set(\"spark.default.parallelism\", \"16\")\n",
        "\n",
        "\n",
        "# Add custom similarity functions, which are bundled with Splink\n",
        "# documented here: https://github.com/moj-analytical-services/splink_scalaudfs\n",
        "path = similarity_jar_location()\n",
        "conf.set(\"spark.jars\", path)\n",
        "\n",
        "sc = SparkContext.getOrCreate(conf=conf)\n",
        "\n",
        "spark = SparkSession(sc)\n",
        "spark.sparkContext.setCheckpointDir(\"./tmp_checkpoints\")"
      ]
    },
    {
      "cell_type": "code",
      "execution_count": 3,
      "metadata": {
        "execution": {
          "iopub.execute_input": "2024-03-12T09:05:32.814503Z",
          "iopub.status.busy": "2024-03-12T09:05:32.814098Z",
          "iopub.status.idle": "2024-03-12T09:05:32.819698Z",
          "shell.execute_reply": "2024-03-12T09:05:32.818436Z"
        }
      },
      "outputs": [],
      "source": [
        "# Disable warnings for pyspark - you don't need to include this\n",
        "import warnings\n",
        "\n",
        "spark.sparkContext.setLogLevel(\"ERROR\")\n",
        "warnings.simplefilter(\"ignore\", UserWarning)"
      ]
    },
    {
      "cell_type": "code",
      "execution_count": 4,
      "metadata": {
        "execution": {
          "iopub.execute_input": "2024-03-12T09:05:32.823924Z",
          "iopub.status.busy": "2024-03-12T09:05:32.823572Z",
          "iopub.status.idle": "2024-03-12T09:05:36.342389Z",
          "shell.execute_reply": "2024-03-12T09:05:36.341616Z"
        }
      },
      "outputs": [],
      "source": [
        "from splink.datasets import splink_datasets\n",
        "\n",
        "pandas_df = splink_datasets.fake_1000\n",
        "\n",
        "df = spark.createDataFrame(pandas_df)"
      ]
    },
    {
      "cell_type": "code",
      "execution_count": 5,
      "metadata": {
        "execution": {
          "iopub.execute_input": "2024-03-12T09:05:36.346780Z",
          "iopub.status.busy": "2024-03-12T09:05:36.346446Z",
          "iopub.status.idle": "2024-03-12T09:05:37.077626Z",
          "shell.execute_reply": "2024-03-12T09:05:37.076914Z"
        }
      },
      "outputs": [],
      "source": [
        "import splink.comparison_library as cl\n",
        "import splink.comparison_template_library as ctl\n",
        "from splink.blocking_rule_library import block_on\n",
        "from splink.settings_creator import SettingsCreator\n",
        "\n",
        "settings = SettingsCreator(\n",
        "    link_type=\"dedupe_only\",\n",
        "    comparisons=[\n",
        "        ctl.NameComparison(\"first_name\"),\n",
        "        ctl.NameComparison(\"surname\"),\n",
        "        # ctl.date_comparison(\"dob\", cast_strings_to_date=True),\n",
        "        # TOD=Fix date comparison\n",
        "        ctl.DateComparison(\n",
        "            \"dob\",\n",
        "            input_is_string=True,\n",
        "            datetime_metrics=[\"month\", \"year\", \"year\"],\n",
        "            datetime_thresholds=[1, 1, 10],\n",
        "            datetime_format=\"%Y%m%d\",\n",
        "        ),\n",
        "        cl.ExactMatch(\"city\").configure(term_frequency_adjustments=True),\n",
        "        ctl.EmailComparison(\"email\", include_username_fuzzy_level=False),\n",
        "    ],\n",
        "    blocking_rules_to_generate_predictions=[\n",
        "        block_on(\"first_name\"),\n",
        "        \"l.surname = r.surname\",  # alternatively, you can write BRs in their SQL form\n",
        "    ],\n",
        "    retain_intermediate_calculation_columns=True,\n",
        "    em_convergence=0.01,\n",
        ")"
      ]
    },
    {
      "cell_type": "code",
      "execution_count": 6,
      "metadata": {
        "execution": {
          "iopub.execute_input": "2024-03-12T09:05:37.081509Z",
          "iopub.status.busy": "2024-03-12T09:05:37.081156Z",
          "iopub.status.idle": "2024-03-12T09:05:47.406248Z",
          "shell.execute_reply": "2024-03-12T09:05:47.404824Z"
        }
      },
      "outputs": [
        {
          "name": "stderr",
          "output_type": "stream",
          "text": [
            "\r",
            "[Stage 0:>                                                        (0 + 12) / 16]\r"
          ]
        },
        {
          "name": "stderr",
          "output_type": "stream",
          "text": [
            "\r",
            "[Stage 0:==========================================>              (12 + 4) / 16]\r"
          ]
        },
        {
          "name": "stderr",
          "output_type": "stream",
          "text": [
            "\r",
            "                                                                                \r"
          ]
        },
        {
          "name": "stderr",
          "output_type": "stream",
          "text": [
            "\r",
            "[Stage 3:======>          (6 + 10) / 16][Stage 4:>                 (0 + 2) / 16]\r"
          ]
        },
        {
          "name": "stderr",
          "output_type": "stream",
          "text": [
            "\r",
            "[Stage 3:==>(12 + 4) / 16][Stage 4:>   (0 + 8) / 16][Stage 5:>   (0 + 0) / 16]\r",
            "\r",
            "[Stage 3:==>(15 + 1) / 16][Stage 4:>  (0 + 11) / 16][Stage 5:>   (0 + 0) / 16]\r"
          ]
        },
        {
          "name": "stderr",
          "output_type": "stream",
          "text": [
            "\r",
            "[Stage 4:>  (2 + 12) / 16][Stage 5:>   (0 + 0) / 16][Stage 6:>   (0 + 0) / 16]\r"
          ]
        },
        {
          "name": "stderr",
          "output_type": "stream",
          "text": [
            "\r",
            "[Stage 4:=>  (7 + 9) / 16][Stage 5:>   (0 + 3) / 16][Stage 6:>   (0 + 0) / 16]\r"
          ]
        },
        {
          "name": "stderr",
          "output_type": "stream",
          "text": [
            "\r",
            "[Stage 4:==> (8 + 8) / 16][Stage 5:>   (0 + 4) / 16][Stage 6:>   (0 + 0) / 16]\r"
          ]
        },
        {
          "name": "stderr",
          "output_type": "stream",
          "text": [
            "\r",
            "[Stage 4:==>(14 + 2) / 16][Stage 5:>  (0 + 10) / 16][Stage 6:>   (0 + 0) / 16]\r"
          ]
        },
        {
          "name": "stderr",
          "output_type": "stream",
          "text": [
            "\r",
            "[Stage 5:>  (4 + 12) / 16][Stage 6:>   (0 + 0) / 16][Stage 8:>    (0 + 0) / 1]\r"
          ]
        },
        {
          "name": "stderr",
          "output_type": "stream",
          "text": [
            "\r",
            "[Stage 5:=> (6 + 10) / 16][Stage 6:>   (0 + 2) / 16][Stage 8:>    (0 + 0) / 1]\r"
          ]
        },
        {
          "name": "stderr",
          "output_type": "stream",
          "text": [
            "\r",
            "[Stage 5:=> (10 + 6) / 16][Stage 6:>   (0 + 6) / 16][Stage 8:>    (0 + 0) / 1]\r"
          ]
        },
        {
          "name": "stderr",
          "output_type": "stream",
          "text": [
            "\r",
            "[Stage 6:>  (0 + 12) / 16][Stage 8:>    (0 + 0) / 1][Stage 10:>   (0 + 0) / 1]\r"
          ]
        },
        {
          "name": "stderr",
          "output_type": "stream",
          "text": [
            "\r",
            "                                                                                \r"
          ]
        },
        {
          "name": "stderr",
          "output_type": "stream",
          "text": [
            "Probability two random records match is estimated to be  0.0806.\n",
            "This means that amongst all possible pairwise record comparisons, one in 12.41 are expected to match.  With 499,500 total possible comparisons, we expect a total of around 40,246.67 matching pairs\n"
          ]
        }
      ],
      "source": [
        "from splink.linker import Linker\n",
        "from splink.spark.database_api import SparkAPI\n",
        "\n",
        "linker = Linker(df, settings, database_api=SparkAPI(spark_session=spark))\n",
        "deterministic_rules = [\n",
        "    \"l.first_name = r.first_name and levenshtein(r.dob, l.dob) <= 1\",\n",
        "    \"l.surname = r.surname and levenshtein(r.dob, l.dob) <= 1\",\n",
        "    \"l.first_name = r.first_name and levenshtein(r.surname, l.surname) <= 2\",\n",
        "    \"l.email = r.email\",\n",
        "]\n",
        "\n",
        "linker.estimate_probability_two_random_records_match(deterministic_rules, recall=0.6)"
      ]
    },
    {
      "cell_type": "code",
      "execution_count": 7,
      "metadata": {
        "execution": {
          "iopub.execute_input": "2024-03-12T09:05:47.414760Z",
          "iopub.status.busy": "2024-03-12T09:05:47.414352Z",
          "iopub.status.idle": "2024-03-12T09:06:07.335692Z",
          "shell.execute_reply": "2024-03-12T09:06:07.334320Z"
        }
      },
      "outputs": [
        {
          "name": "stderr",
          "output_type": "stream",
          "text": [
            "----- Estimating u probabilities using random sampling -----\n"
          ]
        },
        {
          "name": "stderr",
          "output_type": "stream",
          "text": [
            "\r",
            "[Stage 39:=====================>                                  (6 + 10) / 16]\r"
          ]
        },
        {
          "name": "stderr",
          "output_type": "stream",
          "text": [
            "\r",
            "[Stage 39:===========>    (11 + 5) / 16][Stage 40:>                (0 + 7) / 16]\r",
            "\r",
            "[Stage 39:=============>  (13 + 3) / 16][Stage 40:===>             (3 + 9) / 16]\r"
          ]
        },
        {
          "name": "stderr",
          "output_type": "stream",
          "text": [
            "\r",
            "[Stage 40:========================>                                (7 + 9) / 16]\r"
          ]
        },
        {
          "name": "stderr",
          "output_type": "stream",
          "text": [
            "\r",
            "                                                                                \r"
          ]
        },
        {
          "name": "stderr",
          "output_type": "stream",
          "text": [
            "\r",
            "[Stage 50:>                                                       (0 + 12) / 25]\r"
          ]
        },
        {
          "name": "stderr",
          "output_type": "stream",
          "text": [
            "\r",
            "[Stage 50:========================>                              (11 + 12) / 25]\r",
            "\r",
            "[Stage 50:=====================================================>  (24 + 1) / 25]\r"
          ]
        },
        {
          "name": "stderr",
          "output_type": "stream",
          "text": [
            "\r",
            "                                                                                \r"
          ]
        },
        {
          "name": "stderr",
          "output_type": "stream",
          "text": [
            "\r",
            "[Stage 56:============>                                           (3 + 10) / 13]\r"
          ]
        },
        {
          "name": "stderr",
          "output_type": "stream",
          "text": [
            "\r",
            "[Stage 56:=>(11 + 2) / 13][Stage 57:> (0 + 10) / 13][Stage 58:>  (0 + 0) / 13]\r",
            "\r",
            "[Stage 57:=>(11 + 2) / 13][Stage 58:> (0 + 10) / 13][Stage 59:>  (0 + 0) / 13]\r"
          ]
        },
        {
          "name": "stderr",
          "output_type": "stream",
          "text": [
            "\r",
            "[Stage 58:==>(9 + 4) / 13][Stage 59:>  (0 + 8) / 13][Stage 60:>  (0 + 0) / 13]\r",
            "\r",
            "[Stage 59:=> (5 + 8) / 13][Stage 60:>  (0 + 4) / 13][Stage 62:>  (0 + 0) / 25]\r"
          ]
        },
        {
          "name": "stderr",
          "output_type": "stream",
          "text": [
            "\r",
            "[Stage 60:=> (6 + 7) / 13][Stage 62:=>(20 + 5) / 25][Stage 64:>  (0 + 0) / 25]\r",
            "\r",
            "                                                                                \r"
          ]
        },
        {
          "name": "stderr",
          "output_type": "stream",
          "text": [
            "\r",
            "[Stage 72:>               (0 + 12) / 25][Stage 74:>                (0 + 0) / 25]\r"
          ]
        },
        {
          "name": "stderr",
          "output_type": "stream",
          "text": [
            "\r",
            "[Stage 72:> (0 + 12) / 25][Stage 74:>  (0 + 0) / 25][Stage 76:>  (0 + 0) / 25]\r",
            "\r",
            "[Stage 72:> (4 + 12) / 25][Stage 74:>  (0 + 0) / 25][Stage 76:>  (0 + 0) / 25]\r"
          ]
        },
        {
          "name": "stderr",
          "output_type": "stream",
          "text": [
            "\r",
            "[Stage 72:>(12 + 12) / 25][Stage 74:>  (0 + 0) / 25][Stage 76:>  (0 + 0) / 25]\r",
            "\r",
            "                                                                                \r"
          ]
        },
        {
          "name": "stderr",
          "output_type": "stream",
          "text": [
            "\r",
            "[Stage 76:>(13 + 12) / 25][Stage 78:>  (0 + 0) / 25][Stage 80:>  (0 + 0) / 25]\r",
            "\r",
            "[Stage 78:> (0 + 12) / 25][Stage 80:>  (0 + 0) / 25][Stage 82:>  (0 + 0) / 25]\r"
          ]
        },
        {
          "name": "stderr",
          "output_type": "stream",
          "text": [
            "\r",
            "[Stage 78:> (3 + 12) / 25][Stage 80:>  (0 + 0) / 25][Stage 82:>  (0 + 0) / 25]\r"
          ]
        },
        {
          "name": "stderr",
          "output_type": "stream",
          "text": [
            "\r",
            "[Stage 78:> (4 + 12) / 25][Stage 80:>  (0 + 0) / 25][Stage 82:>  (0 + 0) / 25]\r",
            "\r",
            "[Stage 78:> (6 + 12) / 25][Stage 80:>  (0 + 0) / 25][Stage 82:>  (0 + 0) / 25]\r"
          ]
        },
        {
          "name": "stderr",
          "output_type": "stream",
          "text": [
            "\r",
            "[Stage 78:> (7 + 12) / 25][Stage 80:>  (0 + 0) / 25][Stage 82:>  (0 + 0) / 25]\r",
            "\r",
            "[Stage 78:>(12 + 12) / 25][Stage 80:>  (0 + 0) / 25][Stage 82:>  (0 + 0) / 25]\r"
          ]
        },
        {
          "name": "stderr",
          "output_type": "stream",
          "text": [
            "\r",
            "[Stage 78:>(14 + 11) / 25][Stage 80:>  (0 + 1) / 25][Stage 82:>  (0 + 0) / 25]\r",
            "\r",
            "[Stage 78:=>(16 + 9) / 25][Stage 80:>  (3 + 3) / 25][Stage 82:>  (0 + 0) / 25]\r"
          ]
        },
        {
          "name": "stderr",
          "output_type": "stream",
          "text": [
            "\r",
            "[Stage 78:=>(17 + 8) / 25][Stage 80:>  (7 + 4) / 25][Stage 82:>  (0 + 0) / 25]\r"
          ]
        },
        {
          "name": "stderr",
          "output_type": "stream",
          "text": [
            "\r",
            "[Stage 78:=>(19 + 6) / 25][Stage 80:=>(16 + 6) / 25][Stage 82:>  (0 + 0) / 25]\r",
            "\r",
            "[Stage 78:=>(20 + 5) / 25][Stage 82:>  (0 + 7) / 25][Stage 84:>  (0 + 0) / 25]\r"
          ]
        },
        {
          "name": "stderr",
          "output_type": "stream",
          "text": [
            "\r",
            "[Stage 78:=>(23 + 2) / 25][Stage 82:> (0 + 10) / 25][Stage 84:>  (0 + 0) / 25]\r"
          ]
        },
        {
          "name": "stderr",
          "output_type": "stream",
          "text": [
            "\r",
            "[Stage 78:=>(24 + 1) / 25][Stage 82:> (0 + 11) / 25][Stage 84:>  (0 + 0) / 25]\r"
          ]
        },
        {
          "name": "stderr",
          "output_type": "stream",
          "text": [
            "\r",
            "[Stage 78:=>(24 + 1) / 25][Stage 82:> (2 + 11) / 25][Stage 84:>  (0 + 0) / 25]\r",
            "\r",
            "[Stage 78:=>(24 + 1) / 25][Stage 82:> (7 + 11) / 25][Stage 84:>  (0 + 0) / 25]\r"
          ]
        },
        {
          "name": "stderr",
          "output_type": "stream",
          "text": [
            "\r",
            "[Stage 78:=>(24 + 1) / 25][Stage 82:>(10 + 11) / 25][Stage 84:>  (0 + 0) / 25]\r"
          ]
        },
        {
          "name": "stderr",
          "output_type": "stream",
          "text": [
            "\r",
            "[Stage 78:=>(24 + 1) / 25][Stage 82:>(11 + 11) / 25][Stage 84:>  (0 + 0) / 25]\r"
          ]
        },
        {
          "name": "stderr",
          "output_type": "stream",
          "text": [
            "\r",
            "[Stage 78:=>(24 + 1) / 25][Stage 82:=>(16 + 9) / 25][Stage 84:>  (0 + 2) / 25]\r"
          ]
        },
        {
          "name": "stderr",
          "output_type": "stream",
          "text": [
            "\r",
            "[Stage 78:=>(24 + 1) / 25][Stage 82:=>(20 + 5) / 25][Stage 84:=>(16 + 6) / 25]\r"
          ]
        },
        {
          "name": "stderr",
          "output_type": "stream",
          "text": [
            "\r",
            "[Stage 78:===============>(24 + 1) / 25][Stage 82:===============>(24 + 1) / 25]\r"
          ]
        },
        {
          "name": "stderr",
          "output_type": "stream",
          "text": [
            "\r",
            "                                                                                \r"
          ]
        },
        {
          "name": "stderr",
          "output_type": "stream",
          "text": [
            "\n",
            "Estimated u probabilities using random sampling\n"
          ]
        },
        {
          "name": "stderr",
          "output_type": "stream",
          "text": [
            "\n",
            "Your model is not yet fully trained. Missing estimates for:\n",
            "    - first_name (no m values are trained).\n",
            "    - surname (no m values are trained).\n",
            "    - dob (no m values are trained).\n",
            "    - city (no m values are trained).\n",
            "    - email (no m values are trained).\n"
          ]
        }
      ],
      "source": [
        "linker.estimate_u_using_random_sampling(max_pairs=5e5)"
      ]
    },
    {
      "cell_type": "code",
      "execution_count": 8,
      "metadata": {
        "execution": {
          "iopub.execute_input": "2024-03-12T09:06:07.340829Z",
          "iopub.status.busy": "2024-03-12T09:06:07.340451Z",
          "iopub.status.idle": "2024-03-12T09:06:28.857414Z",
          "shell.execute_reply": "2024-03-12T09:06:28.856182Z"
        }
      },
      "outputs": [
        {
          "name": "stderr",
          "output_type": "stream",
          "text": [
            "\n",
            "----- Starting EM training session -----\n",
            "\n"
          ]
        },
        {
          "name": "stderr",
          "output_type": "stream",
          "text": [
            "Estimating the m probabilities of the model by blocking on:\n",
            "l.first_name = r.first_name and l.surname = r.surname\n",
            "\n",
            "Parameter estimates will be made for the following comparison(s):\n",
            "    - dob\n",
            "    - city\n",
            "    - email\n",
            "\n",
            "Parameter estimates cannot be made for the following comparison(s) since they are used in the blocking rules: \n",
            "    - first_name\n",
            "    - surname\n"
          ]
        },
        {
          "name": "stderr",
          "output_type": "stream",
          "text": [
            "\r",
            "[Stage 101:===================>                                 (37 + 12) / 100]\r"
          ]
        },
        {
          "name": "stderr",
          "output_type": "stream",
          "text": [
            "\r",
            "[Stage 101:=========================>                           (49 + 12) / 100]\r"
          ]
        },
        {
          "name": "stderr",
          "output_type": "stream",
          "text": [
            "\r",
            "[Stage 101:=================================>                   (64 + 12) / 100]\r",
            "\r",
            "[Stage 101:=========================================>           (78 + 12) / 100]\r"
          ]
        },
        {
          "name": "stderr",
          "output_type": "stream",
          "text": [
            "\r",
            "[Stage 101:===============================================>     (90 + 10) / 100]\r",
            "\r",
            "                                                                                \r"
          ]
        },
        {
          "name": "stderr",
          "output_type": "stream",
          "text": [
            "\n"
          ]
        },
        {
          "name": "stderr",
          "output_type": "stream",
          "text": [
            "\r",
            "[Stage 104:==============>(14 + 1) / 15][Stage 105:====>          (4 + 11) / 15]\r"
          ]
        },
        {
          "name": "stderr",
          "output_type": "stream",
          "text": [
            "\r",
            "[Stage 105:=============> (13 + 2) / 15][Stage 106:=>             (1 + 10) / 15]\r"
          ]
        },
        {
          "name": "stderr",
          "output_type": "stream",
          "text": [
            "\r",
            "[Stage 106:==============>(14 + 1) / 15][Stage 107:===>           (3 + 11) / 15]\r"
          ]
        },
        {
          "name": "stderr",
          "output_type": "stream",
          "text": [
            "\r",
            "                                                                                \r",
            "Iteration 1: Largest change in params was -0.697 in probability_two_random_records_match\n"
          ]
        },
        {
          "name": "stderr",
          "output_type": "stream",
          "text": [
            "\r",
            "[Stage 114:===================================================>   (14 + 1) / 15]\r"
          ]
        },
        {
          "name": "stderr",
          "output_type": "stream",
          "text": [
            "\r",
            "                                                                                \r",
            "Iteration 2: Largest change in params was 0.0565 in the m_probability of email, level `All other comparisons`\n"
          ]
        },
        {
          "name": "stderr",
          "output_type": "stream",
          "text": [
            "Iteration 3: Largest change in params was 0.019 in the m_probability of email, level `All other comparisons`\n"
          ]
        },
        {
          "name": "stderr",
          "output_type": "stream",
          "text": [
            "\r",
            "[Stage 131:=================================>                      (9 + 6) / 15]\r"
          ]
        },
        {
          "name": "stderr",
          "output_type": "stream",
          "text": [
            "\r",
            "                                                                                \r",
            "Iteration 4: Largest change in params was 0.008 in the m_probability of email, level `All other comparisons`\n"
          ]
        },
        {
          "name": "stderr",
          "output_type": "stream",
          "text": [
            "\n",
            "EM converged after 4 iterations\n"
          ]
        },
        {
          "name": "stderr",
          "output_type": "stream",
          "text": [
            "\n",
            "Your model is not yet fully trained. Missing estimates for:\n",
            "    - first_name (no m values are trained).\n",
            "    - surname (no m values are trained).\n"
          ]
        },
        {
          "name": "stderr",
          "output_type": "stream",
          "text": [
            "\n",
            "----- Starting EM training session -----\n",
            "\n"
          ]
        },
        {
          "name": "stderr",
          "output_type": "stream",
          "text": [
            "Estimating the m probabilities of the model by blocking on:\n",
            "l.dob = r.dob\n",
            "\n",
            "Parameter estimates will be made for the following comparison(s):\n",
            "    - first_name\n",
            "    - surname\n",
            "    - city\n",
            "    - email\n",
            "\n",
            "Parameter estimates cannot be made for the following comparison(s) since they are used in the blocking rules: \n",
            "    - dob\n"
          ]
        },
        {
          "name": "stderr",
          "output_type": "stream",
          "text": [
            "\r",
            "[Stage 143:============>                                        (23 + 12) / 100]\r"
          ]
        },
        {
          "name": "stderr",
          "output_type": "stream",
          "text": [
            "\r",
            "[Stage 143:=================>                                   (33 + 13) / 100]\r"
          ]
        },
        {
          "name": "stderr",
          "output_type": "stream",
          "text": [
            "\r",
            "[Stage 143:========================>                            (47 + 12) / 100]\r"
          ]
        },
        {
          "name": "stderr",
          "output_type": "stream",
          "text": [
            "\r",
            "[Stage 143:=============================>                       (56 + 12) / 100]\r",
            "\r",
            "[Stage 143:====================================>                (68 + 12) / 100]\r"
          ]
        },
        {
          "name": "stderr",
          "output_type": "stream",
          "text": [
            "\r",
            "[Stage 143:==============================================>      (87 + 12) / 100]\r",
            "\r",
            "                                                                                \r"
          ]
        },
        {
          "name": "stderr",
          "output_type": "stream",
          "text": [
            "\n"
          ]
        },
        {
          "name": "stderr",
          "output_type": "stream",
          "text": [
            "\r",
            "[Stage 147:===================================================>   (14 + 1) / 15]\r"
          ]
        },
        {
          "name": "stderr",
          "output_type": "stream",
          "text": [
            "\r",
            "[Stage 148:> (7 + 8) / 15][Stage 149:> (0 + 4) / 15][Stage 150:> (0 + 0) / 15]\r"
          ]
        },
        {
          "name": "stderr",
          "output_type": "stream",
          "text": [
            "\r",
            "[Stage 149:====>          (4 + 11) / 15][Stage 150:>               (0 + 1) / 15]\r"
          ]
        },
        {
          "name": "stderr",
          "output_type": "stream",
          "text": [
            "\r",
            "[Stage 150:==================>                                    (5 + 10) / 15]\r"
          ]
        },
        {
          "name": "stderr",
          "output_type": "stream",
          "text": [
            "\r",
            "                                                                                \r",
            "Iteration 1: Largest change in params was -0.541 in the m_probability of surname, level `Exact match on surname`\n"
          ]
        },
        {
          "name": "stderr",
          "output_type": "stream",
          "text": [
            "Iteration 2: Largest change in params was 0.126 in probability_two_random_records_match\n"
          ]
        },
        {
          "name": "stderr",
          "output_type": "stream",
          "text": [
            "\r",
            "[Stage 169:> (6 + 9) / 15][Stage 170:> (0 + 3) / 15][Stage 171:> (0 + 0) / 15]\r",
            "\r",
            "[Stage 169:>(11 + 4) / 15][Stage 170:> (4 + 9) / 15][Stage 171:> (0 + 0) / 15]\r"
          ]
        },
        {
          "name": "stderr",
          "output_type": "stream",
          "text": [
            "\r",
            "[Stage 171:=================================>                      (9 + 6) / 15]\r"
          ]
        },
        {
          "name": "stderr",
          "output_type": "stream",
          "text": [
            "\r",
            "[Stage 172:============================================>          (12 + 3) / 15]\r",
            "\r",
            "                                                                                \r",
            "Iteration 3: Largest change in params was 0.0431 in probability_two_random_records_match\n"
          ]
        },
        {
          "name": "stderr",
          "output_type": "stream",
          "text": [
            "\r",
            "[Stage 182:==============>                                        (4 + 11) / 15]\r"
          ]
        },
        {
          "name": "stderr",
          "output_type": "stream",
          "text": [
            "\r",
            "                                                                                \r",
            "Iteration 4: Largest change in params was 0.0178 in probability_two_random_records_match\n"
          ]
        },
        {
          "name": "stderr",
          "output_type": "stream",
          "text": [
            "Iteration 5: Largest change in params was 0.00899 in probability_two_random_records_match\n"
          ]
        },
        {
          "name": "stderr",
          "output_type": "stream",
          "text": [
            "\n",
            "EM converged after 5 iterations\n"
          ]
        },
        {
          "name": "stderr",
          "output_type": "stream",
          "text": [
            "\n",
            "Your model is fully trained. All comparisons have at least one estimate for their m and u values\n"
          ]
        }
      ],
      "source": [
        "training_blocking_rule = \"l.first_name = r.first_name and l.surname = r.surname\"\n",
        "training_session_fname_sname = (\n",
        "    linker.estimate_parameters_using_expectation_maximisation(training_blocking_rule)\n",
        ")\n",
        "\n",
        "training_blocking_rule = \"l.dob = r.dob\"\n",
        "training_session_dob = linker.estimate_parameters_using_expectation_maximisation(\n",
        "    training_blocking_rule\n",
        ")"
      ]
    },
    {
      "cell_type": "code",
      "execution_count": 9,
      "metadata": {
        "execution": {
          "iopub.execute_input": "2024-03-12T09:06:28.861452Z",
          "iopub.status.busy": "2024-03-12T09:06:28.861148Z",
          "iopub.status.idle": "2024-03-12T09:06:35.656519Z",
          "shell.execute_reply": "2024-03-12T09:06:35.655165Z"
        }
      },
      "outputs": [
        {
          "name": "stderr",
          "output_type": "stream",
          "text": [
            "\r",
            "[Stage 203:>                                                      (0 + 12) / 26]\r"
          ]
        },
        {
          "name": "stderr",
          "output_type": "stream",
          "text": [
            "\r",
            "[Stage 203:====>                                                  (2 + 12) / 26]\r"
          ]
        },
        {
          "name": "stderr",
          "output_type": "stream",
          "text": [
            "\r",
            "[Stage 203:======>                                                (3 + 12) / 26]\r"
          ]
        },
        {
          "name": "stderr",
          "output_type": "stream",
          "text": [
            "\r",
            "[Stage 203:==============>                                        (7 + 12) / 26]\r"
          ]
        },
        {
          "name": "stderr",
          "output_type": "stream",
          "text": [
            "\r",
            "[Stage 203:======================>                               (11 + 12) / 26]\r"
          ]
        },
        {
          "name": "stderr",
          "output_type": "stream",
          "text": [
            "\r",
            "[Stage 203:=============================>                        (14 + 12) / 26]\r"
          ]
        },
        {
          "name": "stderr",
          "output_type": "stream",
          "text": [
            "\r",
            "[Stage 203:===============================>                      (15 + 11) / 26]\r"
          ]
        },
        {
          "name": "stderr",
          "output_type": "stream",
          "text": [
            "\r",
            "[Stage 203:=================================>                    (16 + 10) / 26]\r"
          ]
        },
        {
          "name": "stderr",
          "output_type": "stream",
          "text": [
            "\r",
            "[Stage 203:==========================================>            (20 + 6) / 26]\r"
          ]
        },
        {
          "name": "stderr",
          "output_type": "stream",
          "text": [
            "\r",
            "[Stage 205:=============>                                       (25 + 12) / 100]\r",
            "\r",
            "[Stage 205:====================>                                (39 + 12) / 100]\r"
          ]
        },
        {
          "name": "stderr",
          "output_type": "stream",
          "text": [
            "\r",
            "[Stage 205:===============================>                     (60 + 12) / 100]\r"
          ]
        },
        {
          "name": "stderr",
          "output_type": "stream",
          "text": [
            "\r",
            "[Stage 205:====================================>                (69 + 12) / 100]\r"
          ]
        },
        {
          "name": "stderr",
          "output_type": "stream",
          "text": [
            "\r",
            "[Stage 205:=============================================>       (86 + 12) / 100]\r",
            "\r",
            "                                                                                \r"
          ]
        }
      ],
      "source": [
        "results = linker.predict(threshold_match_probability=0.9)"
      ]
    },
    {
      "cell_type": "code",
      "execution_count": 10,
      "metadata": {
        "execution": {
          "iopub.execute_input": "2024-03-12T09:06:35.662655Z",
          "iopub.status.busy": "2024-03-12T09:06:35.662287Z",
          "iopub.status.idle": "2024-03-12T09:06:35.786568Z",
          "shell.execute_reply": "2024-03-12T09:06:35.785597Z"
        },
        "tags": []
      },
      "outputs": [
        {
          "data": {
            "text/html": [
              "<div>\n",
              "<style scoped>\n",
              "    .dataframe tbody tr th:only-of-type {\n",
              "        vertical-align: middle;\n",
              "    }\n",
              "\n",
              "    .dataframe tbody tr th {\n",
              "        vertical-align: top;\n",
              "    }\n",
              "\n",
              "    .dataframe thead th {\n",
              "        text-align: right;\n",
              "    }\n",
              "</style>\n",
              "<table border=\"1\" class=\"dataframe\">\n",
              "  <thead>\n",
              "    <tr style=\"text-align: right;\">\n",
              "      <th></th>\n",
              "      <th>match_weight</th>\n",
              "      <th>match_probability</th>\n",
              "      <th>unique_id_l</th>\n",
              "      <th>unique_id_r</th>\n",
              "      <th>first_name_l</th>\n",
              "      <th>first_name_r</th>\n",
              "      <th>gamma_first_name</th>\n",
              "      <th>bf_first_name</th>\n",
              "      <th>surname_l</th>\n",
              "      <th>surname_r</th>\n",
              "      <th>...</th>\n",
              "      <th>gamma_city</th>\n",
              "      <th>tf_city_l</th>\n",
              "      <th>tf_city_r</th>\n",
              "      <th>bf_city</th>\n",
              "      <th>bf_tf_adj_city</th>\n",
              "      <th>email_l</th>\n",
              "      <th>email_r</th>\n",
              "      <th>gamma_email</th>\n",
              "      <th>bf_email</th>\n",
              "      <th>match_key</th>\n",
              "    </tr>\n",
              "  </thead>\n",
              "  <tbody>\n",
              "    <tr>\n",
              "      <th>0</th>\n",
              "      <td>3.173593</td>\n",
              "      <td>0.900229</td>\n",
              "      <td>55</td>\n",
              "      <td>775</td>\n",
              "      <td>NaN</td>\n",
              "      <td>NaN</td>\n",
              "      <td>3</td>\n",
              "      <td>11.44555</td>\n",
              "      <td>Bennett</td>\n",
              "      <td>Armstrong</td>\n",
              "      <td>...</td>\n",
              "      <td>0</td>\n",
              "      <td>0.013</td>\n",
              "      <td>0.008</td>\n",
              "      <td>0.624788</td>\n",
              "      <td>1.000000</td>\n",
              "      <td>NaN</td>\n",
              "      <td>NaN</td>\n",
              "      <td>3</td>\n",
              "      <td>8.472959</td>\n",
              "      <td>0</td>\n",
              "    </tr>\n",
              "    <tr>\n",
              "      <th>1</th>\n",
              "      <td>17.726005</td>\n",
              "      <td>0.999995</td>\n",
              "      <td>591</td>\n",
              "      <td>592</td>\n",
              "      <td>Jacob</td>\n",
              "      <td>Jacob</td>\n",
              "      <td>3</td>\n",
              "      <td>11.44555</td>\n",
              "      <td>Riley</td>\n",
              "      <td>Riley</td>\n",
              "      <td>...</td>\n",
              "      <td>1</td>\n",
              "      <td>0.033</td>\n",
              "      <td>0.033</td>\n",
              "      <td>5.890233</td>\n",
              "      <td>2.159371</td>\n",
              "      <td>j.riley9@bennett.net</td>\n",
              "      <td>j.riley9@bennett.net</td>\n",
              "      <td>3</td>\n",
              "      <td>8.472959</td>\n",
              "      <td>0</td>\n",
              "    </tr>\n",
              "    <tr>\n",
              "      <th>2</th>\n",
              "      <td>10.735695</td>\n",
              "      <td>0.999414</td>\n",
              "      <td>159</td>\n",
              "      <td>161</td>\n",
              "      <td>Holly</td>\n",
              "      <td>Holly</td>\n",
              "      <td>3</td>\n",
              "      <td>11.44555</td>\n",
              "      <td>NaN</td>\n",
              "      <td>NaN</td>\n",
              "      <td>...</td>\n",
              "      <td>1</td>\n",
              "      <td>0.173</td>\n",
              "      <td>0.173</td>\n",
              "      <td>5.890233</td>\n",
              "      <td>0.411903</td>\n",
              "      <td>NaN</td>\n",
              "      <td>hollythomson3@levine-jones.com</td>\n",
              "      <td>0</td>\n",
              "      <td>0.349361</td>\n",
              "      <td>0</td>\n",
              "    </tr>\n",
              "    <tr>\n",
              "      <th>3</th>\n",
              "      <td>16.497132</td>\n",
              "      <td>0.999989</td>\n",
              "      <td>54</td>\n",
              "      <td>56</td>\n",
              "      <td>Jayden</td>\n",
              "      <td>Jayden</td>\n",
              "      <td>3</td>\n",
              "      <td>11.44555</td>\n",
              "      <td>Bennett</td>\n",
              "      <td>Bennett</td>\n",
              "      <td>...</td>\n",
              "      <td>1</td>\n",
              "      <td>0.013</td>\n",
              "      <td>0.013</td>\n",
              "      <td>5.890233</td>\n",
              "      <td>5.481481</td>\n",
              "      <td>jb88@king.com</td>\n",
              "      <td>jb88@king.com</td>\n",
              "      <td>3</td>\n",
              "      <td>8.472959</td>\n",
              "      <td>0</td>\n",
              "    </tr>\n",
              "    <tr>\n",
              "      <th>4</th>\n",
              "      <td>13.974473</td>\n",
              "      <td>0.999938</td>\n",
              "      <td>66</td>\n",
              "      <td>67</td>\n",
              "      <td>Adam</td>\n",
              "      <td>Adam</td>\n",
              "      <td>3</td>\n",
              "      <td>11.44555</td>\n",
              "      <td>NaN</td>\n",
              "      <td>Jonse</td>\n",
              "      <td>...</td>\n",
              "      <td>0</td>\n",
              "      <td>0.016</td>\n",
              "      <td>0.187</td>\n",
              "      <td>0.624788</td>\n",
              "      <td>1.000000</td>\n",
              "      <td>ajones-@cortez6wilcox.com</td>\n",
              "      <td>ajones6@cortez-wilcox.com</td>\n",
              "      <td>1</td>\n",
              "      <td>252.763068</td>\n",
              "      <td>0</td>\n",
              "    </tr>\n",
              "  </tbody>\n",
              "</table>\n",
              "<p>5 rows × 28 columns</p>\n",
              "</div>"
            ],
            "text/plain": [
              "   match_weight  match_probability  unique_id_l  unique_id_r first_name_l  \\\n",
              "0      3.173593           0.900229           55          775          NaN   \n",
              "1     17.726005           0.999995          591          592        Jacob   \n",
              "2     10.735695           0.999414          159          161        Holly   \n",
              "3     16.497132           0.999989           54           56       Jayden   \n",
              "4     13.974473           0.999938           66           67         Adam   \n",
              "\n",
              "  first_name_r  gamma_first_name  bf_first_name surname_l  surname_r  ...  \\\n",
              "0          NaN                 3       11.44555   Bennett  Armstrong  ...   \n",
              "1        Jacob                 3       11.44555     Riley      Riley  ...   \n",
              "2        Holly                 3       11.44555       NaN        NaN  ...   \n",
              "3       Jayden                 3       11.44555   Bennett    Bennett  ...   \n",
              "4         Adam                 3       11.44555       NaN      Jonse  ...   \n",
              "\n",
              "   gamma_city  tf_city_l tf_city_r   bf_city  bf_tf_adj_city  \\\n",
              "0           0      0.013     0.008  0.624788        1.000000   \n",
              "1           1      0.033     0.033  5.890233        2.159371   \n",
              "2           1      0.173     0.173  5.890233        0.411903   \n",
              "3           1      0.013     0.013  5.890233        5.481481   \n",
              "4           0      0.016     0.187  0.624788        1.000000   \n",
              "\n",
              "                     email_l                         email_r gamma_email  \\\n",
              "0                        NaN                             NaN           3   \n",
              "1       j.riley9@bennett.net            j.riley9@bennett.net           3   \n",
              "2                        NaN  hollythomson3@levine-jones.com           0   \n",
              "3              jb88@king.com                   jb88@king.com           3   \n",
              "4  ajones-@cortez6wilcox.com       ajones6@cortez-wilcox.com           1   \n",
              "\n",
              "     bf_email  match_key  \n",
              "0    8.472959          0  \n",
              "1    8.472959          0  \n",
              "2    0.349361          0  \n",
              "3    8.472959          0  \n",
              "4  252.763068          0  \n",
              "\n",
              "[5 rows x 28 columns]"
            ]
          },
          "execution_count": 10,
          "metadata": {},
          "output_type": "execute_result"
        }
      ],
      "source": [
        "results.as_pandas_dataframe(limit=5)"
      ]
    }
  ],
  "metadata": {
    "kernelspec": {
      "display_name": "Python 3 (ipykernel)",
      "language": "python",
      "name": "python3"
    },
    "language_info": {
      "codemirror_mode": {
        "name": "ipython",
        "version": 3
      },
      "file_extension": ".py",
      "mimetype": "text/x-python",
      "name": "python",
      "nbconvert_exporter": "python",
      "pygments_lexer": "ipython3",
      "version": "3.10.8"
    }
  },
  "nbformat": 4,
  "nbformat_minor": 4
}